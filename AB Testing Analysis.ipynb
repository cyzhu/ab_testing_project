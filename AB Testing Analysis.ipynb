{
 "cells": [
  {
   "cell_type": "markdown",
   "metadata": {},
   "source": [
    "# Structure of this document\n",
    "### [1. Overview of the experiment](#cell1)  \n",
    "\n",
    "### [2. Experiment Design](#cell2)\n",
    "- [2.1 Metric Choice](#cell21)\n",
    "- [2.2 Specify population](#cell22)\n",
    "- [2.3 Meature Standard Deviation](#cell23)\n",
    "- [2.4 Sizing](#cell24)\n",
    "    - [2.4.1 Determine Number of Samples Total](#cell241)\n",
    "    - [2.4.2 Determine Duration of experiment](#cell242)  \n",
    "\n",
    "### [3. Experiment Analysis](#cell3)\n",
    "- [3.1 Sanity Check](#cell31)\n",
    "- [3.2 Check for Practical and Statistical Significance](#cell32)\n",
    "- [3.3 Run Sign Tests](#cell33)\n",
    "- [3.4 Recommendation](#cell34)\n",
    "  - [3.4.1 Plot the daily data](#cell341)\n",
    "  - [3.4.2 Break the data by weekday/weekends](#cell342)\n",
    "  - [3.4.3 Additional ways to understand the experiment results](#cell343)\n",
    "- [3.5 Conclusion](#cell35)\n",
    "    \n",
    "---"
   ]
  },
  {
   "cell_type": "markdown",
   "metadata": {},
   "source": [
    "**Highlight of this work**\n",
    "- Theoratically understand and explain of AB test, how to get sample size, click [here](#cell_understand) to see details.\n",
    "- Recommendation and further possible analysis in [Section 3.4](#cell34)\n",
    "- Potential improvements for this type of experiment in the future\n",
    "  - Make sure enough data is collected, in this case Udacity should collected the past 14 days of enrollment and payment data as well.\n",
    "  - Do some analysis(e.g., retrospecive analysis) to see if we need to specify a slice of population.\n",
    "  - Consider run pre and post period AA test, especially considering the actual variability of evaluation metrics are much higher than the analytical variability. By doing pre period AA test, we'd be able to rule out the sources of variability caused by other unrelated factors.\n"
   ]
  },
  {
   "cell_type": "markdown",
   "metadata": {},
   "source": [
    "<a id='cell1'></a>\n",
    "## 1. Overview of the experiment\n",
    "Full instructions [here](https://docs.google.com/document/u/1/d/1aCquhIqsUApgsxQ8-SQBAigFDcfWVVohLEXcV6jWbdI/pub?embedded=True) \n",
    "\n",
    "**Summary**  \n",
    "Udacity, an online course platform, wants to test some change after users click \"Start free trial\".\n",
    "- Control: Users go through the process and complete enrollment of free trial.\n",
    "- Experiment: Users would be asked how long they'll commit to the course per week. If users answer less than 5 hours, a message pops up indicating that Udacity expects users to spend more than 5 hours per week. Then users are given two options—acknowledge the time expectation and continue enrollment, or choose to access materials for free.\n",
    "\n",
    "Hypothesis of this experiment  \n",
    "- This might set clearer expectations for students upfront, thus reducing the number of frustrated students who left the free trial because they didn't have enough time—without significantly reducing the number of students to continue past the free trial and eventually complete the course.\n",
    "\n",
    "Unit of diversion: Cookie  \n",
    "- If the student enrolls in the free trial, they are tracked by user-id from that point forward. \n",
    "- The same user-id cannot enroll in the free trial twice. \n",
    "- For users that do not enroll, their user-id is not tracked in the experiment, even if they were signed in when they visited the course overview page.\n",
    "\n",
    "---"
   ]
  },
  {
   "cell_type": "markdown",
   "metadata": {},
   "source": [
    "<a id='cell2'></a>\n",
    "## 2. Experiment Design\n"
   ]
  },
  {
   "cell_type": "markdown",
   "metadata": {},
   "source": [
    "<a id='cell21'></a>\n",
    "### 2.1 Metric Choice"
   ]
  },
  {
   "cell_type": "markdown",
   "metadata": {},
   "source": [
    "- **Invariant metrics**\n",
    "  - Number of cookies  \n",
    "    - That is, number of unique cookies to view the course overview page.\n",
    "    - dmin = 3000\n",
    "  - Number of clicks  \n",
    "    - That is, number of unique cookies to click the \"Start free trial\" button (which happens before the free trial screener is trigger). \n",
    "    - dmin = 240\n",
    "  - Click-through-probability  \n",
    "    - That is, number of unique cookies to click the \"Start free trial\" button divided by number of unique cookies to view the course overview page. \n",
    "    - dmin = 0.01\n",
    "  \n",
    "- **Evaluation metrics**\n",
    "  - Gross conversion  \n",
    "    - That is, number of user-ids to complete checkout and enroll in the free trial divided by number of unique cookies to click the \"Start free trial\" button. \n",
    "    - dmin = 0.01\n",
    "  - Retention  \n",
    "    - That is, number of user-ids to remain enrolled past the 14-day boundary (and thus make at least one payment) divided by number of user-ids to complete checkout. \n",
    "    - dmin = 0.01\n",
    "  - Net conversion  \n",
    "    - That is, number of user-ids to remain enrolled past the 14-day boundary (and thus make at least one payment) divided by the number of unique cookies to click the \"Start free trial\" button. \n",
    "    - dmin = 0.0075  \n",
    "\n",
    "_Notes:_\n",
    "- _All practical significance boundaries(dmin) are given as absolute changes._\n",
    "- _Any place \"unique cookies\" are mentioned, the uniqueness is determined by day._\n",
    "- _User-ids are automatically unique since the site does not allow the same user-id to enroll twice._\n",
    "\n",
    "---"
   ]
  },
  {
   "cell_type": "markdown",
   "metadata": {},
   "source": [
    "**Explaination**\n",
    "1. Given Unit of diversion is cookie, the number of cookies that view the course page should be randomized to assign to experiment/control group. Therefore it should be an invariant metric.\n",
    "2. Given that the change happens after user click \"Start free trial\", the amount of cookies that click should also be invariant.\n",
    "3. As for the metric *Number of user-ids*, because the user-id is not tracked in the experiment if the user does not enroll, the *Number of user-ids* would only record those who actually enroll. For enrollment the user will pass the different process between control and experiment, therefore it can't be used as an invariant metric.\n",
    "4. *Click-through-probability* = *Number of clicks* / *Number of cookies*, therefore it's invariant.\n",
    "5. I'd use *Net conversion* as the main evaluation metric, because the goal of the experiment is trying to recruit more users to keep using Udacity's service by helping users better understand the expectation of time commitment. Therefore, I expect the *Net conversion* would increase by the change of experiment.\n",
    "6. *Gross conversion* and *Retention* is also helpful on evaluation because it breaks the one metric *Net conversion* into two stages, as *Net conversion* = *Gross conversion* * *Retention*. Based on the hypothesis, the *Gross conversion* might drop a bit but shouldn't be too much. And *Retention* should increase by some significant amount.\n",
    "7. As we expect *Gross conversion* drops but hopefully not too much, in this case the practical significance boundary(dmin) to test should be revised to dmin = -0.01. And we hope that the result is not significant. If *Gross conversion* drops down too much, then we might want to consider if the users correctly receive/understand the message that Udacity wants to convey.\n",
    "\n",
    "---"
   ]
  },
  {
   "cell_type": "markdown",
   "metadata": {},
   "source": [
    "<a id='cell22'></a>\n",
    "### 2.2 Specify population\n",
    "It's not stated what population is chosen in this study in the instructions, but there're possibilities that some specific populations are much more influenced than others, e.g., there might be cultural differences of how many hours people like or can study per week.  \n",
    "\n",
    "In this study where the slice information is unknown and not specified ahead, I think it'd be useful to check the difference of count, rate, distribution in control/experiment groups by different slices, e.g., age group, country etc. To make sure that (1) the differences shown in the evaluation metrics is not contributed by these differences and (2) if there's differences, possibly find out what slices are most influenced by the change.\n"
   ]
  },
  {
   "cell_type": "markdown",
   "metadata": {},
   "source": [
    "<a id='cell23'></a>\n",
    "### 2.3 Meature Standard Deviation\n",
    "**Instructions**  \n",
    "Given a sample size of 5000 cookies visiting the course overview page, calculate the analytical standard deviation based on values from this [spreadsheet](https://docs.google.com/spreadsheets/d/1MYNUtC47Pg8hdoCjOXaHqF-thheGpUshrFA21BAJnNc/edit#gid=0).  \n",
    "\n",
    "(In case the link became invalid in the future, I made a local copy and read from there.)"
   ]
  },
  {
   "cell_type": "code",
   "execution_count": 98,
   "metadata": {},
   "outputs": [
    {
     "data": {
      "text/html": [
       "\n",
       "    <div class=\"bk-root\">\n",
       "        <a href=\"https://bokeh.org\" target=\"_blank\" class=\"bk-logo bk-logo-small bk-logo-notebook\"></a>\n",
       "        <span id=\"1001\">Loading BokehJS ...</span>\n",
       "    </div>"
      ]
     },
     "metadata": {},
     "output_type": "display_data"
    },
    {
     "data": {
      "application/javascript": [
       "\n",
       "(function(root) {\n",
       "  function now() {\n",
       "    return new Date();\n",
       "  }\n",
       "\n",
       "  var force = true;\n",
       "\n",
       "  if (typeof root._bokeh_onload_callbacks === \"undefined\" || force === true) {\n",
       "    root._bokeh_onload_callbacks = [];\n",
       "    root._bokeh_is_loading = undefined;\n",
       "  }\n",
       "\n",
       "  var JS_MIME_TYPE = 'application/javascript';\n",
       "  var HTML_MIME_TYPE = 'text/html';\n",
       "  var EXEC_MIME_TYPE = 'application/vnd.bokehjs_exec.v0+json';\n",
       "  var CLASS_NAME = 'output_bokeh rendered_html';\n",
       "\n",
       "  /**\n",
       "   * Render data to the DOM node\n",
       "   */\n",
       "  function render(props, node) {\n",
       "    var script = document.createElement(\"script\");\n",
       "    node.appendChild(script);\n",
       "  }\n",
       "\n",
       "  /**\n",
       "   * Handle when an output is cleared or removed\n",
       "   */\n",
       "  function handleClearOutput(event, handle) {\n",
       "    var cell = handle.cell;\n",
       "\n",
       "    var id = cell.output_area._bokeh_element_id;\n",
       "    var server_id = cell.output_area._bokeh_server_id;\n",
       "    // Clean up Bokeh references\n",
       "    if (id != null && id in Bokeh.index) {\n",
       "      Bokeh.index[id].model.document.clear();\n",
       "      delete Bokeh.index[id];\n",
       "    }\n",
       "\n",
       "    if (server_id !== undefined) {\n",
       "      // Clean up Bokeh references\n",
       "      var cmd = \"from bokeh.io.state import curstate; print(curstate().uuid_to_server['\" + server_id + \"'].get_sessions()[0].document.roots[0]._id)\";\n",
       "      cell.notebook.kernel.execute(cmd, {\n",
       "        iopub: {\n",
       "          output: function(msg) {\n",
       "            var id = msg.content.text.trim();\n",
       "            if (id in Bokeh.index) {\n",
       "              Bokeh.index[id].model.document.clear();\n",
       "              delete Bokeh.index[id];\n",
       "            }\n",
       "          }\n",
       "        }\n",
       "      });\n",
       "      // Destroy server and session\n",
       "      var cmd = \"import bokeh.io.notebook as ion; ion.destroy_server('\" + server_id + \"')\";\n",
       "      cell.notebook.kernel.execute(cmd);\n",
       "    }\n",
       "  }\n",
       "\n",
       "  /**\n",
       "   * Handle when a new output is added\n",
       "   */\n",
       "  function handleAddOutput(event, handle) {\n",
       "    var output_area = handle.output_area;\n",
       "    var output = handle.output;\n",
       "\n",
       "    // limit handleAddOutput to display_data with EXEC_MIME_TYPE content only\n",
       "    if ((output.output_type != \"display_data\") || (!output.data.hasOwnProperty(EXEC_MIME_TYPE))) {\n",
       "      return\n",
       "    }\n",
       "\n",
       "    var toinsert = output_area.element.find(\".\" + CLASS_NAME.split(' ')[0]);\n",
       "\n",
       "    if (output.metadata[EXEC_MIME_TYPE][\"id\"] !== undefined) {\n",
       "      toinsert[toinsert.length - 1].firstChild.textContent = output.data[JS_MIME_TYPE];\n",
       "      // store reference to embed id on output_area\n",
       "      output_area._bokeh_element_id = output.metadata[EXEC_MIME_TYPE][\"id\"];\n",
       "    }\n",
       "    if (output.metadata[EXEC_MIME_TYPE][\"server_id\"] !== undefined) {\n",
       "      var bk_div = document.createElement(\"div\");\n",
       "      bk_div.innerHTML = output.data[HTML_MIME_TYPE];\n",
       "      var script_attrs = bk_div.children[0].attributes;\n",
       "      for (var i = 0; i < script_attrs.length; i++) {\n",
       "        toinsert[toinsert.length - 1].firstChild.setAttribute(script_attrs[i].name, script_attrs[i].value);\n",
       "        toinsert[toinsert.length - 1].firstChild.textContent = bk_div.children[0].textContent\n",
       "      }\n",
       "      // store reference to server id on output_area\n",
       "      output_area._bokeh_server_id = output.metadata[EXEC_MIME_TYPE][\"server_id\"];\n",
       "    }\n",
       "  }\n",
       "\n",
       "  function register_renderer(events, OutputArea) {\n",
       "\n",
       "    function append_mime(data, metadata, element) {\n",
       "      // create a DOM node to render to\n",
       "      var toinsert = this.create_output_subarea(\n",
       "        metadata,\n",
       "        CLASS_NAME,\n",
       "        EXEC_MIME_TYPE\n",
       "      );\n",
       "      this.keyboard_manager.register_events(toinsert);\n",
       "      // Render to node\n",
       "      var props = {data: data, metadata: metadata[EXEC_MIME_TYPE]};\n",
       "      render(props, toinsert[toinsert.length - 1]);\n",
       "      element.append(toinsert);\n",
       "      return toinsert\n",
       "    }\n",
       "\n",
       "    /* Handle when an output is cleared or removed */\n",
       "    events.on('clear_output.CodeCell', handleClearOutput);\n",
       "    events.on('delete.Cell', handleClearOutput);\n",
       "\n",
       "    /* Handle when a new output is added */\n",
       "    events.on('output_added.OutputArea', handleAddOutput);\n",
       "\n",
       "    /**\n",
       "     * Register the mime type and append_mime function with output_area\n",
       "     */\n",
       "    OutputArea.prototype.register_mime_type(EXEC_MIME_TYPE, append_mime, {\n",
       "      /* Is output safe? */\n",
       "      safe: true,\n",
       "      /* Index of renderer in `output_area.display_order` */\n",
       "      index: 0\n",
       "    });\n",
       "  }\n",
       "\n",
       "  // register the mime type if in Jupyter Notebook environment and previously unregistered\n",
       "  if (root.Jupyter !== undefined) {\n",
       "    var events = require('base/js/events');\n",
       "    var OutputArea = require('notebook/js/outputarea').OutputArea;\n",
       "\n",
       "    if (OutputArea.prototype.mime_types().indexOf(EXEC_MIME_TYPE) == -1) {\n",
       "      register_renderer(events, OutputArea);\n",
       "    }\n",
       "  }\n",
       "\n",
       "  \n",
       "  if (typeof (root._bokeh_timeout) === \"undefined\" || force === true) {\n",
       "    root._bokeh_timeout = Date.now() + 5000;\n",
       "    root._bokeh_failed_load = false;\n",
       "  }\n",
       "\n",
       "  var NB_LOAD_WARNING = {'data': {'text/html':\n",
       "     \"<div style='background-color: #fdd'>\\n\"+\n",
       "     \"<p>\\n\"+\n",
       "     \"BokehJS does not appear to have successfully loaded. If loading BokehJS from CDN, this \\n\"+\n",
       "     \"may be due to a slow or bad network connection. Possible fixes:\\n\"+\n",
       "     \"</p>\\n\"+\n",
       "     \"<ul>\\n\"+\n",
       "     \"<li>re-rerun `output_notebook()` to attempt to load from CDN again, or</li>\\n\"+\n",
       "     \"<li>use INLINE resources instead, as so:</li>\\n\"+\n",
       "     \"</ul>\\n\"+\n",
       "     \"<code>\\n\"+\n",
       "     \"from bokeh.resources import INLINE\\n\"+\n",
       "     \"output_notebook(resources=INLINE)\\n\"+\n",
       "     \"</code>\\n\"+\n",
       "     \"</div>\"}};\n",
       "\n",
       "  function display_loaded() {\n",
       "    var el = document.getElementById(\"1001\");\n",
       "    if (el != null) {\n",
       "      el.textContent = \"BokehJS is loading...\";\n",
       "    }\n",
       "    if (root.Bokeh !== undefined) {\n",
       "      if (el != null) {\n",
       "        el.textContent = \"BokehJS \" + root.Bokeh.version + \" successfully loaded.\";\n",
       "      }\n",
       "    } else if (Date.now() < root._bokeh_timeout) {\n",
       "      setTimeout(display_loaded, 100)\n",
       "    }\n",
       "  }\n",
       "\n",
       "\n",
       "  function run_callbacks() {\n",
       "    try {\n",
       "      root._bokeh_onload_callbacks.forEach(function(callback) {\n",
       "        if (callback != null)\n",
       "          callback();\n",
       "      });\n",
       "    } finally {\n",
       "      delete root._bokeh_onload_callbacks\n",
       "    }\n",
       "    console.debug(\"Bokeh: all callbacks have finished\");\n",
       "  }\n",
       "\n",
       "  function load_libs(css_urls, js_urls, callback) {\n",
       "    if (css_urls == null) css_urls = [];\n",
       "    if (js_urls == null) js_urls = [];\n",
       "\n",
       "    root._bokeh_onload_callbacks.push(callback);\n",
       "    if (root._bokeh_is_loading > 0) {\n",
       "      console.debug(\"Bokeh: BokehJS is being loaded, scheduling callback at\", now());\n",
       "      return null;\n",
       "    }\n",
       "    if (js_urls == null || js_urls.length === 0) {\n",
       "      run_callbacks();\n",
       "      return null;\n",
       "    }\n",
       "    console.debug(\"Bokeh: BokehJS not loaded, scheduling load and callback at\", now());\n",
       "    root._bokeh_is_loading = css_urls.length + js_urls.length;\n",
       "\n",
       "    function on_load() {\n",
       "      root._bokeh_is_loading--;\n",
       "      if (root._bokeh_is_loading === 0) {\n",
       "        console.debug(\"Bokeh: all BokehJS libraries/stylesheets loaded\");\n",
       "        run_callbacks()\n",
       "      }\n",
       "    }\n",
       "\n",
       "    function on_error() {\n",
       "      console.error(\"failed to load \" + url);\n",
       "    }\n",
       "\n",
       "    for (var i = 0; i < css_urls.length; i++) {\n",
       "      var url = css_urls[i];\n",
       "      const element = document.createElement(\"link\");\n",
       "      element.onload = on_load;\n",
       "      element.onerror = on_error;\n",
       "      element.rel = \"stylesheet\";\n",
       "      element.type = \"text/css\";\n",
       "      element.href = url;\n",
       "      console.debug(\"Bokeh: injecting link tag for BokehJS stylesheet: \", url);\n",
       "      document.body.appendChild(element);\n",
       "    }\n",
       "\n",
       "    const hashes = {\"https://cdn.bokeh.org/bokeh/release/bokeh-2.2.1.min.js\": \"qkRvDQVAIfzsJo40iRBbxt6sttt0hv4lh74DG7OK4MCHv4C5oohXYoHUM5W11uqS\", \"https://cdn.bokeh.org/bokeh/release/bokeh-widgets-2.2.1.min.js\": \"Sb7Mr06a9TNlet/GEBeKaf5xH3eb6AlCzwjtU82wNPyDrnfoiVl26qnvlKjmcAd+\", \"https://cdn.bokeh.org/bokeh/release/bokeh-tables-2.2.1.min.js\": \"HaJ15vgfmcfRtB4c4YBOI4f1MUujukqInOWVqZJZZGK7Q+ivud0OKGSTn/Vm2iso\"};\n",
       "\n",
       "    for (var i = 0; i < js_urls.length; i++) {\n",
       "      var url = js_urls[i];\n",
       "      var element = document.createElement('script');\n",
       "      element.onload = on_load;\n",
       "      element.onerror = on_error;\n",
       "      element.async = false;\n",
       "      element.src = url;\n",
       "      if (url in hashes) {\n",
       "        element.crossOrigin = \"anonymous\";\n",
       "        element.integrity = \"sha384-\" + hashes[url];\n",
       "      }\n",
       "      console.debug(\"Bokeh: injecting script tag for BokehJS library: \", url);\n",
       "      document.head.appendChild(element);\n",
       "    }\n",
       "  };\n",
       "\n",
       "  function inject_raw_css(css) {\n",
       "    const element = document.createElement(\"style\");\n",
       "    element.appendChild(document.createTextNode(css));\n",
       "    document.body.appendChild(element);\n",
       "  }\n",
       "\n",
       "  \n",
       "  var js_urls = [\"https://cdn.bokeh.org/bokeh/release/bokeh-2.2.1.min.js\", \"https://cdn.bokeh.org/bokeh/release/bokeh-widgets-2.2.1.min.js\", \"https://cdn.bokeh.org/bokeh/release/bokeh-tables-2.2.1.min.js\"];\n",
       "  var css_urls = [];\n",
       "  \n",
       "\n",
       "  var inline_js = [\n",
       "    function(Bokeh) {\n",
       "      Bokeh.set_log_level(\"info\");\n",
       "    },\n",
       "    function(Bokeh) {\n",
       "    \n",
       "    \n",
       "    }\n",
       "  ];\n",
       "\n",
       "  function run_inline_js() {\n",
       "    \n",
       "    if (root.Bokeh !== undefined || force === true) {\n",
       "      \n",
       "    for (var i = 0; i < inline_js.length; i++) {\n",
       "      inline_js[i].call(root, root.Bokeh);\n",
       "    }\n",
       "    if (force === true) {\n",
       "        display_loaded();\n",
       "      }} else if (Date.now() < root._bokeh_timeout) {\n",
       "      setTimeout(run_inline_js, 100);\n",
       "    } else if (!root._bokeh_failed_load) {\n",
       "      console.log(\"Bokeh: BokehJS failed to load within specified timeout.\");\n",
       "      root._bokeh_failed_load = true;\n",
       "    } else if (force !== true) {\n",
       "      var cell = $(document.getElementById(\"1001\")).parents('.cell').data().cell;\n",
       "      cell.output_area.append_execute_result(NB_LOAD_WARNING)\n",
       "    }\n",
       "\n",
       "  }\n",
       "\n",
       "  if (root._bokeh_is_loading === 0) {\n",
       "    console.debug(\"Bokeh: BokehJS loaded, going straight to plotting\");\n",
       "    run_inline_js();\n",
       "  } else {\n",
       "    load_libs(css_urls, js_urls, function() {\n",
       "      console.debug(\"Bokeh: BokehJS plotting callback run at\", now());\n",
       "      run_inline_js();\n",
       "    });\n",
       "  }\n",
       "}(window));"
      ],
      "application/vnd.bokehjs_load.v0+json": "\n(function(root) {\n  function now() {\n    return new Date();\n  }\n\n  var force = true;\n\n  if (typeof root._bokeh_onload_callbacks === \"undefined\" || force === true) {\n    root._bokeh_onload_callbacks = [];\n    root._bokeh_is_loading = undefined;\n  }\n\n  \n\n  \n  if (typeof (root._bokeh_timeout) === \"undefined\" || force === true) {\n    root._bokeh_timeout = Date.now() + 5000;\n    root._bokeh_failed_load = false;\n  }\n\n  var NB_LOAD_WARNING = {'data': {'text/html':\n     \"<div style='background-color: #fdd'>\\n\"+\n     \"<p>\\n\"+\n     \"BokehJS does not appear to have successfully loaded. If loading BokehJS from CDN, this \\n\"+\n     \"may be due to a slow or bad network connection. Possible fixes:\\n\"+\n     \"</p>\\n\"+\n     \"<ul>\\n\"+\n     \"<li>re-rerun `output_notebook()` to attempt to load from CDN again, or</li>\\n\"+\n     \"<li>use INLINE resources instead, as so:</li>\\n\"+\n     \"</ul>\\n\"+\n     \"<code>\\n\"+\n     \"from bokeh.resources import INLINE\\n\"+\n     \"output_notebook(resources=INLINE)\\n\"+\n     \"</code>\\n\"+\n     \"</div>\"}};\n\n  function display_loaded() {\n    var el = document.getElementById(\"1001\");\n    if (el != null) {\n      el.textContent = \"BokehJS is loading...\";\n    }\n    if (root.Bokeh !== undefined) {\n      if (el != null) {\n        el.textContent = \"BokehJS \" + root.Bokeh.version + \" successfully loaded.\";\n      }\n    } else if (Date.now() < root._bokeh_timeout) {\n      setTimeout(display_loaded, 100)\n    }\n  }\n\n\n  function run_callbacks() {\n    try {\n      root._bokeh_onload_callbacks.forEach(function(callback) {\n        if (callback != null)\n          callback();\n      });\n    } finally {\n      delete root._bokeh_onload_callbacks\n    }\n    console.debug(\"Bokeh: all callbacks have finished\");\n  }\n\n  function load_libs(css_urls, js_urls, callback) {\n    if (css_urls == null) css_urls = [];\n    if (js_urls == null) js_urls = [];\n\n    root._bokeh_onload_callbacks.push(callback);\n    if (root._bokeh_is_loading > 0) {\n      console.debug(\"Bokeh: BokehJS is being loaded, scheduling callback at\", now());\n      return null;\n    }\n    if (js_urls == null || js_urls.length === 0) {\n      run_callbacks();\n      return null;\n    }\n    console.debug(\"Bokeh: BokehJS not loaded, scheduling load and callback at\", now());\n    root._bokeh_is_loading = css_urls.length + js_urls.length;\n\n    function on_load() {\n      root._bokeh_is_loading--;\n      if (root._bokeh_is_loading === 0) {\n        console.debug(\"Bokeh: all BokehJS libraries/stylesheets loaded\");\n        run_callbacks()\n      }\n    }\n\n    function on_error() {\n      console.error(\"failed to load \" + url);\n    }\n\n    for (var i = 0; i < css_urls.length; i++) {\n      var url = css_urls[i];\n      const element = document.createElement(\"link\");\n      element.onload = on_load;\n      element.onerror = on_error;\n      element.rel = \"stylesheet\";\n      element.type = \"text/css\";\n      element.href = url;\n      console.debug(\"Bokeh: injecting link tag for BokehJS stylesheet: \", url);\n      document.body.appendChild(element);\n    }\n\n    const hashes = {\"https://cdn.bokeh.org/bokeh/release/bokeh-2.2.1.min.js\": \"qkRvDQVAIfzsJo40iRBbxt6sttt0hv4lh74DG7OK4MCHv4C5oohXYoHUM5W11uqS\", \"https://cdn.bokeh.org/bokeh/release/bokeh-widgets-2.2.1.min.js\": \"Sb7Mr06a9TNlet/GEBeKaf5xH3eb6AlCzwjtU82wNPyDrnfoiVl26qnvlKjmcAd+\", \"https://cdn.bokeh.org/bokeh/release/bokeh-tables-2.2.1.min.js\": \"HaJ15vgfmcfRtB4c4YBOI4f1MUujukqInOWVqZJZZGK7Q+ivud0OKGSTn/Vm2iso\"};\n\n    for (var i = 0; i < js_urls.length; i++) {\n      var url = js_urls[i];\n      var element = document.createElement('script');\n      element.onload = on_load;\n      element.onerror = on_error;\n      element.async = false;\n      element.src = url;\n      if (url in hashes) {\n        element.crossOrigin = \"anonymous\";\n        element.integrity = \"sha384-\" + hashes[url];\n      }\n      console.debug(\"Bokeh: injecting script tag for BokehJS library: \", url);\n      document.head.appendChild(element);\n    }\n  };\n\n  function inject_raw_css(css) {\n    const element = document.createElement(\"style\");\n    element.appendChild(document.createTextNode(css));\n    document.body.appendChild(element);\n  }\n\n  \n  var js_urls = [\"https://cdn.bokeh.org/bokeh/release/bokeh-2.2.1.min.js\", \"https://cdn.bokeh.org/bokeh/release/bokeh-widgets-2.2.1.min.js\", \"https://cdn.bokeh.org/bokeh/release/bokeh-tables-2.2.1.min.js\"];\n  var css_urls = [];\n  \n\n  var inline_js = [\n    function(Bokeh) {\n      Bokeh.set_log_level(\"info\");\n    },\n    function(Bokeh) {\n    \n    \n    }\n  ];\n\n  function run_inline_js() {\n    \n    if (root.Bokeh !== undefined || force === true) {\n      \n    for (var i = 0; i < inline_js.length; i++) {\n      inline_js[i].call(root, root.Bokeh);\n    }\n    if (force === true) {\n        display_loaded();\n      }} else if (Date.now() < root._bokeh_timeout) {\n      setTimeout(run_inline_js, 100);\n    } else if (!root._bokeh_failed_load) {\n      console.log(\"Bokeh: BokehJS failed to load within specified timeout.\");\n      root._bokeh_failed_load = true;\n    } else if (force !== true) {\n      var cell = $(document.getElementById(\"1001\")).parents('.cell').data().cell;\n      cell.output_area.append_execute_result(NB_LOAD_WARNING)\n    }\n\n  }\n\n  if (root._bokeh_is_loading === 0) {\n    console.debug(\"Bokeh: BokehJS loaded, going straight to plotting\");\n    run_inline_js();\n  } else {\n    load_libs(css_urls, js_urls, function() {\n      console.debug(\"Bokeh: BokehJS plotting callback run at\", now());\n      run_inline_js();\n    });\n  }\n}(window));"
     },
     "metadata": {},
     "output_type": "display_data"
    }
   ],
   "source": [
    "import pandas as pd\n",
    "import numpy as np\n",
    "\n",
    "from math import sqrt,factorial\n",
    "from datetime import datetime\n",
    "import plotly.express as px\n",
    "\n",
    "from bokeh.plotting import figure, output_notebook, show\n",
    "from bokeh.palettes import Category10\n",
    "from bokeh.models import WheelZoomTool,ResetTool,PanTool\n",
    "\n",
    "output_notebook()"
   ]
  },
  {
   "cell_type": "code",
   "execution_count": 5,
   "metadata": {},
   "outputs": [
    {
     "data": {
      "text/html": [
       "<div>\n",
       "<style scoped>\n",
       "    .dataframe tbody tr th:only-of-type {\n",
       "        vertical-align: middle;\n",
       "    }\n",
       "\n",
       "    .dataframe tbody tr th {\n",
       "        vertical-align: top;\n",
       "    }\n",
       "\n",
       "    .dataframe thead th {\n",
       "        text-align: right;\n",
       "    }\n",
       "</style>\n",
       "<table border=\"1\" class=\"dataframe\">\n",
       "  <thead>\n",
       "    <tr style=\"text-align: right;\">\n",
       "      <th></th>\n",
       "      <th>0</th>\n",
       "      <th>1</th>\n",
       "    </tr>\n",
       "  </thead>\n",
       "  <tbody>\n",
       "    <tr>\n",
       "      <th>0</th>\n",
       "      <td>Unique cookies to view course overview page pe...</td>\n",
       "      <td>40000.000000</td>\n",
       "    </tr>\n",
       "    <tr>\n",
       "      <th>1</th>\n",
       "      <td>Unique cookies to click \"Start free trial\" per...</td>\n",
       "      <td>3200.000000</td>\n",
       "    </tr>\n",
       "    <tr>\n",
       "      <th>2</th>\n",
       "      <td>Enrollments per day:</td>\n",
       "      <td>660.000000</td>\n",
       "    </tr>\n",
       "    <tr>\n",
       "      <th>3</th>\n",
       "      <td>Click-through-probability on \"Start free trial\":</td>\n",
       "      <td>0.080000</td>\n",
       "    </tr>\n",
       "    <tr>\n",
       "      <th>4</th>\n",
       "      <td>Probability of enrolling, given click:</td>\n",
       "      <td>0.206250</td>\n",
       "    </tr>\n",
       "    <tr>\n",
       "      <th>5</th>\n",
       "      <td>Probability of payment, given enroll:</td>\n",
       "      <td>0.530000</td>\n",
       "    </tr>\n",
       "    <tr>\n",
       "      <th>6</th>\n",
       "      <td>Probability of payment, given click</td>\n",
       "      <td>0.109313</td>\n",
       "    </tr>\n",
       "  </tbody>\n",
       "</table>\n",
       "</div>"
      ],
      "text/plain": [
       "                                                   0             1\n",
       "0  Unique cookies to view course overview page pe...  40000.000000\n",
       "1  Unique cookies to click \"Start free trial\" per...   3200.000000\n",
       "2                               Enrollments per day:    660.000000\n",
       "3   Click-through-probability on \"Start free trial\":      0.080000\n",
       "4             Probability of enrolling, given click:      0.206250\n",
       "5              Probability of payment, given enroll:      0.530000\n",
       "6                Probability of payment, given click      0.109313"
      ]
     },
     "execution_count": 5,
     "metadata": {},
     "output_type": "execute_result"
    }
   ],
   "source": [
    "df_baseline = pd.read_csv(\"Final Project Baseline Values - Sheet1.csv\",header=None)\n",
    "df_baseline"
   ]
  },
  {
   "cell_type": "code",
   "execution_count": 80,
   "metadata": {},
   "outputs": [],
   "source": [
    "# Calculate the probability based on the baseline values\n",
    "p_click_through = df_baseline.iloc[1,1]/df_baseline.iloc[0,1]\n",
    "p_gross_conversion = df_baseline.iloc[2,1]/df_baseline.iloc[1,1]\n",
    "p_retention = df_baseline.iloc[5,1]\n",
    "p_net_conversion = p_gross_conversion*p_retention"
   ]
  },
  {
   "cell_type": "code",
   "execution_count": 81,
   "metadata": {},
   "outputs": [],
   "source": [
    "# Calculate the number of unit(the denominator) for each evaluation metric\n",
    "n_cookies = 5000\n",
    "n_click = n_cookies * p_click_through\n",
    "n_enroll = n_click * p_gross_conversion"
   ]
  },
  {
   "cell_type": "markdown",
   "metadata": {},
   "source": [
    "<a id='cell_std_analyticl'></a>\n",
    "**Analysis**  \n",
    "Given that this is a binomial distribution with the number of samples large enough to be treated as normal distribution, the formula to calculate the standard deviation is stdev = sqrt(p*(1-p)/N) where p is the probability and N is the number of unit(the denominator) for each evaluation metric"
   ]
  },
  {
   "cell_type": "code",
   "execution_count": 185,
   "metadata": {},
   "outputs": [
    {
     "data": {
      "text/html": [
       "<div>\n",
       "<style scoped>\n",
       "    .dataframe tbody tr th:only-of-type {\n",
       "        vertical-align: middle;\n",
       "    }\n",
       "\n",
       "    .dataframe tbody tr th {\n",
       "        vertical-align: top;\n",
       "    }\n",
       "\n",
       "    .dataframe thead th {\n",
       "        text-align: right;\n",
       "    }\n",
       "</style>\n",
       "<table border=\"1\" class=\"dataframe\">\n",
       "  <thead>\n",
       "    <tr style=\"text-align: right;\">\n",
       "      <th></th>\n",
       "      <th>Analytical standard deviation</th>\n",
       "    </tr>\n",
       "  </thead>\n",
       "  <tbody>\n",
       "    <tr>\n",
       "      <th>gross_conversion</th>\n",
       "      <td>0.0017</td>\n",
       "    </tr>\n",
       "    <tr>\n",
       "      <th>retention</th>\n",
       "      <td>0.0549</td>\n",
       "    </tr>\n",
       "    <tr>\n",
       "      <th>net_conversion</th>\n",
       "      <td>0.0013</td>\n",
       "    </tr>\n",
       "  </tbody>\n",
       "</table>\n",
       "</div>"
      ],
      "text/plain": [
       "                 Analytical standard deviation\n",
       "gross_conversion                        0.0017\n",
       "retention                               0.0549\n",
       "net_conversion                          0.0013"
      ]
     },
     "execution_count": 185,
     "metadata": {},
     "output_type": "execute_result"
    }
   ],
   "source": [
    "metric_list = ('gross_conversion','retention','net_conversion')\n",
    "p_list = (p_gross_conversion,p_retention,p_net_conversion)\n",
    "\n",
    "# initiate a dataframe to store the results\n",
    "analytical_std = pd.DataFrame(columns=['Analytical standard deviation'], index=metric_list)\n",
    "\n",
    "for m,p,n in zip(metric_list,p_list,(n_click,n_enroll,n_click)):\n",
    "    stdev = sqrt(p*(1-p)/n)\n",
    "    analytical_std.loc[m] = round(stdev,4)\n",
    "analytical_std"
   ]
  },
  {
   "cell_type": "markdown",
   "metadata": {},
   "source": [
    "**Analysis**  \n",
    "The analytical estimate of standard deviation should be similar to the empiracal estimate of standard deviation for the 3 chosen evaluation metrics, since the unit of analysis and unit of diversion are both cookies.  \n",
    "This analytical standard deviation is used later to estimate the required sample size for this experiment.\n",
    "\n",
    "---"
   ]
  },
  {
   "cell_type": "markdown",
   "metadata": {},
   "source": [
    "<a id='cell24'></a>\n",
    "### 2.4 Sizing"
   ]
  },
  {
   "cell_type": "markdown",
   "metadata": {},
   "source": [
    "<a id='cell241'></a>\n",
    "#### 2.4.1 Determine Number of Samples Total"
   ]
  },
  {
   "cell_type": "code",
   "execution_count": null,
   "metadata": {},
   "outputs": [],
   "source": [
    "# initiate a dataframe to store the sample size results, as I'll compare different methods\n",
    "column_names = [\"EvanMiller_online\", \"EvanMiller_formula\", \"HanshengWang_formula\",\"py_statsmodels\"]\n",
    "sample_size_compare = pd.DataFrame(columns=column_names, index=metric_list)\n",
    "sample_size_compare['EvanMiller_online'] = [np.nan,39115,27413]"
   ]
  },
  {
   "cell_type": "code",
   "execution_count": 180,
   "metadata": {},
   "outputs": [],
   "source": [
    "# Use EvanMiller's calculation formula: https://www.evanmiller.org/ab-testing/sample-size.html\n",
    "def get_sample_size_EvanMiller_formula(alpha,beta,p_baseline,dmin):\n",
    "    \"\"\"Sample size calculation try to be same as EvanMiller's.\n",
    "    \n",
    "    Input\n",
    "        alpha: False positive/Type I error, percentage to reject the null hypothesis while it shouldn't be rejected.\n",
    "        beta: False negative/Type II error, percentage to fail rejecting the null hypothesis while we should have.\n",
    "        p_baseline: baseline percentage for the event.\n",
    "        dmin: Practical significance level, absolute value.\n",
    "    \n",
    "    Output\n",
    "        sample_size: Required sample size per each group. Might not be an integer.\n",
    "    \"\"\"\n",
    "    from scipy.stats import norm\n",
    "    from math import sqrt\n",
    "    \n",
    "    z_alpha2 = norm.ppf(1.0-alpha/2)\n",
    "    z_beta = norm.ppf(1-beta)\n",
    "    p_experiment = p_baseline+dmin\n",
    "    stdev_alpha2 = sqrt(2*p_baseline*(1-p_baseline))\n",
    "    stdev_beta = sqrt(p_baseline*(1-p_baseline)+p_experiment*(1-p_experiment))\n",
    "    \n",
    "    return ((z_alpha2*stdev_alpha2+z_beta*stdev_beta)/dmin)**2"
   ]
  },
  {
   "cell_type": "code",
   "execution_count": 181,
   "metadata": {},
   "outputs": [],
   "source": [
    "alpha = 0.05\n",
    "beta = 0.2\n",
    "dmin_list = (-0.01,0.01,0.0075)\n",
    "\n",
    "col = 'EvanMiller_formula'\n",
    "for p,m,d in zip(p_list,metric_list,dmin_list):\n",
    "    sample_size_compare.loc[m,col] = round(get_sample_size_EvanMiller_formula(alpha,beta,p,d),0)\n"
   ]
  },
  {
   "cell_type": "code",
   "execution_count": 182,
   "metadata": {},
   "outputs": [],
   "source": [
    "def get_sample_size_HanshengWang_formula(alpha,beta,p_baseline,dmin,number_ratio = 1):\n",
    "    \"\"\"Sample size calculation formula come from below 'To understand the core of the AB test'.\n",
    "    \n",
    "    Input\n",
    "        alpha: False positive/Type I error, percentage to reject the null hypothesis while it shouldn't be rejected.\n",
    "        beta: False negative/Type II error, percentage to fail rejecting the null hypothesis while we should have.\n",
    "        p_baseline: baseline percentage for the event.\n",
    "        dmin: Practical significance level, absolute value.\n",
    "        number_ratio: expected ratio of #control/#experiment.\n",
    "    Output\n",
    "        sample_size_control,sample_size_experiment: Required sample size for each group. Might not be an integer.\n",
    "    \"\"\"\n",
    "    from scipy.stats import norm\n",
    "    from math import sqrt\n",
    "    \n",
    "    z_alpha2 = norm.ppf(1.0-alpha/2)\n",
    "    z_beta = norm.ppf(1-beta)\n",
    "    p_experiment = p_baseline+dmin\n",
    "    \n",
    "    n2 = (z_alpha2+z_beta)**2*(p_baseline*(1-p_baseline)/number_ratio+p_experiment*(1-p_experiment))/dmin**2\n",
    "    # If control and experiment are the same size, return only one number\n",
    "    if number_ratio==1:\n",
    "        return n2\n",
    "    else:\n",
    "        n1 = number_ratio * n2\n",
    "        return n1,n2\n"
   ]
  },
  {
   "cell_type": "code",
   "execution_count": 183,
   "metadata": {},
   "outputs": [],
   "source": [
    "col = 'HanshengWang_formula'\n",
    "for p,m,d in zip(p_list,metric_list,dmin_list):\n",
    "    sample_size_compare.loc[m,col] = round(get_sample_size_HanshengWang_formula(alpha,beta,p,d),0)\n"
   ]
  },
  {
   "cell_type": "code",
   "execution_count": 186,
   "metadata": {},
   "outputs": [
    {
     "data": {
      "text/html": [
       "<div>\n",
       "<style scoped>\n",
       "    .dataframe tbody tr th:only-of-type {\n",
       "        vertical-align: middle;\n",
       "    }\n",
       "\n",
       "    .dataframe tbody tr th {\n",
       "        vertical-align: top;\n",
       "    }\n",
       "\n",
       "    .dataframe thead th {\n",
       "        text-align: right;\n",
       "    }\n",
       "</style>\n",
       "<table border=\"1\" class=\"dataframe\">\n",
       "  <thead>\n",
       "    <tr style=\"text-align: right;\">\n",
       "      <th></th>\n",
       "      <th>EvanMiller_online</th>\n",
       "      <th>EvanMiller_formula</th>\n",
       "      <th>HanshengWang_formula</th>\n",
       "      <th>py_statsmodels</th>\n",
       "      <th>chosen</th>\n",
       "    </tr>\n",
       "  </thead>\n",
       "  <tbody>\n",
       "    <tr>\n",
       "      <th>gross_conversion</th>\n",
       "      <td>NaN</td>\n",
       "      <td>25558</td>\n",
       "      <td>25230</td>\n",
       "      <td>25230</td>\n",
       "      <td>25230</td>\n",
       "    </tr>\n",
       "    <tr>\n",
       "      <th>retention</th>\n",
       "      <td>39115.0</td>\n",
       "      <td>39087</td>\n",
       "      <td>39048</td>\n",
       "      <td>39051</td>\n",
       "      <td>39115</td>\n",
       "    </tr>\n",
       "    <tr>\n",
       "      <th>net_conversion</th>\n",
       "      <td>27413.0</td>\n",
       "      <td>27413</td>\n",
       "      <td>27981</td>\n",
       "      <td>27978</td>\n",
       "      <td>27413</td>\n",
       "    </tr>\n",
       "  </tbody>\n",
       "</table>\n",
       "</div>"
      ],
      "text/plain": [
       "                  EvanMiller_online EvanMiller_formula HanshengWang_formula  \\\n",
       "gross_conversion                NaN              25558                25230   \n",
       "retention                   39115.0              39087                39048   \n",
       "net_conversion              27413.0              27413                27981   \n",
       "\n",
       "                 py_statsmodels chosen  \n",
       "gross_conversion          25230  25230  \n",
       "retention                 39051  39115  \n",
       "net_conversion            27978  27413  "
      ]
     },
     "execution_count": 186,
     "metadata": {},
     "output_type": "execute_result"
    }
   ],
   "source": [
    "from statsmodels.stats.power import zt_ind_solve_power\n",
    "from statsmodels.stats.proportion import proportion_effectsize as es\n",
    "\n",
    "col = 'py_statsmodels'\n",
    "for p,m,d in zip(p_list,metric_list,dmin_list):\n",
    "    sample_size_compare.loc[m,col] = round(zt_ind_solve_power(\n",
    "        effect_size=es(prop1=p, prop2=p+d), alpha=alpha, power=1-beta, alternative=\"two-sided\"),0)\n",
    "\n",
    "# choose which number to use, explained in below analysis\n",
    "sample_size_compare['chosen'] = sample_size_compare['EvanMiller_online']\n",
    "sample_size_compare.loc[sample_size_compare['chosen'].isnull(),'chosen'] = sample_size_compare.loc[sample_size_compare['chosen'].isnull(),'HanshengWang_formula']\n",
    "sample_size_compare\n"
   ]
  },
  {
   "cell_type": "markdown",
   "metadata": {},
   "source": [
    "**Analysis**  \n",
    "- I did some research and [this article](https://jeffshow.com/caculate-abtest-required-sample-size.html#comments) compared various methods from different websites/R/Python packages. The results are similar but with a bit difference, just as there're some differences in above table.\n",
    "- HanshengWang_formula is explained [below](#cell_understand). In the future I will probably use this formula as I fully understand it and it makes sense. The other formulas lacks source to fully understand it.  \n",
    "- For the purpose of submitting the results to Udacity, I'll use [EvanMiller's online calculator](https://www.evanmiller.org/ab-testing/sample-size.html)'s results for now.\n",
    "- As for the 1st one, EvanMiller's online calculator doesn't enable negative dmin and I'm not sure if EvanMiller's calculator count negative change. Therefore for the first one I'll just use HanshengWang_formula calculation. \n",
    "---"
   ]
  },
  {
   "cell_type": "markdown",
   "metadata": {},
   "source": [
    "<a id='cell_understand' ></a>\n",
    "**HanshengWang_formula Explained**  \n",
    "**_This is also important to understand the core of AB test_**\n",
    "- Assume the true probability for control, experiment group is p1,p2, and the estimate probability from the samples for control, experiment group is p1_hat, p2_hat.  \n",
    "- As p1_hat and p2_hat are the un-biased estimate of p1 and p2, therefore p1_hat - p2_hat is the unbiased estimate of p1-p2.(I think this is because of the central limit theory)  \n",
    "- One last assumption is that the samples are IID(Independent and Identically Distributed), therefore Var(p1-p2) = Var(p1)+Var(p2).  \n",
    "- Let stdev_p1p2 denotes (p1_hat * (1-p1_hat)/N1+p2_hat * (1-p2_hat)/N2)\n",
    "With those above, the significance test for whether p1-p2 is 0 would be |(p1_hat-p2_hat)/stdev_p1p2|>z_alpha_div2.  \n",
    "\n",
    "For the power test(for the purpose of calculating sample size), if the alternative hypothesis is True(meaning there is difference between p1 and p2), then we'd want |(p1_hat-p2_hat)/stdev_p1p2| >= z_alpha_div2+z_beta, where both z_alpha_div2 and z_beta means the positive z values here.  \n",
    "\n",
    "See below image to help understanding, basicly we want the area of the integral of blue line till the red dash line(which is beta) to be small, here the threshold is 20%. If the blue dash line(|(p1_hat-p2_hat)/stdev_p1p2|) is far right then it definitely satisfy the requirement.\n",
    "\n",
    "<img src=\"files/significance and power explain.png\" style=\"width: 400px;\">\n",
    "\n",
    "Therefore, n1 = k * n2, n2 = (z_alpha_div2+z_beta)^2 * stdev_p1p2^2/(p1-p2)^2, this is implemented by the function *get_sample_size_HanshengWang_formula*\n",
    "\n",
    "Source: Hansheng Wang and Shein-Chung Chow, Sample Size Calculation for Comparing Proportions, 3.1 Test for Equality"
   ]
  },
  {
   "cell_type": "code",
   "execution_count": 190,
   "metadata": {},
   "outputs": [
    {
     "data": {
      "text/html": [
       "<div>\n",
       "<style scoped>\n",
       "    .dataframe tbody tr th:only-of-type {\n",
       "        vertical-align: middle;\n",
       "    }\n",
       "\n",
       "    .dataframe tbody tr th {\n",
       "        vertical-align: top;\n",
       "    }\n",
       "\n",
       "    .dataframe thead th {\n",
       "        text-align: right;\n",
       "    }\n",
       "</style>\n",
       "<table border=\"1\" class=\"dataframe\">\n",
       "  <thead>\n",
       "    <tr style=\"text-align: right;\">\n",
       "      <th></th>\n",
       "      <th>EvanMiller_online</th>\n",
       "      <th>EvanMiller_formula</th>\n",
       "      <th>HanshengWang_formula</th>\n",
       "      <th>py_statsmodels</th>\n",
       "      <th>chosen</th>\n",
       "      <th>chosen_pageviews</th>\n",
       "      <th>least_num_days</th>\n",
       "    </tr>\n",
       "  </thead>\n",
       "  <tbody>\n",
       "    <tr>\n",
       "      <th>gross_conversion</th>\n",
       "      <td>NaN</td>\n",
       "      <td>25558</td>\n",
       "      <td>25230</td>\n",
       "      <td>25230</td>\n",
       "      <td>25230</td>\n",
       "      <td>630750</td>\n",
       "      <td>16.0</td>\n",
       "    </tr>\n",
       "    <tr>\n",
       "      <th>retention</th>\n",
       "      <td>39115.0</td>\n",
       "      <td>39087</td>\n",
       "      <td>39048</td>\n",
       "      <td>39051</td>\n",
       "      <td>39115</td>\n",
       "      <td>4741212</td>\n",
       "      <td>119.0</td>\n",
       "    </tr>\n",
       "    <tr>\n",
       "      <th>net_conversion</th>\n",
       "      <td>27413.0</td>\n",
       "      <td>27413</td>\n",
       "      <td>27981</td>\n",
       "      <td>27978</td>\n",
       "      <td>27413</td>\n",
       "      <td>685325</td>\n",
       "      <td>17.0</td>\n",
       "    </tr>\n",
       "  </tbody>\n",
       "</table>\n",
       "</div>"
      ],
      "text/plain": [
       "                  EvanMiller_online EvanMiller_formula HanshengWang_formula  \\\n",
       "gross_conversion                NaN              25558                25230   \n",
       "retention                   39115.0              39087                39048   \n",
       "net_conversion              27413.0              27413                27981   \n",
       "\n",
       "                 py_statsmodels chosen  chosen_pageviews  least_num_days  \n",
       "gross_conversion          25230  25230            630750            16.0  \n",
       "retention                 39051  39115           4741212           119.0  \n",
       "net_conversion            27978  27413            685325            17.0  "
      ]
     },
     "execution_count": 190,
     "metadata": {},
     "output_type": "execute_result"
    }
   ],
   "source": [
    "## Transform the unit back to number of cookies that view the course based on each metric's unit of analysis\n",
    "sample_size_compare['chosen_pageviews'] = 0\n",
    "\n",
    "for m in metric_list:\n",
    "    denominator = p_click_through\n",
    "    if m == 'retention':\n",
    "        denominator *= p_gross_conversion\n",
    "    sample_size_compare.loc[m,'chosen_pageviews'] = int(round(sample_size_compare.loc[m,'chosen']*2/denominator,0))\n",
    "\n",
    "sample_size_compare['least_num_days'] = round(sample_size_compare['chosen_pageviews']/df_baseline.iloc[0,1],0)\n",
    "sample_size_compare"
   ]
  },
  {
   "cell_type": "markdown",
   "metadata": {},
   "source": [
    "<a id='cell242'></a>\n",
    "#### 2.4.2 Determine Duration of experiment"
   ]
  },
  {
   "cell_type": "markdown",
   "metadata": {},
   "source": [
    "**Analysis**  \n",
    "- Determine theoratical range of #days\n",
    "  - Assume we use 100% of traffic, the number of days that required to test *retention* is 119 days. This seems too long, considering the risk of the experiment.  \n",
    "  - Therefore, I choose the metrics of net conversion and gross conversion and use the #cookies = 685325 instead. In this case, assume 100% traffic, #days = 17 days. This seems more reasonable.\n",
    "\n",
    "- Analyze the risk of the experiment\n",
    "  - As the change would possibly result in change of #users that use Udacity services, I don't think it's a good idea to use a large percentage of users. Although the change intended for good reasons, the new process added more steps for users to go through to complete the enrollment, therefore it's possible to lose some users who are sensitive to the easiness of enrollment process. There're other possibilities un-anticipated in this process that may cause the drop of conversion rate. Therefore I'd choose a percent of traffic no more than 60%.\n",
    "\n",
    "- Other factors\n",
    "  - On the other hand, the #cookies required is pretty large and this is the only experiment I want to run(There could be other people want to run other experiment though).  \n",
    "\n",
    "Therefore, based on above reasons I choose to use 60% of the traffic(so that 30% users would be exposed to the change).\n"
   ]
  },
  {
   "cell_type": "markdown",
   "metadata": {},
   "source": [
    "**Instructions**  \n",
    "Q: Will you use Bonferroni correction in the analysis phase?  \n",
    "A: Since the two main metrics I chose are *Gross conversion* and *Net conversion* and they are correlated in this experiment, I'll not use Bonferroni correction as it might be too conservative."
   ]
  },
  {
   "cell_type": "code",
   "execution_count": 206,
   "metadata": {},
   "outputs": [],
   "source": [
    "select_metric_list = (\"gross_conversion\",\"net_conversion\")"
   ]
  },
  {
   "cell_type": "code",
   "execution_count": 192,
   "metadata": {},
   "outputs": [
    {
     "name": "stdout",
     "output_type": "stream",
     "text": [
      "#days needed to run this experiment: 29 days\n"
     ]
    }
   ],
   "source": [
    "pct_traffic = 0.6\n",
    "n_days = int(round(sample_size_compare.loc['net_conversion','chosen_pageviews']\n",
    "                   /(df_baseline.iloc[0,1]*pct_traffic),0))\n",
    "print(f\"#days needed to run this experiment: {n_days} days\")"
   ]
  },
  {
   "cell_type": "markdown",
   "metadata": {},
   "source": [
    "**An alternative way to possibly reduce the #samples**\n",
    "- Specify the population and therefore the effect would not be diluted and might be easier to detect.  \n",
    "  - E.g., Assume we know if the user/cookie is a student or working professional, and assume that students have more available time and better sense of the time commitment of a course, then maybe by specifying the population to be working professionals, the result of experiment might show clearer difference of improving conversion for working professionals."
   ]
  },
  {
   "cell_type": "markdown",
   "metadata": {},
   "source": [
    "<a id='cell3'></a>\n",
    "## 3. Experiment Analysis\n",
    "**Instructions**  \n",
    "Data available [here](https://docs.google.com/spreadsheets/d/1Mu5u9GrybDdska-ljPXyBjTpdZIUev_6i7t4LRDfXM8/edit#gid=0)\n",
    "\n",
    "Explaination for the meaning of each column:\n",
    "\n",
    "- Pageviews: Number of unique cookies to view the course overview page that day.\n",
    "- Clicks: Number of unique cookies to click the course overview page that day.\n",
    "- Enrollments: Number of user-ids to enroll in the free trial that day.\n",
    "- Payments: Number of user-ids who who enrolled on that day to remain enrolled for 14 days and thus make a payment. (Note that the date for this column is the start date, that is, the date of enrollment, rather than the date of the payment. The payment happened 14 days later. Because of this, the enrollments and payments are tracked for 14 fewer days than the other columns.)\n",
    "\n",
    "(In case the link became invalid in the future, I made a local copy and read from there.)  \n",
    "\n",
    "---\n",
    "\n",
    "Question about the data: \n",
    "- Why Udacity didn't collect the enroll data? It should be as the same day as click, not as same as payment date.\n",
    "- If Udacity didn't collect the payment data for the last 14 days, wouldn't this be inadequate of sample size as how we designed the experiment?"
   ]
  },
  {
   "cell_type": "code",
   "execution_count": 25,
   "metadata": {},
   "outputs": [
    {
     "name": "stdout",
     "output_type": "stream",
     "text": [
      "Date            object\n",
      "Pageviews        int64\n",
      "Clicks           int64\n",
      "Enrollments    float64\n",
      "Payments       float64\n",
      "dtype: object\n"
     ]
    },
    {
     "data": {
      "text/html": [
       "<div>\n",
       "<style scoped>\n",
       "    .dataframe tbody tr th:only-of-type {\n",
       "        vertical-align: middle;\n",
       "    }\n",
       "\n",
       "    .dataframe tbody tr th {\n",
       "        vertical-align: top;\n",
       "    }\n",
       "\n",
       "    .dataframe thead th {\n",
       "        text-align: right;\n",
       "    }\n",
       "</style>\n",
       "<table border=\"1\" class=\"dataframe\">\n",
       "  <thead>\n",
       "    <tr style=\"text-align: right;\">\n",
       "      <th></th>\n",
       "      <th>Date</th>\n",
       "      <th>Pageviews</th>\n",
       "      <th>Clicks</th>\n",
       "      <th>Enrollments</th>\n",
       "      <th>Payments</th>\n",
       "    </tr>\n",
       "  </thead>\n",
       "  <tbody>\n",
       "    <tr>\n",
       "      <th>0</th>\n",
       "      <td>Sat, Oct 11</td>\n",
       "      <td>7723</td>\n",
       "      <td>687</td>\n",
       "      <td>134.0</td>\n",
       "      <td>70.0</td>\n",
       "    </tr>\n",
       "    <tr>\n",
       "      <th>1</th>\n",
       "      <td>Sun, Oct 12</td>\n",
       "      <td>9102</td>\n",
       "      <td>779</td>\n",
       "      <td>147.0</td>\n",
       "      <td>70.0</td>\n",
       "    </tr>\n",
       "    <tr>\n",
       "      <th>2</th>\n",
       "      <td>Mon, Oct 13</td>\n",
       "      <td>10511</td>\n",
       "      <td>909</td>\n",
       "      <td>167.0</td>\n",
       "      <td>95.0</td>\n",
       "    </tr>\n",
       "  </tbody>\n",
       "</table>\n",
       "</div>"
      ],
      "text/plain": [
       "          Date  Pageviews  Clicks  Enrollments  Payments\n",
       "0  Sat, Oct 11       7723     687        134.0      70.0\n",
       "1  Sun, Oct 12       9102     779        147.0      70.0\n",
       "2  Mon, Oct 13      10511     909        167.0      95.0"
      ]
     },
     "execution_count": 25,
     "metadata": {},
     "output_type": "execute_result"
    }
   ],
   "source": [
    "df_control = pd.read_excel(\"Final Project Results.xlsx\",sheet_name=\"Control\")\n",
    "print(df_control.dtypes)\n",
    "df_control.head(3)"
   ]
  },
  {
   "cell_type": "code",
   "execution_count": 26,
   "metadata": {},
   "outputs": [
    {
     "name": "stdout",
     "output_type": "stream",
     "text": [
      "Date            object\n",
      "Pageviews        int64\n",
      "Clicks           int64\n",
      "Enrollments    float64\n",
      "Payments       float64\n",
      "dtype: object\n"
     ]
    },
    {
     "data": {
      "text/html": [
       "<div>\n",
       "<style scoped>\n",
       "    .dataframe tbody tr th:only-of-type {\n",
       "        vertical-align: middle;\n",
       "    }\n",
       "\n",
       "    .dataframe tbody tr th {\n",
       "        vertical-align: top;\n",
       "    }\n",
       "\n",
       "    .dataframe thead th {\n",
       "        text-align: right;\n",
       "    }\n",
       "</style>\n",
       "<table border=\"1\" class=\"dataframe\">\n",
       "  <thead>\n",
       "    <tr style=\"text-align: right;\">\n",
       "      <th></th>\n",
       "      <th>Date</th>\n",
       "      <th>Pageviews</th>\n",
       "      <th>Clicks</th>\n",
       "      <th>Enrollments</th>\n",
       "      <th>Payments</th>\n",
       "    </tr>\n",
       "  </thead>\n",
       "  <tbody>\n",
       "    <tr>\n",
       "      <th>0</th>\n",
       "      <td>Sat, Oct 11</td>\n",
       "      <td>7716</td>\n",
       "      <td>686</td>\n",
       "      <td>105.0</td>\n",
       "      <td>34.0</td>\n",
       "    </tr>\n",
       "    <tr>\n",
       "      <th>1</th>\n",
       "      <td>Sun, Oct 12</td>\n",
       "      <td>9288</td>\n",
       "      <td>785</td>\n",
       "      <td>116.0</td>\n",
       "      <td>91.0</td>\n",
       "    </tr>\n",
       "    <tr>\n",
       "      <th>2</th>\n",
       "      <td>Mon, Oct 13</td>\n",
       "      <td>10480</td>\n",
       "      <td>884</td>\n",
       "      <td>145.0</td>\n",
       "      <td>79.0</td>\n",
       "    </tr>\n",
       "  </tbody>\n",
       "</table>\n",
       "</div>"
      ],
      "text/plain": [
       "          Date  Pageviews  Clicks  Enrollments  Payments\n",
       "0  Sat, Oct 11       7716     686        105.0      34.0\n",
       "1  Sun, Oct 12       9288     785        116.0      91.0\n",
       "2  Mon, Oct 13      10480     884        145.0      79.0"
      ]
     },
     "execution_count": 26,
     "metadata": {},
     "output_type": "execute_result"
    }
   ],
   "source": [
    "df_experiment = pd.read_excel(\"Final Project Results.xlsx\",sheet_name=\"Experiment\")\n",
    "print(df_experiment.dtypes)\n",
    "df_experiment.head(3)"
   ]
  },
  {
   "cell_type": "markdown",
   "metadata": {},
   "source": [
    "<a id='cell31'></a>\n",
    "#### 3.1 Sanity Check"
   ]
  },
  {
   "cell_type": "code",
   "execution_count": 194,
   "metadata": {},
   "outputs": [
    {
     "name": "stdout",
     "output_type": "stream",
     "text": [
      "Pageviews all: 690203\n",
      "Pageviews effective: 423525\n"
     ]
    }
   ],
   "source": [
    "# Check the amount of cookies collected in the experiment\n",
    "col_name = 'Pageviews'\n",
    "print(f\"Pageviews all: {df_control[col_name].sum()+df_experiment[col_name].sum()}\")\n",
    "print(f\"Pageviews effective: {df_control.loc[~df_control['Payments'].isnull(),col_name].sum()+df_experiment.loc[~df_experiment['Payments'].isnull(),col_name].sum()}\")\n"
   ]
  },
  {
   "cell_type": "markdown",
   "metadata": {},
   "source": [
    "**Analysis**  \n",
    "- The number of pageview all is similar to the number of what we expected to test \"net conversion\". \n",
    "- Theoratically though, as the data does not include enrollment and payment data for the last 14 days, the effective size of Pageviews, clicks should also be removing the last 14 days. But just to assume that all required data is correctly collected, here I'll use the total count to test those invariant metrics.\n",
    "\n",
    "As we intended to assign same/similar amount of cookies to control/experiment, the probability that a cookie is assigned to control p = 0.5. This is a binomial distribution with number of samples large enough to be considered normal distribution."
   ]
  },
  {
   "cell_type": "code",
   "execution_count": 195,
   "metadata": {},
   "outputs": [],
   "source": [
    "def check_count_similar(count_control,count_experiment,p_control=0.5):\n",
    "    \"\"\"\n",
    "    Sanity check on whether the count of invariant metric stay similar.\n",
    "    Using alpha = 0.05(z = 1.96)\n",
    "    \n",
    "    Output\n",
    "        pct_control\n",
    "        confidence_interval_left\n",
    "        confidence_interval_right\n",
    "        whether pct_control in confidence interval\n",
    "    \"\"\"\n",
    "    stdev_n_cookies = sqrt(p_control*(1-p_control)/(count_control+count_experiment))\n",
    "    CI_cookies_left = p_control - 1.96*stdev_n_cookies\n",
    "    CI_cookies_right = p_control + 1.96*stdev_n_cookies\n",
    "\n",
    "    pct_control = count_control/(count_control+count_experiment)\n",
    "\n",
    "    return round(pct_control,4),round(CI_cookies_left,4),round(CI_cookies_right,4),CI_cookies_left <= pct_control <= CI_cookies_right\n"
   ]
  },
  {
   "cell_type": "code",
   "execution_count": 204,
   "metadata": {},
   "outputs": [],
   "source": [
    "# Initiate a dataframe to store the result\n",
    "invar_list = ('Pageviews','Clicks','Click_through_probability')\n",
    "column_names = [\"pct_or_diff\", \"CI_left\", \"CI_right\",\"is_invariant\",\"Test_description\"]\n",
    "invariant_check = pd.DataFrame(columns=column_names, index=invar_list)\n",
    "\n",
    "for col_name in invar_list[:-1]:\n",
    "    invariant_check.loc[col_name,column_names[:-1]] = check_count_similar(df_control[col_name].sum(),df_experiment[col_name].sum())\n",
    "invariant_check[column_names[-1]] = 'Whether pct in CI'\n"
   ]
  },
  {
   "cell_type": "markdown",
   "metadata": {},
   "source": [
    "---\n",
    "#### Empiracal way of checking whether Click-through-probability(CTP) is similar(Not in use)"
   ]
  },
  {
   "cell_type": "code",
   "execution_count": 35,
   "metadata": {},
   "outputs": [
    {
     "data": {
      "text/plain": [
       "<AxesSubplot:>"
      ]
     },
     "execution_count": 35,
     "metadata": {},
     "output_type": "execute_result"
    },
    {
     "data": {
      "image/png": "[encoded data removed]",
      "text/plain": [
       "<Figure size 432x288 with 1 Axes>"
      ]
     },
     "metadata": {
      "needs_background": "light"
     },
     "output_type": "display_data"
    }
   ],
   "source": [
    "# Start by checking the distribution of CTP differences\n",
    "df_control['CTP'] = df_control['Clicks']/df_control['Pageviews']\n",
    "df_experiment['CTP'] = df_experiment['Clicks']/df_experiment['Pageviews']\n",
    "diff_CTP = df_experiment['CTP'] - df_control['CTP']\n",
    "\n",
    "diff_CTP.hist()\n",
    "# Looks kind of like normal distribution"
   ]
  },
  {
   "cell_type": "code",
   "execution_count": 33,
   "metadata": {},
   "outputs": [
    {
     "name": "stdout",
     "output_type": "stream",
     "text": [
      "Whether 0 is in [-0.0036,0.0037]: True\n"
     ]
    }
   ],
   "source": [
    "# Start to calculate CI and compare\n",
    "mean_diff = diff_CTP.mean()\n",
    "# Here I'm using the empiracal standard deviation so it's different from the analytical pooled method\n",
    "stdev_diff = diff_CTP.std()\n",
    "CI_diff_left = mean_diff - 1.96 * stdev_diff\n",
    "CI_diff_right = mean_diff + 1.96 * stdev_diff\n",
    "print(f\"Whether 0 is in [{round(CI_diff_left,4)},{round(CI_diff_right,4)}]: {CI_diff_left <= 0 <= CI_diff_right}\")"
   ]
  },
  {
   "cell_type": "markdown",
   "metadata": {},
   "source": [
    "This empiracal way gets a higher standard deviation than the analytical way below.\n",
    "\n",
    "Question:  \n",
    "Why don't we use the empiracal standard deviation(which is higher) but use the analytical pooled std?  \n",
    "- My guess is that theoratically they should be similar, so it does not matter that much which to use.  \n",
    "- However, that's based on the assumption that each individual cookie has same probability of click/enroll/retention, which might not be that strong, and cookies might not be IID.\n",
    "\n",
    "---"
   ]
  },
  {
   "cell_type": "code",
   "execution_count": 202,
   "metadata": {},
   "outputs": [],
   "source": [
    "def test_significance(x_control,n_control,x_experiment,n_experiment,dmin):\n",
    "    \"\"\"\n",
    "    Test the practical and statistical significance.\n",
    "    This is similar to the formula we talked about earlier when analyzing HanshengWang_formula,\n",
    "    Except here the null hypothesis is p_control = p_experiment and therefore = p_pool\n",
    "    \n",
    "    Input\n",
    "        All are counts except dmin\n",
    "        dmin is the practical significance boundary\n",
    "    Output\n",
    "        The difference of the rates between experiment and control group\n",
    "        confidence_interval_left\n",
    "        confidence_interval_right\n",
    "        whether 0 is in the confidence interval\n",
    "        If dmin != 0, get one more return as whether dmin is in the confidence interval\n",
    "\n",
    "    \"\"\"\n",
    "    p_pool = (x_control + x_experiment)/(n_control + n_experiment)\n",
    "    stdev_pool = sqrt(p_pool*(1-p_pool)*(1/n_control+1/n_experiment))\n",
    "    diff = x_experiment/n_experiment - x_control/n_control\n",
    "\n",
    "    CI_left = diff - 1.96*stdev_pool\n",
    "    CI_right = diff + 1.96*stdev_pool\n",
    "    if dmin == 0:\n",
    "        return round(diff,4),round(CI_left,4),round(CI_right,4),CI_left <= 0 <= CI_right\n",
    "    else:\n",
    "        return round(diff,4),round(CI_left,4),round(CI_right,4),CI_left <= 0 <= CI_right, CI_left <= dmin <= CI_right\n"
   ]
  },
  {
   "cell_type": "code",
   "execution_count": 205,
   "metadata": {},
   "outputs": [
    {
     "data": {
      "text/html": [
       "<div>\n",
       "<style scoped>\n",
       "    .dataframe tbody tr th:only-of-type {\n",
       "        vertical-align: middle;\n",
       "    }\n",
       "\n",
       "    .dataframe tbody tr th {\n",
       "        vertical-align: top;\n",
       "    }\n",
       "\n",
       "    .dataframe thead th {\n",
       "        text-align: right;\n",
       "    }\n",
       "</style>\n",
       "<table border=\"1\" class=\"dataframe\">\n",
       "  <thead>\n",
       "    <tr style=\"text-align: right;\">\n",
       "      <th></th>\n",
       "      <th>pct_or_diff</th>\n",
       "      <th>CI_left</th>\n",
       "      <th>CI_right</th>\n",
       "      <th>is_invariant</th>\n",
       "      <th>Test_description</th>\n",
       "    </tr>\n",
       "  </thead>\n",
       "  <tbody>\n",
       "    <tr>\n",
       "      <th>Pageviews</th>\n",
       "      <td>0.5006</td>\n",
       "      <td>0.4988</td>\n",
       "      <td>0.5012</td>\n",
       "      <td>True</td>\n",
       "      <td>Whether pct in CI</td>\n",
       "    </tr>\n",
       "    <tr>\n",
       "      <th>Clicks</th>\n",
       "      <td>0.5005</td>\n",
       "      <td>0.4959</td>\n",
       "      <td>0.5041</td>\n",
       "      <td>True</td>\n",
       "      <td>Whether pct in CI</td>\n",
       "    </tr>\n",
       "    <tr>\n",
       "      <th>Click_through_probability</th>\n",
       "      <td>0.0001</td>\n",
       "      <td>-0.0012</td>\n",
       "      <td>0.0014</td>\n",
       "      <td>True</td>\n",
       "      <td>Whether 0 in CI</td>\n",
       "    </tr>\n",
       "  </tbody>\n",
       "</table>\n",
       "</div>"
      ],
      "text/plain": [
       "                          pct_or_diff CI_left CI_right is_invariant  \\\n",
       "Pageviews                      0.5006  0.4988   0.5012         True   \n",
       "Clicks                         0.5005  0.4959   0.5041         True   \n",
       "Click_through_probability      0.0001 -0.0012   0.0014         True   \n",
       "\n",
       "                            Test_description  \n",
       "Pageviews                  Whether pct in CI  \n",
       "Clicks                     Whether pct in CI  \n",
       "Click_through_probability    Whether 0 in CI  "
      ]
     },
     "execution_count": 205,
     "metadata": {},
     "output_type": "execute_result"
    }
   ],
   "source": [
    "col_name = invar_list[-1]\n",
    "invariant_check.loc[col_name,column_names[:-1]] = test_significance(df_control['Clicks'].sum(),df_control['Pageviews'].sum(),df_experiment['Clicks'].sum(),df_experiment['Pageviews'].sum(),0)\n",
    "invariant_check.loc[col_name,column_names[-1]] = 'Whether 0 in CI'\n",
    "invariant_check\n"
   ]
  },
  {
   "cell_type": "markdown",
   "metadata": {},
   "source": [
    "**Analysis**  \n",
    "As all three chosen invariant metrics are in the confidence interval, therefore there're no significant difference of the three metrics between control and experiment group.\n",
    "\n",
    "---"
   ]
  },
  {
   "cell_type": "markdown",
   "metadata": {},
   "source": [
    "<a id='cell32'></a>\n",
    "#### 3.2 Check for Practical and Statistical Significance"
   ]
  },
  {
   "cell_type": "code",
   "execution_count": 207,
   "metadata": {},
   "outputs": [
    {
     "data": {
      "text/html": [
       "<div>\n",
       "<style scoped>\n",
       "    .dataframe tbody tr th:only-of-type {\n",
       "        vertical-align: middle;\n",
       "    }\n",
       "\n",
       "    .dataframe tbody tr th {\n",
       "        vertical-align: top;\n",
       "    }\n",
       "\n",
       "    .dataframe thead th {\n",
       "        text-align: right;\n",
       "    }\n",
       "</style>\n",
       "<table border=\"1\" class=\"dataframe\">\n",
       "  <thead>\n",
       "    <tr style=\"text-align: right;\">\n",
       "      <th></th>\n",
       "      <th>dmin</th>\n",
       "      <th>diff</th>\n",
       "      <th>CI_left</th>\n",
       "      <th>CI_right</th>\n",
       "      <th>is_0_in_CI</th>\n",
       "      <th>is_dmin_in_CI</th>\n",
       "    </tr>\n",
       "  </thead>\n",
       "  <tbody>\n",
       "    <tr>\n",
       "      <th>gross_conversion</th>\n",
       "      <td>-0.01</td>\n",
       "      <td>-0.0206</td>\n",
       "      <td>-0.0291</td>\n",
       "      <td>-0.012</td>\n",
       "      <td>False</td>\n",
       "      <td>False</td>\n",
       "    </tr>\n",
       "    <tr>\n",
       "      <th>net_conversion</th>\n",
       "      <td>0.0075</td>\n",
       "      <td>-0.0049</td>\n",
       "      <td>-0.0116</td>\n",
       "      <td>0.0019</td>\n",
       "      <td>True</td>\n",
       "      <td>False</td>\n",
       "    </tr>\n",
       "  </tbody>\n",
       "</table>\n",
       "</div>"
      ],
      "text/plain": [
       "                    dmin    diff CI_left CI_right is_0_in_CI is_dmin_in_CI\n",
       "gross_conversion   -0.01 -0.0206 -0.0291   -0.012      False         False\n",
       "net_conversion    0.0075 -0.0049 -0.0116   0.0019       True         False"
      ]
     },
     "execution_count": 207,
     "metadata": {},
     "output_type": "execute_result"
    }
   ],
   "source": [
    "# Initialize a dataframe to store the results\n",
    "column_names = [\"dmin\",\"diff\", \"CI_left\", \"CI_right\",\"is_0_in_CI\",\"is_dmin_in_CI\"]\n",
    "evaluation_test = pd.DataFrame(columns=column_names, index=select_metric_list)\n",
    "\n",
    "# make sure that #clicks is only using data not including last 14 days\n",
    "# Because #Payments data don't have the last 14 days data\n",
    "n_click_control = df_control.loc[~df_control['Payments'].isnull(),'Clicks'].sum()\n",
    "n_click_experiment = df_experiment.loc[~df_experiment['Payments'].isnull(),'Clicks'].sum()\n",
    "n_payment_control = df_control['Payments'].sum()\n",
    "n_payment_experiment = df_experiment['Payments'].sum()\n",
    "n_enroll_control = df_control['Enrollments'].sum()\n",
    "n_enroll_experiment = df_experiment['Enrollments'].sum()\n",
    "\n",
    "# Evaluation metrics test\n",
    "m = select_metric_list[0]\n",
    "evaluation_test.loc[m,column_names[0]] = -0.01\n",
    "evaluation_test.loc[m,column_names[1:]] = test_significance(n_enroll_control,n_click_control,n_enroll_experiment,n_click_experiment,-0.01)\n",
    "\n",
    "m = select_metric_list[1]\n",
    "evaluation_test.loc[m,column_names[0]] = 0.0075\n",
    "evaluation_test.loc[m,column_names[1:]] = test_significance(n_payment_control,n_click_control,n_payment_experiment,n_click_experiment,0.0075)\n",
    "\n",
    "evaluation_test"
   ]
  },
  {
   "cell_type": "markdown",
   "metadata": {},
   "source": [
    "**Analysis**  \n",
    "- This is showing that the difference of net_conversion between control and experiment group are not statitically different from 0.   \n",
    "- And the difference is statistically different from practical significance level, but on the negative side, meaning we're 95% confident that the experiment change will not achieve the 0.75% positive change on net conversion.\n",
    "- For retention, the tests show statistically significance from 0 and statistically different from practical significance level, on the negative size, meaning the change is reducing the gross conversion rate significantly, which is what we don't want.\n",
    "\n",
    "Based on this, we definitely don't want to launch the change, at least not yet. We'll explore more on the experiment results in [3.4 Recommendation](#cell34)"
   ]
  },
  {
   "cell_type": "markdown",
   "metadata": {},
   "source": [
    "<a id='cell33'></a>\n",
    "#### 3.3 Run Sign Tests"
   ]
  },
  {
   "cell_type": "code",
   "execution_count": 138,
   "metadata": {},
   "outputs": [],
   "source": [
    "def sign_test(n:int,k:int,n_tail:int = 2):\n",
    "    \"\"\"\n",
    "    Run sign test for n choose k with p = 0.5\n",
    "    \n",
    "    Input\n",
    "        n: positive integer, total number of items to choose from\n",
    "        k: non-negative integer, number of items to be chosen, k<=n\n",
    "        n_tail: can only be value of 1 or 2, where 2 means 'two-tail' test and 1 means 'one-tail' test\n",
    "    Output\n",
    "        Significance value of whether the case is happened by chance, range(0,1].\n",
    "        If the value < 0.05, then we can say we're 95% confident that this is not happening by chance.\n",
    "    \"\"\"\n",
    "    # validating the inputs\n",
    "    if not (isinstance(n,int) and isinstance(k,int),isinstance(n_tail,int)):\n",
    "        raise TypeError(\"All inputs must be integers.\")\n",
    "    if not (n>0 and k>=0 and n_tail in (1,2)):\n",
    "        raise ValueError(\"Make sure the input values is in the definition range.\")\n",
    "    if n<k:\n",
    "        raise ValueError(\"n has to be larger or equal than k.\")\n",
    "    \n",
    "    p=0.5\n",
    "    s = 0\n",
    "    k = min(k,n-k)\n",
    "    for kt in range(1,k+1):\n",
    "        s += (factorial(n)/(factorial(kt)*factorial(n-kt)))\n",
    "    \n",
    "    return min(s*p**n*n_tail,1) # can use p^n because p = 0.5, otherwise it should be accumulated on p^k*(1-p)^(n-k)"
   ]
  },
  {
   "cell_type": "code",
   "execution_count": 67,
   "metadata": {},
   "outputs": [
    {
     "data": {
      "text/html": [
       "<div>\n",
       "<style scoped>\n",
       "    .dataframe tbody tr th:only-of-type {\n",
       "        vertical-align: middle;\n",
       "    }\n",
       "\n",
       "    .dataframe tbody tr th {\n",
       "        vertical-align: top;\n",
       "    }\n",
       "\n",
       "    .dataframe thead th {\n",
       "        text-align: right;\n",
       "    }\n",
       "</style>\n",
       "<table border=\"1\" class=\"dataframe\">\n",
       "  <thead>\n",
       "    <tr style=\"text-align: right;\">\n",
       "      <th></th>\n",
       "      <th>Date</th>\n",
       "      <th>Pageviews</th>\n",
       "      <th>Clicks</th>\n",
       "      <th>Enrollments</th>\n",
       "      <th>Payments</th>\n",
       "      <th>CTP</th>\n",
       "      <th>net_conversion</th>\n",
       "      <th>day_of_week</th>\n",
       "      <th>gross_conversion</th>\n",
       "      <th>retention</th>\n",
       "    </tr>\n",
       "  </thead>\n",
       "  <tbody>\n",
       "    <tr>\n",
       "      <th>0</th>\n",
       "      <td>Sat, Oct 11</td>\n",
       "      <td>7723</td>\n",
       "      <td>687</td>\n",
       "      <td>134.0</td>\n",
       "      <td>70.0</td>\n",
       "      <td>0.088955</td>\n",
       "      <td>0.101892</td>\n",
       "      <td>Sat</td>\n",
       "      <td>0.195051</td>\n",
       "      <td>0.522388</td>\n",
       "    </tr>\n",
       "    <tr>\n",
       "      <th>1</th>\n",
       "      <td>Sun, Oct 12</td>\n",
       "      <td>9102</td>\n",
       "      <td>779</td>\n",
       "      <td>147.0</td>\n",
       "      <td>70.0</td>\n",
       "      <td>0.085586</td>\n",
       "      <td>0.089859</td>\n",
       "      <td>Sun</td>\n",
       "      <td>0.188703</td>\n",
       "      <td>0.476190</td>\n",
       "    </tr>\n",
       "    <tr>\n",
       "      <th>2</th>\n",
       "      <td>Mon, Oct 13</td>\n",
       "      <td>10511</td>\n",
       "      <td>909</td>\n",
       "      <td>167.0</td>\n",
       "      <td>95.0</td>\n",
       "      <td>0.086481</td>\n",
       "      <td>0.104510</td>\n",
       "      <td>Mon</td>\n",
       "      <td>0.183718</td>\n",
       "      <td>0.568862</td>\n",
       "    </tr>\n",
       "  </tbody>\n",
       "</table>\n",
       "</div>"
      ],
      "text/plain": [
       "          Date  Pageviews  Clicks  Enrollments  Payments       CTP  \\\n",
       "0  Sat, Oct 11       7723     687        134.0      70.0  0.088955   \n",
       "1  Sun, Oct 12       9102     779        147.0      70.0  0.085586   \n",
       "2  Mon, Oct 13      10511     909        167.0      95.0  0.086481   \n",
       "\n",
       "   net_conversion day_of_week  gross_conversion  retention  \n",
       "0        0.101892         Sat          0.195051   0.522388  \n",
       "1        0.089859         Sun          0.188703   0.476190  \n",
       "2        0.104510         Mon          0.183718   0.568862  "
      ]
     },
     "execution_count": 67,
     "metadata": {},
     "output_type": "execute_result"
    }
   ],
   "source": [
    "for d in (df_control,df_experiment):\n",
    "    d['gross_conversion'] = d['Enrollments']/d['Clicks']\n",
    "    d['retention'] = d['Payments']/d['Enrollments']\n",
    "    d['net_conversion'] = d['Payments']/d['Clicks']\n",
    "df_control.head(3)"
   ]
  },
  {
   "cell_type": "code",
   "execution_count": 165,
   "metadata": {},
   "outputs": [
    {
     "name": "stdout",
     "output_type": "stream",
     "text": [
      "Sign test for gross_conversion, 23 choose 4: 0.0026\n",
      "Sign test for net_conversion, 23 choose 10: 0.6776\n"
     ]
    }
   ],
   "source": [
    "# make sure to select data not including last 14 days, as net_conversion is null for the last 14 days\n",
    "n = df_control[~df_control['net_conversion'].isnull()].shape[0]\n",
    "\n",
    "for m in metric_list:\n",
    "    if m != 'retention':\n",
    "        k = (df_experiment[m]>df_control[m]).sum()\n",
    "        print(f\"Sign test for {m}, {n} choose {k}: {round(sign_test(n,k),4)}\")"
   ]
  },
  {
   "cell_type": "code",
   "execution_count": 219,
   "metadata": {},
   "outputs": [],
   "source": [
    "# p = 0.5\n",
    "# p_choose_k_from_n = p**k*(1-p)**(n-k)*(factorial(n)/(factorial(k)*factorial(n-k)))\n",
    "# print(n,k,round(p_choose_k_from_n*2,4))"
   ]
  },
  {
   "cell_type": "markdown",
   "metadata": {},
   "source": [
    "**Analysis**  \n",
    "\n",
    "- The result shows that for gross conversion and net conversion, it is consistent with the earlier tests. \n",
    "\n",
    "---\n",
    "\n",
    "Question:  \n",
    "This test is the same result as in [this website](https://www.graphpad.com/quickcalcs/binomial1.cfm)   \n",
    "But why using less or equal than k instead of using exact k?\n",
    "- Answer: The sign test is basicly like a discrete version of distribution test. If we think of n being really large, e.g., 1000, then for example the probability of choosing exact 500 would still be very small(in fact if with approaches to infinity, this probability approaches 0). Therefore we're calculating the accumulated probability, just as the probability test."
   ]
  },
  {
   "cell_type": "markdown",
   "metadata": {},
   "source": [
    "<a id='cell34'></a>\n",
    "#### 3.4 Recommendation"
   ]
  },
  {
   "cell_type": "markdown",
   "metadata": {},
   "source": [
    "**Analysis**  \n",
    "As per the analysis \n",
    "- Significance level of net_conversion shows the results from experiment group is not significantly different from in control group,  \n",
    "- With 95% confidence we're sure that it would not achieve the practical significance boundary(which is 0.0075 in this experiment)\n",
    "- Tests for gross_conversion shows that we're 95% confident that the change makes the gross conversion rate decreases, and more than the practical level(which is 0.01). This is not what we wanted when we made the hypothesis at the beginning of this study.\n",
    "- Sign test result also agrees on that the significance test.\n",
    "\n",
    "Therefore, I recommend not launching the change from the experiment.\n",
    "\n",
    "---\n",
    "However, to better understand why the result not achieving expected results and therefore possibly providing some guidance on future experiments, we can try the approaches below to take a more deep look at the data.\n",
    "\n",
    "- Check if there're possibilities with any problems about the evaluation data\n",
    "  - E.g., Are the evaluation metrics in the expected range of values\n",
    "- Break down by weekday/weekend pattern\n",
    "- Break down by other slices, see if there's pattern of users group difference\n",
    "- Talk w Engineering team if any problems related to engineering"
   ]
  },
  {
   "cell_type": "markdown",
   "metadata": {},
   "source": [
    "<a id='cell341'></a>\n",
    "#### 3.4.1 Plot the daily data"
   ]
  },
  {
   "cell_type": "code",
   "execution_count": 74,
   "metadata": {},
   "outputs": [
    {
     "data": {
      "text/html": [
       "<div>\n",
       "<style scoped>\n",
       "    .dataframe tbody tr th:only-of-type {\n",
       "        vertical-align: middle;\n",
       "    }\n",
       "\n",
       "    .dataframe tbody tr th {\n",
       "        vertical-align: top;\n",
       "    }\n",
       "\n",
       "    .dataframe thead th {\n",
       "        text-align: right;\n",
       "    }\n",
       "</style>\n",
       "<table border=\"1\" class=\"dataframe\">\n",
       "  <thead>\n",
       "    <tr style=\"text-align: right;\">\n",
       "      <th></th>\n",
       "      <th>Pageviews</th>\n",
       "      <th>Clicks</th>\n",
       "      <th>Enrollments</th>\n",
       "      <th>Payments</th>\n",
       "      <th>CTP</th>\n",
       "      <th>net_conversion</th>\n",
       "      <th>day_of_week</th>\n",
       "      <th>gross_conversion</th>\n",
       "      <th>retention</th>\n",
       "      <th>type</th>\n",
       "      <th>date</th>\n",
       "    </tr>\n",
       "  </thead>\n",
       "  <tbody>\n",
       "    <tr>\n",
       "      <th>0</th>\n",
       "      <td>7723</td>\n",
       "      <td>687</td>\n",
       "      <td>134.0</td>\n",
       "      <td>70.0</td>\n",
       "      <td>0.088955</td>\n",
       "      <td>0.101892</td>\n",
       "      <td>Sat</td>\n",
       "      <td>0.195051</td>\n",
       "      <td>0.522388</td>\n",
       "      <td>control</td>\n",
       "      <td>2014-10-11</td>\n",
       "    </tr>\n",
       "    <tr>\n",
       "      <th>1</th>\n",
       "      <td>9102</td>\n",
       "      <td>779</td>\n",
       "      <td>147.0</td>\n",
       "      <td>70.0</td>\n",
       "      <td>0.085586</td>\n",
       "      <td>0.089859</td>\n",
       "      <td>Sun</td>\n",
       "      <td>0.188703</td>\n",
       "      <td>0.476190</td>\n",
       "      <td>control</td>\n",
       "      <td>2014-10-12</td>\n",
       "    </tr>\n",
       "  </tbody>\n",
       "</table>\n",
       "</div>"
      ],
      "text/plain": [
       "   Pageviews  Clicks  Enrollments  Payments       CTP  net_conversion  \\\n",
       "0       7723     687        134.0      70.0  0.088955        0.101892   \n",
       "1       9102     779        147.0      70.0  0.085586        0.089859   \n",
       "\n",
       "  day_of_week  gross_conversion  retention     type       date  \n",
       "0         Sat          0.195051   0.522388  control 2014-10-11  \n",
       "1         Sun          0.188703   0.476190  control 2014-10-12  "
      ]
     },
     "execution_count": 74,
     "metadata": {},
     "output_type": "execute_result"
    }
   ],
   "source": [
    "df_control['type'] = 'control'\n",
    "df_experiment['type'] = 'experiment'\n",
    "df_concat = pd.concat([df_control,df_experiment])\n",
    "\n",
    "## Since Oct 11, 2014 is Saturday, for convenience I'll process the date as in 2014\n",
    "df_concat['date'] = df_concat['Date'].apply(lambda x: datetime.strptime(x.split(',')[1]+',2014', ' %b %d,%Y'))\n",
    "df_concat.drop('Date',axis=1,inplace=True)\n",
    "df_concat.head(2)"
   ]
  },
  {
   "cell_type": "code",
   "execution_count": 209,
   "metadata": {},
   "outputs": [
    {
     "data": {
      "application/vnd.plotly.v1+json": {
       "config": {
        "plotlyServerURL": "https://plot.ly"
       },
       "data": [
        {
         "hovertemplate": "variable=gross_conversion<br>type=control<br>date=%{x}<br>value=%{y}<extra></extra>",
         "legendgroup": "gross_conversion, control",
         "line": {
          "color": "#636efa",
          "dash": "solid"
         },
         "mode": "lines",
         "name": "gross_conversion, control",
         "orientation": "v",
         "showlegend": true,
         "type": "scatter",
         "x": [
          "2014-10-11T00:00:00",
          "2014-10-12T00:00:00",
          "2014-10-13T00:00:00",
          "2014-10-14T00:00:00",
          "2014-10-15T00:00:00",
          "2014-10-16T00:00:00",
          "2014-10-17T00:00:00",
          "2014-10-18T00:00:00",
          "2014-10-19T00:00:00",
          "2014-10-20T00:00:00",
          "2014-10-21T00:00:00",
          "2014-10-22T00:00:00",
          "2014-10-23T00:00:00",
          "2014-10-24T00:00:00",
          "2014-10-25T00:00:00",
          "2014-10-26T00:00:00",
          "2014-10-27T00:00:00",
          "2014-10-28T00:00:00",
          "2014-10-29T00:00:00",
          "2014-10-30T00:00:00",
          "2014-10-31T00:00:00",
          "2014-11-01T00:00:00",
          "2014-11-02T00:00:00"
         ],
         "xaxis": "x",
         "y": [
          0.1950509461426492,
          0.18870346598202825,
          0.18371837183718373,
          0.18660287081339713,
          0.19474313022700118,
          0.16767922235722965,
          0.19518716577540107,
          0.17405063291139242,
          0.18958031837916064,
          0.1916376306620209,
          0.22606689734717417,
          0.19331742243436753,
          0.19097744360902255,
          0.32689450222882616,
          0.25470332850940663,
          0.2274011299435028,
          0.3069828722002635,
          0.20923913043478262,
          0.2652232746955345,
          0.22752043596730245,
          0.24645892351274787,
          0.2290748898678414,
          0.2972582972582973
         ],
         "yaxis": "y"
        },
        {
         "hovertemplate": "variable=gross_conversion<br>type=experiment<br>date=%{x}<br>value=%{y}<extra></extra>",
         "legendgroup": "gross_conversion, experiment",
         "line": {
          "color": "#636efa",
          "dash": "dot"
         },
         "mode": "lines",
         "name": "gross_conversion, experiment",
         "orientation": "v",
         "showlegend": true,
         "type": "scatter",
         "x": [
          "2014-10-11T00:00:00",
          "2014-10-12T00:00:00",
          "2014-10-13T00:00:00",
          "2014-10-14T00:00:00",
          "2014-10-15T00:00:00",
          "2014-10-16T00:00:00",
          "2014-10-17T00:00:00",
          "2014-10-18T00:00:00",
          "2014-10-19T00:00:00",
          "2014-10-20T00:00:00",
          "2014-10-21T00:00:00",
          "2014-10-22T00:00:00",
          "2014-10-23T00:00:00",
          "2014-10-24T00:00:00",
          "2014-10-25T00:00:00",
          "2014-10-26T00:00:00",
          "2014-10-27T00:00:00",
          "2014-10-28T00:00:00",
          "2014-10-29T00:00:00",
          "2014-10-30T00:00:00",
          "2014-10-31T00:00:00",
          "2014-11-01T00:00:00",
          "2014-11-02T00:00:00"
         ],
         "xaxis": "x",
         "y": [
          0.15306122448979592,
          0.14777070063694267,
          0.16402714932126697,
          0.16686819830713423,
          0.16826923076923078,
          0.16370558375634517,
          0.16282051282051282,
          0.1441717791411043,
          0.17216642754662842,
          0.17790697674418604,
          0.16550925925925927,
          0.15980024968789014,
          0.19003115264797507,
          0.2783357245337159,
          0.1898355754857997,
          0.22077922077922077,
          0.27626459143968873,
          0.22010869565217392,
          0.2764786795048143,
          0.28434065934065933,
          0.2520775623268698,
          0.20431654676258992,
          0.2513812154696133
         ],
         "yaxis": "y"
        },
        {
         "hovertemplate": "variable=retention<br>type=control<br>date=%{x}<br>value=%{y}<extra></extra>",
         "legendgroup": "retention, control",
         "line": {
          "color": "#EF553B",
          "dash": "solid"
         },
         "mode": "lines",
         "name": "retention, control",
         "orientation": "v",
         "showlegend": true,
         "type": "scatter",
         "x": [
          "2014-10-11T00:00:00",
          "2014-10-12T00:00:00",
          "2014-10-13T00:00:00",
          "2014-10-14T00:00:00",
          "2014-10-15T00:00:00",
          "2014-10-16T00:00:00",
          "2014-10-17T00:00:00",
          "2014-10-18T00:00:00",
          "2014-10-19T00:00:00",
          "2014-10-20T00:00:00",
          "2014-10-21T00:00:00",
          "2014-10-22T00:00:00",
          "2014-10-23T00:00:00",
          "2014-10-24T00:00:00",
          "2014-10-25T00:00:00",
          "2014-10-26T00:00:00",
          "2014-10-27T00:00:00",
          "2014-10-28T00:00:00",
          "2014-10-29T00:00:00",
          "2014-10-30T00:00:00",
          "2014-10-31T00:00:00",
          "2014-11-01T00:00:00",
          "2014-11-02T00:00:00"
         ],
         "xaxis": "x",
         "y": [
          0.5223880597014925,
          0.47619047619047616,
          0.5688622754491018,
          0.6730769230769231,
          0.39263803680981596,
          0.5942028985507246,
          0.5205479452054794,
          0.6363636363636364,
          0.4580152671755725,
          0.5878787878787879,
          0.5357142857142857,
          0.5679012345679012,
          0.4409448818897638,
          0.5545454545454546,
          0.7272727272727273,
          0.6459627329192547,
          0.5321888412017167,
          0.5909090909090909,
          0.4387755102040816,
          0.4491017964071856,
          0.5804597701149425,
          0.5961538461538461,
          0.32524271844660196
         ],
         "yaxis": "y"
        },
        {
         "hovertemplate": "variable=retention<br>type=experiment<br>date=%{x}<br>value=%{y}<extra></extra>",
         "legendgroup": "retention, experiment",
         "line": {
          "color": "#EF553B",
          "dash": "dot"
         },
         "mode": "lines",
         "name": "retention, experiment",
         "orientation": "v",
         "showlegend": true,
         "type": "scatter",
         "x": [
          "2014-10-11T00:00:00",
          "2014-10-12T00:00:00",
          "2014-10-13T00:00:00",
          "2014-10-14T00:00:00",
          "2014-10-15T00:00:00",
          "2014-10-16T00:00:00",
          "2014-10-17T00:00:00",
          "2014-10-18T00:00:00",
          "2014-10-19T00:00:00",
          "2014-10-20T00:00:00",
          "2014-10-21T00:00:00",
          "2014-10-22T00:00:00",
          "2014-10-23T00:00:00",
          "2014-10-24T00:00:00",
          "2014-10-25T00:00:00",
          "2014-10-26T00:00:00",
          "2014-10-27T00:00:00",
          "2014-10-28T00:00:00",
          "2014-10-29T00:00:00",
          "2014-10-30T00:00:00",
          "2014-10-31T00:00:00",
          "2014-11-01T00:00:00",
          "2014-11-02T00:00:00"
         ],
         "xaxis": "x",
         "y": [
          0.3238095238095238,
          0.7844827586206896,
          0.5448275862068965,
          0.6666666666666666,
          0.6714285714285714,
          0.4728682170542636,
          0.3464566929133858,
          0.6595744680851063,
          0.6416666666666667,
          0.6405228758169934,
          0.4965034965034965,
          0.546875,
          0.5573770491803278,
          0.4845360824742268,
          0.6377952755905512,
          0.6601307189542484,
          0.5586854460093896,
          0.7407407407407407,
          0.47761194029850745,
          0.32367149758454106,
          0.6758241758241759,
          0.704225352112676,
          0.5659340659340659
         ],
         "yaxis": "y"
        },
        {
         "hovertemplate": "variable=net_conversion<br>type=control<br>date=%{x}<br>value=%{y}<extra></extra>",
         "legendgroup": "net_conversion, control",
         "line": {
          "color": "#00cc96",
          "dash": "solid"
         },
         "mode": "lines",
         "name": "net_conversion, control",
         "orientation": "v",
         "showlegend": true,
         "type": "scatter",
         "x": [
          "2014-10-11T00:00:00",
          "2014-10-12T00:00:00",
          "2014-10-13T00:00:00",
          "2014-10-14T00:00:00",
          "2014-10-15T00:00:00",
          "2014-10-16T00:00:00",
          "2014-10-17T00:00:00",
          "2014-10-18T00:00:00",
          "2014-10-19T00:00:00",
          "2014-10-20T00:00:00",
          "2014-10-21T00:00:00",
          "2014-10-22T00:00:00",
          "2014-10-23T00:00:00",
          "2014-10-24T00:00:00",
          "2014-10-25T00:00:00",
          "2014-10-26T00:00:00",
          "2014-10-27T00:00:00",
          "2014-10-28T00:00:00",
          "2014-10-29T00:00:00",
          "2014-10-30T00:00:00",
          "2014-10-31T00:00:00",
          "2014-11-01T00:00:00",
          "2014-11-02T00:00:00"
         ],
         "xaxis": "x",
         "y": [
          0.10189228529839883,
          0.08985879332477535,
          0.10451045104510451,
          0.1255980861244019,
          0.07646356033452807,
          0.09963547995139732,
          0.10160427807486631,
          0.11075949367088607,
          0.08683068017366136,
          0.11265969802555169,
          0.12110726643598616,
          0.10978520286396182,
          0.08421052631578947,
          0.1812778603268945,
          0.18523878437047755,
          0.14689265536723164,
          0.16337285902503293,
          0.12364130434782608,
          0.11637347767253045,
          0.10217983651226158,
          0.14305949008498584,
          0.13656387665198239,
          0.09668109668109669
         ],
         "yaxis": "y"
        },
        {
         "hovertemplate": "variable=net_conversion<br>type=experiment<br>date=%{x}<br>value=%{y}<extra></extra>",
         "legendgroup": "net_conversion, experiment",
         "line": {
          "color": "#00cc96",
          "dash": "dot"
         },
         "mode": "lines",
         "name": "net_conversion, experiment",
         "orientation": "v",
         "showlegend": true,
         "type": "scatter",
         "x": [
          "2014-10-11T00:00:00",
          "2014-10-12T00:00:00",
          "2014-10-13T00:00:00",
          "2014-10-14T00:00:00",
          "2014-10-15T00:00:00",
          "2014-10-16T00:00:00",
          "2014-10-17T00:00:00",
          "2014-10-18T00:00:00",
          "2014-10-19T00:00:00",
          "2014-10-20T00:00:00",
          "2014-10-21T00:00:00",
          "2014-10-22T00:00:00",
          "2014-10-23T00:00:00",
          "2014-10-24T00:00:00",
          "2014-10-25T00:00:00",
          "2014-10-26T00:00:00",
          "2014-10-27T00:00:00",
          "2014-10-28T00:00:00",
          "2014-10-29T00:00:00",
          "2014-10-30T00:00:00",
          "2014-10-31T00:00:00",
          "2014-11-01T00:00:00",
          "2014-11-02T00:00:00"
         ],
         "xaxis": "x",
         "y": [
          0.04956268221574344,
          0.1159235668789809,
          0.08936651583710407,
          0.11124546553808948,
          0.11298076923076923,
          0.07741116751269035,
          0.05641025641025641,
          0.0950920245398773,
          0.11047345767575323,
          0.11395348837209303,
          0.08217592592592593,
          0.08739076154806492,
          0.1059190031152648,
          0.13486370157819225,
          0.1210762331838565,
          0.14574314574314573,
          0.1543450064850843,
          0.16304347826086957,
          0.13204951856946354,
          0.09203296703296704,
          0.1703601108033241,
          0.14388489208633093,
          0.14226519337016574
         ],
         "yaxis": "y"
        }
       ],
       "layout": {
        "legend": {
         "title": {
          "text": "variable, type"
         },
         "tracegroupgap": 0
        },
        "margin": {
         "t": 60
        },
        "template": {
         "data": {
          "bar": [
           {
            "error_x": {
             "color": "#2a3f5f"
            },
            "error_y": {
             "color": "#2a3f5f"
            },
            "marker": {
             "line": {
              "color": "#E5ECF6",
              "width": 0.5
             }
            },
            "type": "bar"
           }
          ],
          "barpolar": [
           {
            "marker": {
             "line": {
              "color": "#E5ECF6",
              "width": 0.5
             }
            },
            "type": "barpolar"
           }
          ],
          "carpet": [
           {
            "aaxis": {
             "endlinecolor": "#2a3f5f",
             "gridcolor": "white",
             "linecolor": "white",
             "minorgridcolor": "white",
             "startlinecolor": "#2a3f5f"
            },
            "baxis": {
             "endlinecolor": "#2a3f5f",
             "gridcolor": "white",
             "linecolor": "white",
             "minorgridcolor": "white",
             "startlinecolor": "#2a3f5f"
            },
            "type": "carpet"
           }
          ],
          "choropleth": [
           {
            "colorbar": {
             "outlinewidth": 0,
             "ticks": ""
            },
            "type": "choropleth"
           }
          ],
          "contour": [
           {
            "colorbar": {
             "outlinewidth": 0,
             "ticks": ""
            },
            "colorscale": [
             [
              0,
              "#0d0887"
             ],
             [
              0.1111111111111111,
              "#46039f"
             ],
             [
              0.2222222222222222,
              "#7201a8"
             ],
             [
              0.3333333333333333,
              "#9c179e"
             ],
             [
              0.4444444444444444,
              "#bd3786"
             ],
             [
              0.5555555555555556,
              "#d8576b"
             ],
             [
              0.6666666666666666,
              "#ed7953"
             ],
             [
              0.7777777777777778,
              "#fb9f3a"
             ],
             [
              0.8888888888888888,
              "#fdca26"
             ],
             [
              1,
              "#f0f921"
             ]
            ],
            "type": "contour"
           }
          ],
          "contourcarpet": [
           {
            "colorbar": {
             "outlinewidth": 0,
             "ticks": ""
            },
            "type": "contourcarpet"
           }
          ],
          "heatmap": [
           {
            "colorbar": {
             "outlinewidth": 0,
             "ticks": ""
            },
            "colorscale": [
             [
              0,
              "#0d0887"
             ],
             [
              0.1111111111111111,
              "#46039f"
             ],
             [
              0.2222222222222222,
              "#7201a8"
             ],
             [
              0.3333333333333333,
              "#9c179e"
             ],
             [
              0.4444444444444444,
              "#bd3786"
             ],
             [
              0.5555555555555556,
              "#d8576b"
             ],
             [
              0.6666666666666666,
              "#ed7953"
             ],
             [
              0.7777777777777778,
              "#fb9f3a"
             ],
             [
              0.8888888888888888,
              "#fdca26"
             ],
             [
              1,
              "#f0f921"
             ]
            ],
            "type": "heatmap"
           }
          ],
          "heatmapgl": [
           {
            "colorbar": {
             "outlinewidth": 0,
             "ticks": ""
            },
            "colorscale": [
             [
              0,
              "#0d0887"
             ],
             [
              0.1111111111111111,
              "#46039f"
             ],
             [
              0.2222222222222222,
              "#7201a8"
             ],
             [
              0.3333333333333333,
              "#9c179e"
             ],
             [
              0.4444444444444444,
              "#bd3786"
             ],
             [
              0.5555555555555556,
              "#d8576b"
             ],
             [
              0.6666666666666666,
              "#ed7953"
             ],
             [
              0.7777777777777778,
              "#fb9f3a"
             ],
             [
              0.8888888888888888,
              "#fdca26"
             ],
             [
              1,
              "#f0f921"
             ]
            ],
            "type": "heatmapgl"
           }
          ],
          "histogram": [
           {
            "marker": {
             "colorbar": {
              "outlinewidth": 0,
              "ticks": ""
             }
            },
            "type": "histogram"
           }
          ],
          "histogram2d": [
           {
            "colorbar": {
             "outlinewidth": 0,
             "ticks": ""
            },
            "colorscale": [
             [
              0,
              "#0d0887"
             ],
             [
              0.1111111111111111,
              "#46039f"
             ],
             [
              0.2222222222222222,
              "#7201a8"
             ],
             [
              0.3333333333333333,
              "#9c179e"
             ],
             [
              0.4444444444444444,
              "#bd3786"
             ],
             [
              0.5555555555555556,
              "#d8576b"
             ],
             [
              0.6666666666666666,
              "#ed7953"
             ],
             [
              0.7777777777777778,
              "#fb9f3a"
             ],
             [
              0.8888888888888888,
              "#fdca26"
             ],
             [
              1,
              "#f0f921"
             ]
            ],
            "type": "histogram2d"
           }
          ],
          "histogram2dcontour": [
           {
            "colorbar": {
             "outlinewidth": 0,
             "ticks": ""
            },
            "colorscale": [
             [
              0,
              "#0d0887"
             ],
             [
              0.1111111111111111,
              "#46039f"
             ],
             [
              0.2222222222222222,
              "#7201a8"
             ],
             [
              0.3333333333333333,
              "#9c179e"
             ],
             [
              0.4444444444444444,
              "#bd3786"
             ],
             [
              0.5555555555555556,
              "#d8576b"
             ],
             [
              0.6666666666666666,
              "#ed7953"
             ],
             [
              0.7777777777777778,
              "#fb9f3a"
             ],
             [
              0.8888888888888888,
              "#fdca26"
             ],
             [
              1,
              "#f0f921"
             ]
            ],
            "type": "histogram2dcontour"
           }
          ],
          "mesh3d": [
           {
            "colorbar": {
             "outlinewidth": 0,
             "ticks": ""
            },
            "type": "mesh3d"
           }
          ],
          "parcoords": [
           {
            "line": {
             "colorbar": {
              "outlinewidth": 0,
              "ticks": ""
             }
            },
            "type": "parcoords"
           }
          ],
          "pie": [
           {
            "automargin": true,
            "type": "pie"
           }
          ],
          "scatter": [
           {
            "marker": {
             "colorbar": {
              "outlinewidth": 0,
              "ticks": ""
             }
            },
            "type": "scatter"
           }
          ],
          "scatter3d": [
           {
            "line": {
             "colorbar": {
              "outlinewidth": 0,
              "ticks": ""
             }
            },
            "marker": {
             "colorbar": {
              "outlinewidth": 0,
              "ticks": ""
             }
            },
            "type": "scatter3d"
           }
          ],
          "scattercarpet": [
           {
            "marker": {
             "colorbar": {
              "outlinewidth": 0,
              "ticks": ""
             }
            },
            "type": "scattercarpet"
           }
          ],
          "scattergeo": [
           {
            "marker": {
             "colorbar": {
              "outlinewidth": 0,
              "ticks": ""
             }
            },
            "type": "scattergeo"
           }
          ],
          "scattergl": [
           {
            "marker": {
             "colorbar": {
              "outlinewidth": 0,
              "ticks": ""
             }
            },
            "type": "scattergl"
           }
          ],
          "scattermapbox": [
           {
            "marker": {
             "colorbar": {
              "outlinewidth": 0,
              "ticks": ""
             }
            },
            "type": "scattermapbox"
           }
          ],
          "scatterpolar": [
           {
            "marker": {
             "colorbar": {
              "outlinewidth": 0,
              "ticks": ""
             }
            },
            "type": "scatterpolar"
           }
          ],
          "scatterpolargl": [
           {
            "marker": {
             "colorbar": {
              "outlinewidth": 0,
              "ticks": ""
             }
            },
            "type": "scatterpolargl"
           }
          ],
          "scatterternary": [
           {
            "marker": {
             "colorbar": {
              "outlinewidth": 0,
              "ticks": ""
             }
            },
            "type": "scatterternary"
           }
          ],
          "surface": [
           {
            "colorbar": {
             "outlinewidth": 0,
             "ticks": ""
            },
            "colorscale": [
             [
              0,
              "#0d0887"
             ],
             [
              0.1111111111111111,
              "#46039f"
             ],
             [
              0.2222222222222222,
              "#7201a8"
             ],
             [
              0.3333333333333333,
              "#9c179e"
             ],
             [
              0.4444444444444444,
              "#bd3786"
             ],
             [
              0.5555555555555556,
              "#d8576b"
             ],
             [
              0.6666666666666666,
              "#ed7953"
             ],
             [
              0.7777777777777778,
              "#fb9f3a"
             ],
             [
              0.8888888888888888,
              "#fdca26"
             ],
             [
              1,
              "#f0f921"
             ]
            ],
            "type": "surface"
           }
          ],
          "table": [
           {
            "cells": {
             "fill": {
              "color": "#EBF0F8"
             },
             "line": {
              "color": "white"
             }
            },
            "header": {
             "fill": {
              "color": "#C8D4E3"
             },
             "line": {
              "color": "white"
             }
            },
            "type": "table"
           }
          ]
         },
         "layout": {
          "annotationdefaults": {
           "arrowcolor": "#2a3f5f",
           "arrowhead": 0,
           "arrowwidth": 1
          },
          "coloraxis": {
           "colorbar": {
            "outlinewidth": 0,
            "ticks": ""
           }
          },
          "colorscale": {
           "diverging": [
            [
             0,
             "#8e0152"
            ],
            [
             0.1,
             "#c51b7d"
            ],
            [
             0.2,
             "#de77ae"
            ],
            [
             0.3,
             "#f1b6da"
            ],
            [
             0.4,
             "#fde0ef"
            ],
            [
             0.5,
             "#f7f7f7"
            ],
            [
             0.6,
             "#e6f5d0"
            ],
            [
             0.7,
             "#b8e186"
            ],
            [
             0.8,
             "#7fbc41"
            ],
            [
             0.9,
             "#4d9221"
            ],
            [
             1,
             "#276419"
            ]
           ],
           "sequential": [
            [
             0,
             "#0d0887"
            ],
            [
             0.1111111111111111,
             "#46039f"
            ],
            [
             0.2222222222222222,
             "#7201a8"
            ],
            [
             0.3333333333333333,
             "#9c179e"
            ],
            [
             0.4444444444444444,
             "#bd3786"
            ],
            [
             0.5555555555555556,
             "#d8576b"
            ],
            [
             0.6666666666666666,
             "#ed7953"
            ],
            [
             0.7777777777777778,
             "#fb9f3a"
            ],
            [
             0.8888888888888888,
             "#fdca26"
            ],
            [
             1,
             "#f0f921"
            ]
           ],
           "sequentialminus": [
            [
             0,
             "#0d0887"
            ],
            [
             0.1111111111111111,
             "#46039f"
            ],
            [
             0.2222222222222222,
             "#7201a8"
            ],
            [
             0.3333333333333333,
             "#9c179e"
            ],
            [
             0.4444444444444444,
             "#bd3786"
            ],
            [
             0.5555555555555556,
             "#d8576b"
            ],
            [
             0.6666666666666666,
             "#ed7953"
            ],
            [
             0.7777777777777778,
             "#fb9f3a"
            ],
            [
             0.8888888888888888,
             "#fdca26"
            ],
            [
             1,
             "#f0f921"
            ]
           ]
          },
          "colorway": [
           "#636efa",
           "#EF553B",
           "#00cc96",
           "#ab63fa",
           "#FFA15A",
           "#19d3f3",
           "#FF6692",
           "#B6E880",
           "#FF97FF",
           "#FECB52"
          ],
          "font": {
           "color": "#2a3f5f"
          },
          "geo": {
           "bgcolor": "white",
           "lakecolor": "white",
           "landcolor": "#E5ECF6",
           "showlakes": true,
           "showland": true,
           "subunitcolor": "white"
          },
          "hoverlabel": {
           "align": "left"
          },
          "hovermode": "closest",
          "mapbox": {
           "style": "light"
          },
          "paper_bgcolor": "white",
          "plot_bgcolor": "#E5ECF6",
          "polar": {
           "angularaxis": {
            "gridcolor": "white",
            "linecolor": "white",
            "ticks": ""
           },
           "bgcolor": "#E5ECF6",
           "radialaxis": {
            "gridcolor": "white",
            "linecolor": "white",
            "ticks": ""
           }
          },
          "scene": {
           "xaxis": {
            "backgroundcolor": "#E5ECF6",
            "gridcolor": "white",
            "gridwidth": 2,
            "linecolor": "white",
            "showbackground": true,
            "ticks": "",
            "zerolinecolor": "white"
           },
           "yaxis": {
            "backgroundcolor": "#E5ECF6",
            "gridcolor": "white",
            "gridwidth": 2,
            "linecolor": "white",
            "showbackground": true,
            "ticks": "",
            "zerolinecolor": "white"
           },
           "zaxis": {
            "backgroundcolor": "#E5ECF6",
            "gridcolor": "white",
            "gridwidth": 2,
            "linecolor": "white",
            "showbackground": true,
            "ticks": "",
            "zerolinecolor": "white"
           }
          },
          "shapedefaults": {
           "line": {
            "color": "#2a3f5f"
           }
          },
          "ternary": {
           "aaxis": {
            "gridcolor": "white",
            "linecolor": "white",
            "ticks": ""
           },
           "baxis": {
            "gridcolor": "white",
            "linecolor": "white",
            "ticks": ""
           },
           "bgcolor": "#E5ECF6",
           "caxis": {
            "gridcolor": "white",
            "linecolor": "white",
            "ticks": ""
           }
          },
          "title": {
           "x": 0.05
          },
          "xaxis": {
           "automargin": true,
           "gridcolor": "white",
           "linecolor": "white",
           "ticks": "",
           "title": {
            "standoff": 15
           },
           "zerolinecolor": "white",
           "zerolinewidth": 2
          },
          "yaxis": {
           "automargin": true,
           "gridcolor": "white",
           "linecolor": "white",
           "ticks": "",
           "title": {
            "standoff": 15
           },
           "zerolinecolor": "white",
           "zerolinewidth": 2
          }
         }
        },
        "xaxis": {
         "anchor": "y",
         "domain": [
          0,
          1
         ],
         "title": {
          "text": "date"
         }
        },
        "yaxis": {
         "anchor": "x",
         "domain": [
          0,
          1
         ],
         "title": {
          "text": "value"
         }
        }
       }
      },
      "text/html": [
       "<div>                            <div id=\"2851772f-bef5-4f09-8d4c-9af182c306f5\" class=\"plotly-graph-div\" style=\"height:525px; width:100%;\"></div>            <script type=\"text/javascript\">                require([\"plotly\"], function(Plotly) {                    window.PLOTLYENV=window.PLOTLYENV || {};                                    if (document.getElementById(\"2851772f-bef5-4f09-8d4c-9af182c306f5\")) {                    Plotly.newPlot(                        \"2851772f-bef5-4f09-8d4c-9af182c306f5\",                        [{\"hovertemplate\": \"variable=gross_conversion<br>type=control<br>date=%{x}<br>value=%{y}<extra></extra>\", \"legendgroup\": \"gross_conversion, control\", \"line\": {\"color\": \"#636efa\", \"dash\": \"solid\"}, \"mode\": \"lines\", \"name\": \"gross_conversion, control\", \"orientation\": \"v\", \"showlegend\": true, \"type\": \"scatter\", \"x\": [\"2014-10-11T00:00:00\", \"2014-10-12T00:00:00\", \"2014-10-13T00:00:00\", \"2014-10-14T00:00:00\", \"2014-10-15T00:00:00\", \"2014-10-16T00:00:00\", \"2014-10-17T00:00:00\", \"2014-10-18T00:00:00\", \"2014-10-19T00:00:00\", \"2014-10-20T00:00:00\", \"2014-10-21T00:00:00\", \"2014-10-22T00:00:00\", \"2014-10-23T00:00:00\", \"2014-10-24T00:00:00\", \"2014-10-25T00:00:00\", \"2014-10-26T00:00:00\", \"2014-10-27T00:00:00\", \"2014-10-28T00:00:00\", \"2014-10-29T00:00:00\", \"2014-10-30T00:00:00\", \"2014-10-31T00:00:00\", \"2014-11-01T00:00:00\", \"2014-11-02T00:00:00\"], \"xaxis\": \"x\", \"y\": [0.1950509461426492, 0.18870346598202825, 0.18371837183718373, 0.18660287081339713, 0.19474313022700118, 0.16767922235722965, 0.19518716577540107, 0.17405063291139242, 0.18958031837916064, 0.1916376306620209, 0.22606689734717417, 0.19331742243436753, 0.19097744360902255, 0.32689450222882616, 0.25470332850940663, 0.2274011299435028, 0.3069828722002635, 0.20923913043478262, 0.2652232746955345, 0.22752043596730245, 0.24645892351274787, 0.2290748898678414, 0.2972582972582973], \"yaxis\": \"y\"}, {\"hovertemplate\": \"variable=gross_conversion<br>type=experiment<br>date=%{x}<br>value=%{y}<extra></extra>\", \"legendgroup\": \"gross_conversion, experiment\", \"line\": {\"color\": \"#636efa\", \"dash\": \"dot\"}, \"mode\": \"lines\", \"name\": \"gross_conversion, experiment\", \"orientation\": \"v\", \"showlegend\": true, \"type\": \"scatter\", \"x\": [\"2014-10-11T00:00:00\", \"2014-10-12T00:00:00\", \"2014-10-13T00:00:00\", \"2014-10-14T00:00:00\", \"2014-10-15T00:00:00\", \"2014-10-16T00:00:00\", \"2014-10-17T00:00:00\", \"2014-10-18T00:00:00\", \"2014-10-19T00:00:00\", \"2014-10-20T00:00:00\", \"2014-10-21T00:00:00\", \"2014-10-22T00:00:00\", \"2014-10-23T00:00:00\", \"2014-10-24T00:00:00\", \"2014-10-25T00:00:00\", \"2014-10-26T00:00:00\", \"2014-10-27T00:00:00\", \"2014-10-28T00:00:00\", \"2014-10-29T00:00:00\", \"2014-10-30T00:00:00\", \"2014-10-31T00:00:00\", \"2014-11-01T00:00:00\", \"2014-11-02T00:00:00\"], \"xaxis\": \"x\", \"y\": [0.15306122448979592, 0.14777070063694267, 0.16402714932126697, 0.16686819830713423, 0.16826923076923078, 0.16370558375634517, 0.16282051282051282, 0.1441717791411043, 0.17216642754662842, 0.17790697674418604, 0.16550925925925927, 0.15980024968789014, 0.19003115264797507, 0.2783357245337159, 0.1898355754857997, 0.22077922077922077, 0.27626459143968873, 0.22010869565217392, 0.2764786795048143, 0.28434065934065933, 0.2520775623268698, 0.20431654676258992, 0.2513812154696133], \"yaxis\": \"y\"}, {\"hovertemplate\": \"variable=retention<br>type=control<br>date=%{x}<br>value=%{y}<extra></extra>\", \"legendgroup\": \"retention, control\", \"line\": {\"color\": \"#EF553B\", \"dash\": \"solid\"}, \"mode\": \"lines\", \"name\": \"retention, control\", \"orientation\": \"v\", \"showlegend\": true, \"type\": \"scatter\", \"x\": [\"2014-10-11T00:00:00\", \"2014-10-12T00:00:00\", \"2014-10-13T00:00:00\", \"2014-10-14T00:00:00\", \"2014-10-15T00:00:00\", \"2014-10-16T00:00:00\", \"2014-10-17T00:00:00\", \"2014-10-18T00:00:00\", \"2014-10-19T00:00:00\", \"2014-10-20T00:00:00\", \"2014-10-21T00:00:00\", \"2014-10-22T00:00:00\", \"2014-10-23T00:00:00\", \"2014-10-24T00:00:00\", \"2014-10-25T00:00:00\", \"2014-10-26T00:00:00\", \"2014-10-27T00:00:00\", \"2014-10-28T00:00:00\", \"2014-10-29T00:00:00\", \"2014-10-30T00:00:00\", \"2014-10-31T00:00:00\", \"2014-11-01T00:00:00\", \"2014-11-02T00:00:00\"], \"xaxis\": \"x\", \"y\": [0.5223880597014925, 0.47619047619047616, 0.5688622754491018, 0.6730769230769231, 0.39263803680981596, 0.5942028985507246, 0.5205479452054794, 0.6363636363636364, 0.4580152671755725, 0.5878787878787879, 0.5357142857142857, 0.5679012345679012, 0.4409448818897638, 0.5545454545454546, 0.7272727272727273, 0.6459627329192547, 0.5321888412017167, 0.5909090909090909, 0.4387755102040816, 0.4491017964071856, 0.5804597701149425, 0.5961538461538461, 0.32524271844660196], \"yaxis\": \"y\"}, {\"hovertemplate\": \"variable=retention<br>type=experiment<br>date=%{x}<br>value=%{y}<extra></extra>\", \"legendgroup\": \"retention, experiment\", \"line\": {\"color\": \"#EF553B\", \"dash\": \"dot\"}, \"mode\": \"lines\", \"name\": \"retention, experiment\", \"orientation\": \"v\", \"showlegend\": true, \"type\": \"scatter\", \"x\": [\"2014-10-11T00:00:00\", \"2014-10-12T00:00:00\", \"2014-10-13T00:00:00\", \"2014-10-14T00:00:00\", \"2014-10-15T00:00:00\", \"2014-10-16T00:00:00\", \"2014-10-17T00:00:00\", \"2014-10-18T00:00:00\", \"2014-10-19T00:00:00\", \"2014-10-20T00:00:00\", \"2014-10-21T00:00:00\", \"2014-10-22T00:00:00\", \"2014-10-23T00:00:00\", \"2014-10-24T00:00:00\", \"2014-10-25T00:00:00\", \"2014-10-26T00:00:00\", \"2014-10-27T00:00:00\", \"2014-10-28T00:00:00\", \"2014-10-29T00:00:00\", \"2014-10-30T00:00:00\", \"2014-10-31T00:00:00\", \"2014-11-01T00:00:00\", \"2014-11-02T00:00:00\"], \"xaxis\": \"x\", \"y\": [0.3238095238095238, 0.7844827586206896, 0.5448275862068965, 0.6666666666666666, 0.6714285714285714, 0.4728682170542636, 0.3464566929133858, 0.6595744680851063, 0.6416666666666667, 0.6405228758169934, 0.4965034965034965, 0.546875, 0.5573770491803278, 0.4845360824742268, 0.6377952755905512, 0.6601307189542484, 0.5586854460093896, 0.7407407407407407, 0.47761194029850745, 0.32367149758454106, 0.6758241758241759, 0.704225352112676, 0.5659340659340659], \"yaxis\": \"y\"}, {\"hovertemplate\": \"variable=net_conversion<br>type=control<br>date=%{x}<br>value=%{y}<extra></extra>\", \"legendgroup\": \"net_conversion, control\", \"line\": {\"color\": \"#00cc96\", \"dash\": \"solid\"}, \"mode\": \"lines\", \"name\": \"net_conversion, control\", \"orientation\": \"v\", \"showlegend\": true, \"type\": \"scatter\", \"x\": [\"2014-10-11T00:00:00\", \"2014-10-12T00:00:00\", \"2014-10-13T00:00:00\", \"2014-10-14T00:00:00\", \"2014-10-15T00:00:00\", \"2014-10-16T00:00:00\", \"2014-10-17T00:00:00\", \"2014-10-18T00:00:00\", \"2014-10-19T00:00:00\", \"2014-10-20T00:00:00\", \"2014-10-21T00:00:00\", \"2014-10-22T00:00:00\", \"2014-10-23T00:00:00\", \"2014-10-24T00:00:00\", \"2014-10-25T00:00:00\", \"2014-10-26T00:00:00\", \"2014-10-27T00:00:00\", \"2014-10-28T00:00:00\", \"2014-10-29T00:00:00\", \"2014-10-30T00:00:00\", \"2014-10-31T00:00:00\", \"2014-11-01T00:00:00\", \"2014-11-02T00:00:00\"], \"xaxis\": \"x\", \"y\": [0.10189228529839883, 0.08985879332477535, 0.10451045104510451, 0.1255980861244019, 0.07646356033452807, 0.09963547995139732, 0.10160427807486631, 0.11075949367088607, 0.08683068017366136, 0.11265969802555169, 0.12110726643598616, 0.10978520286396182, 0.08421052631578947, 0.1812778603268945, 0.18523878437047755, 0.14689265536723164, 0.16337285902503293, 0.12364130434782608, 0.11637347767253045, 0.10217983651226158, 0.14305949008498584, 0.13656387665198239, 0.09668109668109669], \"yaxis\": \"y\"}, {\"hovertemplate\": \"variable=net_conversion<br>type=experiment<br>date=%{x}<br>value=%{y}<extra></extra>\", \"legendgroup\": \"net_conversion, experiment\", \"line\": {\"color\": \"#00cc96\", \"dash\": \"dot\"}, \"mode\": \"lines\", \"name\": \"net_conversion, experiment\", \"orientation\": \"v\", \"showlegend\": true, \"type\": \"scatter\", \"x\": [\"2014-10-11T00:00:00\", \"2014-10-12T00:00:00\", \"2014-10-13T00:00:00\", \"2014-10-14T00:00:00\", \"2014-10-15T00:00:00\", \"2014-10-16T00:00:00\", \"2014-10-17T00:00:00\", \"2014-10-18T00:00:00\", \"2014-10-19T00:00:00\", \"2014-10-20T00:00:00\", \"2014-10-21T00:00:00\", \"2014-10-22T00:00:00\", \"2014-10-23T00:00:00\", \"2014-10-24T00:00:00\", \"2014-10-25T00:00:00\", \"2014-10-26T00:00:00\", \"2014-10-27T00:00:00\", \"2014-10-28T00:00:00\", \"2014-10-29T00:00:00\", \"2014-10-30T00:00:00\", \"2014-10-31T00:00:00\", \"2014-11-01T00:00:00\", \"2014-11-02T00:00:00\"], \"xaxis\": \"x\", \"y\": [0.04956268221574344, 0.1159235668789809, 0.08936651583710407, 0.11124546553808948, 0.11298076923076923, 0.07741116751269035, 0.05641025641025641, 0.0950920245398773, 0.11047345767575323, 0.11395348837209303, 0.08217592592592593, 0.08739076154806492, 0.1059190031152648, 0.13486370157819225, 0.1210762331838565, 0.14574314574314573, 0.1543450064850843, 0.16304347826086957, 0.13204951856946354, 0.09203296703296704, 0.1703601108033241, 0.14388489208633093, 0.14226519337016574], \"yaxis\": \"y\"}],                        {\"legend\": {\"title\": {\"text\": \"variable, type\"}, \"tracegroupgap\": 0}, \"margin\": {\"t\": 60}, \"template\": {\"data\": {\"bar\": [{\"error_x\": {\"color\": \"#2a3f5f\"}, \"error_y\": {\"color\": \"#2a3f5f\"}, \"marker\": {\"line\": {\"color\": \"#E5ECF6\", \"width\": 0.5}}, \"type\": \"bar\"}], \"barpolar\": [{\"marker\": {\"line\": {\"color\": \"#E5ECF6\", \"width\": 0.5}}, \"type\": \"barpolar\"}], \"carpet\": [{\"aaxis\": {\"endlinecolor\": \"#2a3f5f\", \"gridcolor\": \"white\", \"linecolor\": \"white\", \"minorgridcolor\": \"white\", \"startlinecolor\": \"#2a3f5f\"}, \"baxis\": {\"endlinecolor\": \"#2a3f5f\", \"gridcolor\": \"white\", \"linecolor\": \"white\", \"minorgridcolor\": \"white\", \"startlinecolor\": \"#2a3f5f\"}, \"type\": \"carpet\"}], \"choropleth\": [{\"colorbar\": {\"outlinewidth\": 0, \"ticks\": \"\"}, \"type\": \"choropleth\"}], \"contour\": [{\"colorbar\": {\"outlinewidth\": 0, \"ticks\": \"\"}, \"colorscale\": [[0.0, \"#0d0887\"], [0.1111111111111111, \"#46039f\"], [0.2222222222222222, \"#7201a8\"], [0.3333333333333333, \"#9c179e\"], [0.4444444444444444, \"#bd3786\"], [0.5555555555555556, \"#d8576b\"], [0.6666666666666666, \"#ed7953\"], [0.7777777777777778, \"#fb9f3a\"], [0.8888888888888888, \"#fdca26\"], [1.0, \"#f0f921\"]], \"type\": \"contour\"}], \"contourcarpet\": [{\"colorbar\": {\"outlinewidth\": 0, \"ticks\": \"\"}, \"type\": \"contourcarpet\"}], \"heatmap\": [{\"colorbar\": {\"outlinewidth\": 0, \"ticks\": \"\"}, \"colorscale\": [[0.0, \"#0d0887\"], [0.1111111111111111, \"#46039f\"], [0.2222222222222222, \"#7201a8\"], [0.3333333333333333, \"#9c179e\"], [0.4444444444444444, \"#bd3786\"], [0.5555555555555556, \"#d8576b\"], [0.6666666666666666, \"#ed7953\"], [0.7777777777777778, \"#fb9f3a\"], [0.8888888888888888, \"#fdca26\"], [1.0, \"#f0f921\"]], \"type\": \"heatmap\"}], \"heatmapgl\": [{\"colorbar\": {\"outlinewidth\": 0, \"ticks\": \"\"}, \"colorscale\": [[0.0, \"#0d0887\"], [0.1111111111111111, \"#46039f\"], [0.2222222222222222, \"#7201a8\"], [0.3333333333333333, \"#9c179e\"], [0.4444444444444444, \"#bd3786\"], [0.5555555555555556, \"#d8576b\"], [0.6666666666666666, \"#ed7953\"], [0.7777777777777778, \"#fb9f3a\"], [0.8888888888888888, \"#fdca26\"], [1.0, \"#f0f921\"]], \"type\": \"heatmapgl\"}], \"histogram\": [{\"marker\": {\"colorbar\": {\"outlinewidth\": 0, \"ticks\": \"\"}}, \"type\": \"histogram\"}], \"histogram2d\": [{\"colorbar\": {\"outlinewidth\": 0, \"ticks\": \"\"}, \"colorscale\": [[0.0, \"#0d0887\"], [0.1111111111111111, \"#46039f\"], [0.2222222222222222, \"#7201a8\"], [0.3333333333333333, \"#9c179e\"], [0.4444444444444444, \"#bd3786\"], [0.5555555555555556, \"#d8576b\"], [0.6666666666666666, \"#ed7953\"], [0.7777777777777778, \"#fb9f3a\"], [0.8888888888888888, \"#fdca26\"], [1.0, \"#f0f921\"]], \"type\": \"histogram2d\"}], \"histogram2dcontour\": [{\"colorbar\": {\"outlinewidth\": 0, \"ticks\": \"\"}, \"colorscale\": [[0.0, \"#0d0887\"], [0.1111111111111111, \"#46039f\"], [0.2222222222222222, \"#7201a8\"], [0.3333333333333333, \"#9c179e\"], [0.4444444444444444, \"#bd3786\"], [0.5555555555555556, \"#d8576b\"], [0.6666666666666666, \"#ed7953\"], [0.7777777777777778, \"#fb9f3a\"], [0.8888888888888888, \"#fdca26\"], [1.0, \"#f0f921\"]], \"type\": \"histogram2dcontour\"}], \"mesh3d\": [{\"colorbar\": {\"outlinewidth\": 0, \"ticks\": \"\"}, \"type\": \"mesh3d\"}], \"parcoords\": [{\"line\": {\"colorbar\": {\"outlinewidth\": 0, \"ticks\": \"\"}}, \"type\": \"parcoords\"}], \"pie\": [{\"automargin\": true, \"type\": \"pie\"}], \"scatter\": [{\"marker\": {\"colorbar\": {\"outlinewidth\": 0, \"ticks\": \"\"}}, \"type\": \"scatter\"}], \"scatter3d\": [{\"line\": {\"colorbar\": {\"outlinewidth\": 0, \"ticks\": \"\"}}, \"marker\": {\"colorbar\": {\"outlinewidth\": 0, \"ticks\": \"\"}}, \"type\": \"scatter3d\"}], \"scattercarpet\": [{\"marker\": {\"colorbar\": {\"outlinewidth\": 0, \"ticks\": \"\"}}, \"type\": \"scattercarpet\"}], \"scattergeo\": [{\"marker\": {\"colorbar\": {\"outlinewidth\": 0, \"ticks\": \"\"}}, \"type\": \"scattergeo\"}], \"scattergl\": [{\"marker\": {\"colorbar\": {\"outlinewidth\": 0, \"ticks\": \"\"}}, \"type\": \"scattergl\"}], \"scattermapbox\": [{\"marker\": {\"colorbar\": {\"outlinewidth\": 0, \"ticks\": \"\"}}, \"type\": \"scattermapbox\"}], \"scatterpolar\": [{\"marker\": {\"colorbar\": {\"outlinewidth\": 0, \"ticks\": \"\"}}, \"type\": \"scatterpolar\"}], \"scatterpolargl\": [{\"marker\": {\"colorbar\": {\"outlinewidth\": 0, \"ticks\": \"\"}}, \"type\": \"scatterpolargl\"}], \"scatterternary\": [{\"marker\": {\"colorbar\": {\"outlinewidth\": 0, \"ticks\": \"\"}}, \"type\": \"scatterternary\"}], \"surface\": [{\"colorbar\": {\"outlinewidth\": 0, \"ticks\": \"\"}, \"colorscale\": [[0.0, \"#0d0887\"], [0.1111111111111111, \"#46039f\"], [0.2222222222222222, \"#7201a8\"], [0.3333333333333333, \"#9c179e\"], [0.4444444444444444, \"#bd3786\"], [0.5555555555555556, \"#d8576b\"], [0.6666666666666666, \"#ed7953\"], [0.7777777777777778, \"#fb9f3a\"], [0.8888888888888888, \"#fdca26\"], [1.0, \"#f0f921\"]], \"type\": \"surface\"}], \"table\": [{\"cells\": {\"fill\": {\"color\": \"#EBF0F8\"}, \"line\": {\"color\": \"white\"}}, \"header\": {\"fill\": {\"color\": \"#C8D4E3\"}, \"line\": {\"color\": \"white\"}}, \"type\": \"table\"}]}, \"layout\": {\"annotationdefaults\": {\"arrowcolor\": \"#2a3f5f\", \"arrowhead\": 0, \"arrowwidth\": 1}, \"coloraxis\": {\"colorbar\": {\"outlinewidth\": 0, \"ticks\": \"\"}}, \"colorscale\": {\"diverging\": [[0, \"#8e0152\"], [0.1, \"#c51b7d\"], [0.2, \"#de77ae\"], [0.3, \"#f1b6da\"], [0.4, \"#fde0ef\"], [0.5, \"#f7f7f7\"], [0.6, \"#e6f5d0\"], [0.7, \"#b8e186\"], [0.8, \"#7fbc41\"], [0.9, \"#4d9221\"], [1, \"#276419\"]], \"sequential\": [[0.0, \"#0d0887\"], [0.1111111111111111, \"#46039f\"], [0.2222222222222222, \"#7201a8\"], [0.3333333333333333, \"#9c179e\"], [0.4444444444444444, \"#bd3786\"], [0.5555555555555556, \"#d8576b\"], [0.6666666666666666, \"#ed7953\"], [0.7777777777777778, \"#fb9f3a\"], [0.8888888888888888, \"#fdca26\"], [1.0, \"#f0f921\"]], \"sequentialminus\": [[0.0, \"#0d0887\"], [0.1111111111111111, \"#46039f\"], [0.2222222222222222, \"#7201a8\"], [0.3333333333333333, \"#9c179e\"], [0.4444444444444444, \"#bd3786\"], [0.5555555555555556, \"#d8576b\"], [0.6666666666666666, \"#ed7953\"], [0.7777777777777778, \"#fb9f3a\"], [0.8888888888888888, \"#fdca26\"], [1.0, \"#f0f921\"]]}, \"colorway\": [\"#636efa\", \"#EF553B\", \"#00cc96\", \"#ab63fa\", \"#FFA15A\", \"#19d3f3\", \"#FF6692\", \"#B6E880\", \"#FF97FF\", \"#FECB52\"], \"font\": {\"color\": \"#2a3f5f\"}, \"geo\": {\"bgcolor\": \"white\", \"lakecolor\": \"white\", \"landcolor\": \"#E5ECF6\", \"showlakes\": true, \"showland\": true, \"subunitcolor\": \"white\"}, \"hoverlabel\": {\"align\": \"left\"}, \"hovermode\": \"closest\", \"mapbox\": {\"style\": \"light\"}, \"paper_bgcolor\": \"white\", \"plot_bgcolor\": \"#E5ECF6\", \"polar\": {\"angularaxis\": {\"gridcolor\": \"white\", \"linecolor\": \"white\", \"ticks\": \"\"}, \"bgcolor\": \"#E5ECF6\", \"radialaxis\": {\"gridcolor\": \"white\", \"linecolor\": \"white\", \"ticks\": \"\"}}, \"scene\": {\"xaxis\": {\"backgroundcolor\": \"#E5ECF6\", \"gridcolor\": \"white\", \"gridwidth\": 2, \"linecolor\": \"white\", \"showbackground\": true, \"ticks\": \"\", \"zerolinecolor\": \"white\"}, \"yaxis\": {\"backgroundcolor\": \"#E5ECF6\", \"gridcolor\": \"white\", \"gridwidth\": 2, \"linecolor\": \"white\", \"showbackground\": true, \"ticks\": \"\", \"zerolinecolor\": \"white\"}, \"zaxis\": {\"backgroundcolor\": \"#E5ECF6\", \"gridcolor\": \"white\", \"gridwidth\": 2, \"linecolor\": \"white\", \"showbackground\": true, \"ticks\": \"\", \"zerolinecolor\": \"white\"}}, \"shapedefaults\": {\"line\": {\"color\": \"#2a3f5f\"}}, \"ternary\": {\"aaxis\": {\"gridcolor\": \"white\", \"linecolor\": \"white\", \"ticks\": \"\"}, \"baxis\": {\"gridcolor\": \"white\", \"linecolor\": \"white\", \"ticks\": \"\"}, \"bgcolor\": \"#E5ECF6\", \"caxis\": {\"gridcolor\": \"white\", \"linecolor\": \"white\", \"ticks\": \"\"}}, \"title\": {\"x\": 0.05}, \"xaxis\": {\"automargin\": true, \"gridcolor\": \"white\", \"linecolor\": \"white\", \"ticks\": \"\", \"title\": {\"standoff\": 15}, \"zerolinecolor\": \"white\", \"zerolinewidth\": 2}, \"yaxis\": {\"automargin\": true, \"gridcolor\": \"white\", \"linecolor\": \"white\", \"ticks\": \"\", \"title\": {\"standoff\": 15}, \"zerolinecolor\": \"white\", \"zerolinewidth\": 2}}}, \"xaxis\": {\"anchor\": \"y\", \"domain\": [0.0, 1.0], \"title\": {\"text\": \"date\"}}, \"yaxis\": {\"anchor\": \"x\", \"domain\": [0.0, 1.0], \"title\": {\"text\": \"value\"}}},                        {\"responsive\": true}                    ).then(function(){\n",
       "                            \n",
       "var gd = document.getElementById('2851772f-bef5-4f09-8d4c-9af182c306f5');\n",
       "var x = new MutationObserver(function (mutations, observer) {{\n",
       "        var display = window.getComputedStyle(gd).display;\n",
       "        if (!display || display === 'none') {{\n",
       "            console.log([gd, 'removed!']);\n",
       "            Plotly.purge(gd);\n",
       "            observer.disconnect();\n",
       "        }}\n",
       "}});\n",
       "\n",
       "// Listen for the removal of the full notebook cells\n",
       "var notebookContainer = gd.closest('#notebook-container');\n",
       "if (notebookContainer) {{\n",
       "    x.observe(notebookContainer, {childList: true});\n",
       "}}\n",
       "\n",
       "// Listen for the clearing of the current output cell\n",
       "var outputEl = gd.closest('.output');\n",
       "if (outputEl) {{\n",
       "    x.observe(outputEl, {childList: true});\n",
       "}}\n",
       "\n",
       "                        })                };                });            </script>        </div>"
      ]
     },
     "metadata": {},
     "output_type": "display_data"
    }
   ],
   "source": [
    "fig = px.line(df_concat[~df_concat['gross_conversion'].isnull()],x='date',y=['gross_conversion','retention','net_conversion'],line_dash = 'type')\n",
    "fig.show()"
   ]
  },
  {
   "cell_type": "markdown",
   "metadata": {},
   "source": [
    "**Analysis**  \n",
    "From this plot we can see that \n",
    "- It seems that the gross conversion rate after Oct 23 is more volatile and higher versus before it's pretty flat and the values are lower, we'll test if there're outliers in the control group and if there is, see if there's any reasons(e.g., engineering problems) resulting in it.\n",
    "- I'll also test whether there's outliers in net conversion.\n",
    "- Retention seems extremely volatile, especially for experiment group(from 32% to 78%).\n"
   ]
  },
  {
   "cell_type": "code",
   "execution_count": 85,
   "metadata": {},
   "outputs": [
    {
     "data": {
      "application/vnd.plotly.v1+json": {
       "config": {
        "plotlyServerURL": "https://plot.ly"
       },
       "data": [
        {
         "hovertemplate": "variable=Pageviews<br>type=control<br>date=%{x}<br>value=%{y}<extra></extra>",
         "legendgroup": "Pageviews, control",
         "line": {
          "color": "#636efa",
          "dash": "solid"
         },
         "mode": "lines",
         "name": "Pageviews, control",
         "orientation": "v",
         "showlegend": true,
         "type": "scatter",
         "x": [
          "2014-10-11T00:00:00",
          "2014-10-12T00:00:00",
          "2014-10-13T00:00:00",
          "2014-10-14T00:00:00",
          "2014-10-15T00:00:00",
          "2014-10-16T00:00:00",
          "2014-10-17T00:00:00",
          "2014-10-18T00:00:00",
          "2014-10-19T00:00:00",
          "2014-10-20T00:00:00",
          "2014-10-21T00:00:00",
          "2014-10-22T00:00:00",
          "2014-10-23T00:00:00",
          "2014-10-24T00:00:00",
          "2014-10-25T00:00:00",
          "2014-10-26T00:00:00",
          "2014-10-27T00:00:00",
          "2014-10-28T00:00:00",
          "2014-10-29T00:00:00",
          "2014-10-30T00:00:00",
          "2014-10-31T00:00:00",
          "2014-11-01T00:00:00",
          "2014-11-02T00:00:00",
          "2014-11-03T00:00:00",
          "2014-11-04T00:00:00",
          "2014-11-05T00:00:00",
          "2014-11-06T00:00:00",
          "2014-11-07T00:00:00",
          "2014-11-08T00:00:00",
          "2014-11-09T00:00:00",
          "2014-11-10T00:00:00",
          "2014-11-11T00:00:00",
          "2014-11-12T00:00:00",
          "2014-11-13T00:00:00",
          "2014-11-14T00:00:00",
          "2014-11-15T00:00:00",
          "2014-11-16T00:00:00"
         ],
         "xaxis": "x",
         "y": [
          7723,
          9102,
          10511,
          9871,
          10014,
          9670,
          9008,
          7434,
          8459,
          10667,
          10660,
          9947,
          8324,
          9434,
          8687,
          8896,
          9535,
          9363,
          9327,
          9345,
          8890,
          8460,
          8836,
          9437,
          9420,
          9570,
          9921,
          9424,
          9010,
          9656,
          10419,
          9880,
          10134,
          9717,
          9192,
          8630,
          8970
         ],
         "yaxis": "y"
        },
        {
         "hovertemplate": "variable=Pageviews<br>type=experiment<br>date=%{x}<br>value=%{y}<extra></extra>",
         "legendgroup": "Pageviews, experiment",
         "line": {
          "color": "#636efa",
          "dash": "dot"
         },
         "mode": "lines",
         "name": "Pageviews, experiment",
         "orientation": "v",
         "showlegend": true,
         "type": "scatter",
         "x": [
          "2014-10-11T00:00:00",
          "2014-10-12T00:00:00",
          "2014-10-13T00:00:00",
          "2014-10-14T00:00:00",
          "2014-10-15T00:00:00",
          "2014-10-16T00:00:00",
          "2014-10-17T00:00:00",
          "2014-10-18T00:00:00",
          "2014-10-19T00:00:00",
          "2014-10-20T00:00:00",
          "2014-10-21T00:00:00",
          "2014-10-22T00:00:00",
          "2014-10-23T00:00:00",
          "2014-10-24T00:00:00",
          "2014-10-25T00:00:00",
          "2014-10-26T00:00:00",
          "2014-10-27T00:00:00",
          "2014-10-28T00:00:00",
          "2014-10-29T00:00:00",
          "2014-10-30T00:00:00",
          "2014-10-31T00:00:00",
          "2014-11-01T00:00:00",
          "2014-11-02T00:00:00",
          "2014-11-03T00:00:00",
          "2014-11-04T00:00:00",
          "2014-11-05T00:00:00",
          "2014-11-06T00:00:00",
          "2014-11-07T00:00:00",
          "2014-11-08T00:00:00",
          "2014-11-09T00:00:00",
          "2014-11-10T00:00:00",
          "2014-11-11T00:00:00",
          "2014-11-12T00:00:00",
          "2014-11-13T00:00:00",
          "2014-11-14T00:00:00",
          "2014-11-15T00:00:00",
          "2014-11-16T00:00:00"
         ],
         "xaxis": "x",
         "y": [
          7716,
          9288,
          10480,
          9867,
          9793,
          9500,
          9088,
          7664,
          8434,
          10496,
          10551,
          9737,
          8176,
          9402,
          8669,
          8881,
          9655,
          9396,
          9262,
          9308,
          8715,
          8448,
          8836,
          9359,
          9427,
          9633,
          9842,
          9272,
          8969,
          9697,
          10445,
          9931,
          10042,
          9721,
          9304,
          8668,
          8988
         ],
         "yaxis": "y"
        }
       ],
       "layout": {
        "legend": {
         "title": {
          "text": "variable, type"
         },
         "tracegroupgap": 0
        },
        "margin": {
         "t": 60
        },
        "template": {
         "data": {
          "bar": [
           {
            "error_x": {
             "color": "#2a3f5f"
            },
            "error_y": {
             "color": "#2a3f5f"
            },
            "marker": {
             "line": {
              "color": "#E5ECF6",
              "width": 0.5
             }
            },
            "type": "bar"
           }
          ],
          "barpolar": [
           {
            "marker": {
             "line": {
              "color": "#E5ECF6",
              "width": 0.5
             }
            },
            "type": "barpolar"
           }
          ],
          "carpet": [
           {
            "aaxis": {
             "endlinecolor": "#2a3f5f",
             "gridcolor": "white",
             "linecolor": "white",
             "minorgridcolor": "white",
             "startlinecolor": "#2a3f5f"
            },
            "baxis": {
             "endlinecolor": "#2a3f5f",
             "gridcolor": "white",
             "linecolor": "white",
             "minorgridcolor": "white",
             "startlinecolor": "#2a3f5f"
            },
            "type": "carpet"
           }
          ],
          "choropleth": [
           {
            "colorbar": {
             "outlinewidth": 0,
             "ticks": ""
            },
            "type": "choropleth"
           }
          ],
          "contour": [
           {
            "colorbar": {
             "outlinewidth": 0,
             "ticks": ""
            },
            "colorscale": [
             [
              0,
              "#0d0887"
             ],
             [
              0.1111111111111111,
              "#46039f"
             ],
             [
              0.2222222222222222,
              "#7201a8"
             ],
             [
              0.3333333333333333,
              "#9c179e"
             ],
             [
              0.4444444444444444,
              "#bd3786"
             ],
             [
              0.5555555555555556,
              "#d8576b"
             ],
             [
              0.6666666666666666,
              "#ed7953"
             ],
             [
              0.7777777777777778,
              "#fb9f3a"
             ],
             [
              0.8888888888888888,
              "#fdca26"
             ],
             [
              1,
              "#f0f921"
             ]
            ],
            "type": "contour"
           }
          ],
          "contourcarpet": [
           {
            "colorbar": {
             "outlinewidth": 0,
             "ticks": ""
            },
            "type": "contourcarpet"
           }
          ],
          "heatmap": [
           {
            "colorbar": {
             "outlinewidth": 0,
             "ticks": ""
            },
            "colorscale": [
             [
              0,
              "#0d0887"
             ],
             [
              0.1111111111111111,
              "#46039f"
             ],
             [
              0.2222222222222222,
              "#7201a8"
             ],
             [
              0.3333333333333333,
              "#9c179e"
             ],
             [
              0.4444444444444444,
              "#bd3786"
             ],
             [
              0.5555555555555556,
              "#d8576b"
             ],
             [
              0.6666666666666666,
              "#ed7953"
             ],
             [
              0.7777777777777778,
              "#fb9f3a"
             ],
             [
              0.8888888888888888,
              "#fdca26"
             ],
             [
              1,
              "#f0f921"
             ]
            ],
            "type": "heatmap"
           }
          ],
          "heatmapgl": [
           {
            "colorbar": {
             "outlinewidth": 0,
             "ticks": ""
            },
            "colorscale": [
             [
              0,
              "#0d0887"
             ],
             [
              0.1111111111111111,
              "#46039f"
             ],
             [
              0.2222222222222222,
              "#7201a8"
             ],
             [
              0.3333333333333333,
              "#9c179e"
             ],
             [
              0.4444444444444444,
              "#bd3786"
             ],
             [
              0.5555555555555556,
              "#d8576b"
             ],
             [
              0.6666666666666666,
              "#ed7953"
             ],
             [
              0.7777777777777778,
              "#fb9f3a"
             ],
             [
              0.8888888888888888,
              "#fdca26"
             ],
             [
              1,
              "#f0f921"
             ]
            ],
            "type": "heatmapgl"
           }
          ],
          "histogram": [
           {
            "marker": {
             "colorbar": {
              "outlinewidth": 0,
              "ticks": ""
             }
            },
            "type": "histogram"
           }
          ],
          "histogram2d": [
           {
            "colorbar": {
             "outlinewidth": 0,
             "ticks": ""
            },
            "colorscale": [
             [
              0,
              "#0d0887"
             ],
             [
              0.1111111111111111,
              "#46039f"
             ],
             [
              0.2222222222222222,
              "#7201a8"
             ],
             [
              0.3333333333333333,
              "#9c179e"
             ],
             [
              0.4444444444444444,
              "#bd3786"
             ],
             [
              0.5555555555555556,
              "#d8576b"
             ],
             [
              0.6666666666666666,
              "#ed7953"
             ],
             [
              0.7777777777777778,
              "#fb9f3a"
             ],
             [
              0.8888888888888888,
              "#fdca26"
             ],
             [
              1,
              "#f0f921"
             ]
            ],
            "type": "histogram2d"
           }
          ],
          "histogram2dcontour": [
           {
            "colorbar": {
             "outlinewidth": 0,
             "ticks": ""
            },
            "colorscale": [
             [
              0,
              "#0d0887"
             ],
             [
              0.1111111111111111,
              "#46039f"
             ],
             [
              0.2222222222222222,
              "#7201a8"
             ],
             [
              0.3333333333333333,
              "#9c179e"
             ],
             [
              0.4444444444444444,
              "#bd3786"
             ],
             [
              0.5555555555555556,
              "#d8576b"
             ],
             [
              0.6666666666666666,
              "#ed7953"
             ],
             [
              0.7777777777777778,
              "#fb9f3a"
             ],
             [
              0.8888888888888888,
              "#fdca26"
             ],
             [
              1,
              "#f0f921"
             ]
            ],
            "type": "histogram2dcontour"
           }
          ],
          "mesh3d": [
           {
            "colorbar": {
             "outlinewidth": 0,
             "ticks": ""
            },
            "type": "mesh3d"
           }
          ],
          "parcoords": [
           {
            "line": {
             "colorbar": {
              "outlinewidth": 0,
              "ticks": ""
             }
            },
            "type": "parcoords"
           }
          ],
          "pie": [
           {
            "automargin": true,
            "type": "pie"
           }
          ],
          "scatter": [
           {
            "marker": {
             "colorbar": {
              "outlinewidth": 0,
              "ticks": ""
             }
            },
            "type": "scatter"
           }
          ],
          "scatter3d": [
           {
            "line": {
             "colorbar": {
              "outlinewidth": 0,
              "ticks": ""
             }
            },
            "marker": {
             "colorbar": {
              "outlinewidth": 0,
              "ticks": ""
             }
            },
            "type": "scatter3d"
           }
          ],
          "scattercarpet": [
           {
            "marker": {
             "colorbar": {
              "outlinewidth": 0,
              "ticks": ""
             }
            },
            "type": "scattercarpet"
           }
          ],
          "scattergeo": [
           {
            "marker": {
             "colorbar": {
              "outlinewidth": 0,
              "ticks": ""
             }
            },
            "type": "scattergeo"
           }
          ],
          "scattergl": [
           {
            "marker": {
             "colorbar": {
              "outlinewidth": 0,
              "ticks": ""
             }
            },
            "type": "scattergl"
           }
          ],
          "scattermapbox": [
           {
            "marker": {
             "colorbar": {
              "outlinewidth": 0,
              "ticks": ""
             }
            },
            "type": "scattermapbox"
           }
          ],
          "scatterpolar": [
           {
            "marker": {
             "colorbar": {
              "outlinewidth": 0,
              "ticks": ""
             }
            },
            "type": "scatterpolar"
           }
          ],
          "scatterpolargl": [
           {
            "marker": {
             "colorbar": {
              "outlinewidth": 0,
              "ticks": ""
             }
            },
            "type": "scatterpolargl"
           }
          ],
          "scatterternary": [
           {
            "marker": {
             "colorbar": {
              "outlinewidth": 0,
              "ticks": ""
             }
            },
            "type": "scatterternary"
           }
          ],
          "surface": [
           {
            "colorbar": {
             "outlinewidth": 0,
             "ticks": ""
            },
            "colorscale": [
             [
              0,
              "#0d0887"
             ],
             [
              0.1111111111111111,
              "#46039f"
             ],
             [
              0.2222222222222222,
              "#7201a8"
             ],
             [
              0.3333333333333333,
              "#9c179e"
             ],
             [
              0.4444444444444444,
              "#bd3786"
             ],
             [
              0.5555555555555556,
              "#d8576b"
             ],
             [
              0.6666666666666666,
              "#ed7953"
             ],
             [
              0.7777777777777778,
              "#fb9f3a"
             ],
             [
              0.8888888888888888,
              "#fdca26"
             ],
             [
              1,
              "#f0f921"
             ]
            ],
            "type": "surface"
           }
          ],
          "table": [
           {
            "cells": {
             "fill": {
              "color": "#EBF0F8"
             },
             "line": {
              "color": "white"
             }
            },
            "header": {
             "fill": {
              "color": "#C8D4E3"
             },
             "line": {
              "color": "white"
             }
            },
            "type": "table"
           }
          ]
         },
         "layout": {
          "annotationdefaults": {
           "arrowcolor": "#2a3f5f",
           "arrowhead": 0,
           "arrowwidth": 1
          },
          "coloraxis": {
           "colorbar": {
            "outlinewidth": 0,
            "ticks": ""
           }
          },
          "colorscale": {
           "diverging": [
            [
             0,
             "#8e0152"
            ],
            [
             0.1,
             "#c51b7d"
            ],
            [
             0.2,
             "#de77ae"
            ],
            [
             0.3,
             "#f1b6da"
            ],
            [
             0.4,
             "#fde0ef"
            ],
            [
             0.5,
             "#f7f7f7"
            ],
            [
             0.6,
             "#e6f5d0"
            ],
            [
             0.7,
             "#b8e186"
            ],
            [
             0.8,
             "#7fbc41"
            ],
            [
             0.9,
             "#4d9221"
            ],
            [
             1,
             "#276419"
            ]
           ],
           "sequential": [
            [
             0,
             "#0d0887"
            ],
            [
             0.1111111111111111,
             "#46039f"
            ],
            [
             0.2222222222222222,
             "#7201a8"
            ],
            [
             0.3333333333333333,
             "#9c179e"
            ],
            [
             0.4444444444444444,
             "#bd3786"
            ],
            [
             0.5555555555555556,
             "#d8576b"
            ],
            [
             0.6666666666666666,
             "#ed7953"
            ],
            [
             0.7777777777777778,
             "#fb9f3a"
            ],
            [
             0.8888888888888888,
             "#fdca26"
            ],
            [
             1,
             "#f0f921"
            ]
           ],
           "sequentialminus": [
            [
             0,
             "#0d0887"
            ],
            [
             0.1111111111111111,
             "#46039f"
            ],
            [
             0.2222222222222222,
             "#7201a8"
            ],
            [
             0.3333333333333333,
             "#9c179e"
            ],
            [
             0.4444444444444444,
             "#bd3786"
            ],
            [
             0.5555555555555556,
             "#d8576b"
            ],
            [
             0.6666666666666666,
             "#ed7953"
            ],
            [
             0.7777777777777778,
             "#fb9f3a"
            ],
            [
             0.8888888888888888,
             "#fdca26"
            ],
            [
             1,
             "#f0f921"
            ]
           ]
          },
          "colorway": [
           "#636efa",
           "#EF553B",
           "#00cc96",
           "#ab63fa",
           "#FFA15A",
           "#19d3f3",
           "#FF6692",
           "#B6E880",
           "#FF97FF",
           "#FECB52"
          ],
          "font": {
           "color": "#2a3f5f"
          },
          "geo": {
           "bgcolor": "white",
           "lakecolor": "white",
           "landcolor": "#E5ECF6",
           "showlakes": true,
           "showland": true,
           "subunitcolor": "white"
          },
          "hoverlabel": {
           "align": "left"
          },
          "hovermode": "closest",
          "mapbox": {
           "style": "light"
          },
          "paper_bgcolor": "white",
          "plot_bgcolor": "#E5ECF6",
          "polar": {
           "angularaxis": {
            "gridcolor": "white",
            "linecolor": "white",
            "ticks": ""
           },
           "bgcolor": "#E5ECF6",
           "radialaxis": {
            "gridcolor": "white",
            "linecolor": "white",
            "ticks": ""
           }
          },
          "scene": {
           "xaxis": {
            "backgroundcolor": "#E5ECF6",
            "gridcolor": "white",
            "gridwidth": 2,
            "linecolor": "white",
            "showbackground": true,
            "ticks": "",
            "zerolinecolor": "white"
           },
           "yaxis": {
            "backgroundcolor": "#E5ECF6",
            "gridcolor": "white",
            "gridwidth": 2,
            "linecolor": "white",
            "showbackground": true,
            "ticks": "",
            "zerolinecolor": "white"
           },
           "zaxis": {
            "backgroundcolor": "#E5ECF6",
            "gridcolor": "white",
            "gridwidth": 2,
            "linecolor": "white",
            "showbackground": true,
            "ticks": "",
            "zerolinecolor": "white"
           }
          },
          "shapedefaults": {
           "line": {
            "color": "#2a3f5f"
           }
          },
          "ternary": {
           "aaxis": {
            "gridcolor": "white",
            "linecolor": "white",
            "ticks": ""
           },
           "baxis": {
            "gridcolor": "white",
            "linecolor": "white",
            "ticks": ""
           },
           "bgcolor": "#E5ECF6",
           "caxis": {
            "gridcolor": "white",
            "linecolor": "white",
            "ticks": ""
           }
          },
          "title": {
           "x": 0.05
          },
          "xaxis": {
           "automargin": true,
           "gridcolor": "white",
           "linecolor": "white",
           "ticks": "",
           "title": {
            "standoff": 15
           },
           "zerolinecolor": "white",
           "zerolinewidth": 2
          },
          "yaxis": {
           "automargin": true,
           "gridcolor": "white",
           "linecolor": "white",
           "ticks": "",
           "title": {
            "standoff": 15
           },
           "zerolinecolor": "white",
           "zerolinewidth": 2
          }
         }
        },
        "xaxis": {
         "anchor": "y",
         "domain": [
          0,
          1
         ],
         "title": {
          "text": "date"
         }
        },
        "yaxis": {
         "anchor": "x",
         "domain": [
          0,
          1
         ],
         "title": {
          "text": "value"
         }
        }
       }
      },
      "text/html": [
       "<div>                            <div id=\"19fc51e6-c36e-4f10-b505-d3aff3956b0a\" class=\"plotly-graph-div\" style=\"height:525px; width:100%;\"></div>            <script type=\"text/javascript\">                require([\"plotly\"], function(Plotly) {                    window.PLOTLYENV=window.PLOTLYENV || {};                                    if (document.getElementById(\"19fc51e6-c36e-4f10-b505-d3aff3956b0a\")) {                    Plotly.newPlot(                        \"19fc51e6-c36e-4f10-b505-d3aff3956b0a\",                        [{\"hovertemplate\": \"variable=Pageviews<br>type=control<br>date=%{x}<br>value=%{y}<extra></extra>\", \"legendgroup\": \"Pageviews, control\", \"line\": {\"color\": \"#636efa\", \"dash\": \"solid\"}, \"mode\": \"lines\", \"name\": \"Pageviews, control\", \"orientation\": \"v\", \"showlegend\": true, \"type\": \"scatter\", \"x\": [\"2014-10-11T00:00:00\", \"2014-10-12T00:00:00\", \"2014-10-13T00:00:00\", \"2014-10-14T00:00:00\", \"2014-10-15T00:00:00\", \"2014-10-16T00:00:00\", \"2014-10-17T00:00:00\", \"2014-10-18T00:00:00\", \"2014-10-19T00:00:00\", \"2014-10-20T00:00:00\", \"2014-10-21T00:00:00\", \"2014-10-22T00:00:00\", \"2014-10-23T00:00:00\", \"2014-10-24T00:00:00\", \"2014-10-25T00:00:00\", \"2014-10-26T00:00:00\", \"2014-10-27T00:00:00\", \"2014-10-28T00:00:00\", \"2014-10-29T00:00:00\", \"2014-10-30T00:00:00\", \"2014-10-31T00:00:00\", \"2014-11-01T00:00:00\", \"2014-11-02T00:00:00\", \"2014-11-03T00:00:00\", \"2014-11-04T00:00:00\", \"2014-11-05T00:00:00\", \"2014-11-06T00:00:00\", \"2014-11-07T00:00:00\", \"2014-11-08T00:00:00\", \"2014-11-09T00:00:00\", \"2014-11-10T00:00:00\", \"2014-11-11T00:00:00\", \"2014-11-12T00:00:00\", \"2014-11-13T00:00:00\", \"2014-11-14T00:00:00\", \"2014-11-15T00:00:00\", \"2014-11-16T00:00:00\"], \"xaxis\": \"x\", \"y\": [7723, 9102, 10511, 9871, 10014, 9670, 9008, 7434, 8459, 10667, 10660, 9947, 8324, 9434, 8687, 8896, 9535, 9363, 9327, 9345, 8890, 8460, 8836, 9437, 9420, 9570, 9921, 9424, 9010, 9656, 10419, 9880, 10134, 9717, 9192, 8630, 8970], \"yaxis\": \"y\"}, {\"hovertemplate\": \"variable=Pageviews<br>type=experiment<br>date=%{x}<br>value=%{y}<extra></extra>\", \"legendgroup\": \"Pageviews, experiment\", \"line\": {\"color\": \"#636efa\", \"dash\": \"dot\"}, \"mode\": \"lines\", \"name\": \"Pageviews, experiment\", \"orientation\": \"v\", \"showlegend\": true, \"type\": \"scatter\", \"x\": [\"2014-10-11T00:00:00\", \"2014-10-12T00:00:00\", \"2014-10-13T00:00:00\", \"2014-10-14T00:00:00\", \"2014-10-15T00:00:00\", \"2014-10-16T00:00:00\", \"2014-10-17T00:00:00\", \"2014-10-18T00:00:00\", \"2014-10-19T00:00:00\", \"2014-10-20T00:00:00\", \"2014-10-21T00:00:00\", \"2014-10-22T00:00:00\", \"2014-10-23T00:00:00\", \"2014-10-24T00:00:00\", \"2014-10-25T00:00:00\", \"2014-10-26T00:00:00\", \"2014-10-27T00:00:00\", \"2014-10-28T00:00:00\", \"2014-10-29T00:00:00\", \"2014-10-30T00:00:00\", \"2014-10-31T00:00:00\", \"2014-11-01T00:00:00\", \"2014-11-02T00:00:00\", \"2014-11-03T00:00:00\", \"2014-11-04T00:00:00\", \"2014-11-05T00:00:00\", \"2014-11-06T00:00:00\", \"2014-11-07T00:00:00\", \"2014-11-08T00:00:00\", \"2014-11-09T00:00:00\", \"2014-11-10T00:00:00\", \"2014-11-11T00:00:00\", \"2014-11-12T00:00:00\", \"2014-11-13T00:00:00\", \"2014-11-14T00:00:00\", \"2014-11-15T00:00:00\", \"2014-11-16T00:00:00\"], \"xaxis\": \"x\", \"y\": [7716, 9288, 10480, 9867, 9793, 9500, 9088, 7664, 8434, 10496, 10551, 9737, 8176, 9402, 8669, 8881, 9655, 9396, 9262, 9308, 8715, 8448, 8836, 9359, 9427, 9633, 9842, 9272, 8969, 9697, 10445, 9931, 10042, 9721, 9304, 8668, 8988], \"yaxis\": \"y\"}],                        {\"legend\": {\"title\": {\"text\": \"variable, type\"}, \"tracegroupgap\": 0}, \"margin\": {\"t\": 60}, \"template\": {\"data\": {\"bar\": [{\"error_x\": {\"color\": \"#2a3f5f\"}, \"error_y\": {\"color\": \"#2a3f5f\"}, \"marker\": {\"line\": {\"color\": \"#E5ECF6\", \"width\": 0.5}}, \"type\": \"bar\"}], \"barpolar\": [{\"marker\": {\"line\": {\"color\": \"#E5ECF6\", \"width\": 0.5}}, \"type\": \"barpolar\"}], \"carpet\": [{\"aaxis\": {\"endlinecolor\": \"#2a3f5f\", \"gridcolor\": \"white\", \"linecolor\": \"white\", \"minorgridcolor\": \"white\", \"startlinecolor\": \"#2a3f5f\"}, \"baxis\": {\"endlinecolor\": \"#2a3f5f\", \"gridcolor\": \"white\", \"linecolor\": \"white\", \"minorgridcolor\": \"white\", \"startlinecolor\": \"#2a3f5f\"}, \"type\": \"carpet\"}], \"choropleth\": [{\"colorbar\": {\"outlinewidth\": 0, \"ticks\": \"\"}, \"type\": \"choropleth\"}], \"contour\": [{\"colorbar\": {\"outlinewidth\": 0, \"ticks\": \"\"}, \"colorscale\": [[0.0, \"#0d0887\"], [0.1111111111111111, \"#46039f\"], [0.2222222222222222, \"#7201a8\"], [0.3333333333333333, \"#9c179e\"], [0.4444444444444444, \"#bd3786\"], [0.5555555555555556, \"#d8576b\"], [0.6666666666666666, \"#ed7953\"], [0.7777777777777778, \"#fb9f3a\"], [0.8888888888888888, \"#fdca26\"], [1.0, \"#f0f921\"]], \"type\": \"contour\"}], \"contourcarpet\": [{\"colorbar\": {\"outlinewidth\": 0, \"ticks\": \"\"}, \"type\": \"contourcarpet\"}], \"heatmap\": [{\"colorbar\": {\"outlinewidth\": 0, \"ticks\": \"\"}, \"colorscale\": [[0.0, \"#0d0887\"], [0.1111111111111111, \"#46039f\"], [0.2222222222222222, \"#7201a8\"], [0.3333333333333333, \"#9c179e\"], [0.4444444444444444, \"#bd3786\"], [0.5555555555555556, \"#d8576b\"], [0.6666666666666666, \"#ed7953\"], [0.7777777777777778, \"#fb9f3a\"], [0.8888888888888888, \"#fdca26\"], [1.0, \"#f0f921\"]], \"type\": \"heatmap\"}], \"heatmapgl\": [{\"colorbar\": {\"outlinewidth\": 0, \"ticks\": \"\"}, \"colorscale\": [[0.0, \"#0d0887\"], [0.1111111111111111, \"#46039f\"], [0.2222222222222222, \"#7201a8\"], [0.3333333333333333, \"#9c179e\"], [0.4444444444444444, \"#bd3786\"], [0.5555555555555556, \"#d8576b\"], [0.6666666666666666, \"#ed7953\"], [0.7777777777777778, \"#fb9f3a\"], [0.8888888888888888, \"#fdca26\"], [1.0, \"#f0f921\"]], \"type\": \"heatmapgl\"}], \"histogram\": [{\"marker\": {\"colorbar\": {\"outlinewidth\": 0, \"ticks\": \"\"}}, \"type\": \"histogram\"}], \"histogram2d\": [{\"colorbar\": {\"outlinewidth\": 0, \"ticks\": \"\"}, \"colorscale\": [[0.0, \"#0d0887\"], [0.1111111111111111, \"#46039f\"], [0.2222222222222222, \"#7201a8\"], [0.3333333333333333, \"#9c179e\"], [0.4444444444444444, \"#bd3786\"], [0.5555555555555556, \"#d8576b\"], [0.6666666666666666, \"#ed7953\"], [0.7777777777777778, \"#fb9f3a\"], [0.8888888888888888, \"#fdca26\"], [1.0, \"#f0f921\"]], \"type\": \"histogram2d\"}], \"histogram2dcontour\": [{\"colorbar\": {\"outlinewidth\": 0, \"ticks\": \"\"}, \"colorscale\": [[0.0, \"#0d0887\"], [0.1111111111111111, \"#46039f\"], [0.2222222222222222, \"#7201a8\"], [0.3333333333333333, \"#9c179e\"], [0.4444444444444444, \"#bd3786\"], [0.5555555555555556, \"#d8576b\"], [0.6666666666666666, \"#ed7953\"], [0.7777777777777778, \"#fb9f3a\"], [0.8888888888888888, \"#fdca26\"], [1.0, \"#f0f921\"]], \"type\": \"histogram2dcontour\"}], \"mesh3d\": [{\"colorbar\": {\"outlinewidth\": 0, \"ticks\": \"\"}, \"type\": \"mesh3d\"}], \"parcoords\": [{\"line\": {\"colorbar\": {\"outlinewidth\": 0, \"ticks\": \"\"}}, \"type\": \"parcoords\"}], \"pie\": [{\"automargin\": true, \"type\": \"pie\"}], \"scatter\": [{\"marker\": {\"colorbar\": {\"outlinewidth\": 0, \"ticks\": \"\"}}, \"type\": \"scatter\"}], \"scatter3d\": [{\"line\": {\"colorbar\": {\"outlinewidth\": 0, \"ticks\": \"\"}}, \"marker\": {\"colorbar\": {\"outlinewidth\": 0, \"ticks\": \"\"}}, \"type\": \"scatter3d\"}], \"scattercarpet\": [{\"marker\": {\"colorbar\": {\"outlinewidth\": 0, \"ticks\": \"\"}}, \"type\": \"scattercarpet\"}], \"scattergeo\": [{\"marker\": {\"colorbar\": {\"outlinewidth\": 0, \"ticks\": \"\"}}, \"type\": \"scattergeo\"}], \"scattergl\": [{\"marker\": {\"colorbar\": {\"outlinewidth\": 0, \"ticks\": \"\"}}, \"type\": \"scattergl\"}], \"scattermapbox\": [{\"marker\": {\"colorbar\": {\"outlinewidth\": 0, \"ticks\": \"\"}}, \"type\": \"scattermapbox\"}], \"scatterpolar\": [{\"marker\": {\"colorbar\": {\"outlinewidth\": 0, \"ticks\": \"\"}}, \"type\": \"scatterpolar\"}], \"scatterpolargl\": [{\"marker\": {\"colorbar\": {\"outlinewidth\": 0, \"ticks\": \"\"}}, \"type\": \"scatterpolargl\"}], \"scatterternary\": [{\"marker\": {\"colorbar\": {\"outlinewidth\": 0, \"ticks\": \"\"}}, \"type\": \"scatterternary\"}], \"surface\": [{\"colorbar\": {\"outlinewidth\": 0, \"ticks\": \"\"}, \"colorscale\": [[0.0, \"#0d0887\"], [0.1111111111111111, \"#46039f\"], [0.2222222222222222, \"#7201a8\"], [0.3333333333333333, \"#9c179e\"], [0.4444444444444444, \"#bd3786\"], [0.5555555555555556, \"#d8576b\"], [0.6666666666666666, \"#ed7953\"], [0.7777777777777778, \"#fb9f3a\"], [0.8888888888888888, \"#fdca26\"], [1.0, \"#f0f921\"]], \"type\": \"surface\"}], \"table\": [{\"cells\": {\"fill\": {\"color\": \"#EBF0F8\"}, \"line\": {\"color\": \"white\"}}, \"header\": {\"fill\": {\"color\": \"#C8D4E3\"}, \"line\": {\"color\": \"white\"}}, \"type\": \"table\"}]}, \"layout\": {\"annotationdefaults\": {\"arrowcolor\": \"#2a3f5f\", \"arrowhead\": 0, \"arrowwidth\": 1}, \"coloraxis\": {\"colorbar\": {\"outlinewidth\": 0, \"ticks\": \"\"}}, \"colorscale\": {\"diverging\": [[0, \"#8e0152\"], [0.1, \"#c51b7d\"], [0.2, \"#de77ae\"], [0.3, \"#f1b6da\"], [0.4, \"#fde0ef\"], [0.5, \"#f7f7f7\"], [0.6, \"#e6f5d0\"], [0.7, \"#b8e186\"], [0.8, \"#7fbc41\"], [0.9, \"#4d9221\"], [1, \"#276419\"]], \"sequential\": [[0.0, \"#0d0887\"], [0.1111111111111111, \"#46039f\"], [0.2222222222222222, \"#7201a8\"], [0.3333333333333333, \"#9c179e\"], [0.4444444444444444, \"#bd3786\"], [0.5555555555555556, \"#d8576b\"], [0.6666666666666666, \"#ed7953\"], [0.7777777777777778, \"#fb9f3a\"], [0.8888888888888888, \"#fdca26\"], [1.0, \"#f0f921\"]], \"sequentialminus\": [[0.0, \"#0d0887\"], [0.1111111111111111, \"#46039f\"], [0.2222222222222222, \"#7201a8\"], [0.3333333333333333, \"#9c179e\"], [0.4444444444444444, \"#bd3786\"], [0.5555555555555556, \"#d8576b\"], [0.6666666666666666, \"#ed7953\"], [0.7777777777777778, \"#fb9f3a\"], [0.8888888888888888, \"#fdca26\"], [1.0, \"#f0f921\"]]}, \"colorway\": [\"#636efa\", \"#EF553B\", \"#00cc96\", \"#ab63fa\", \"#FFA15A\", \"#19d3f3\", \"#FF6692\", \"#B6E880\", \"#FF97FF\", \"#FECB52\"], \"font\": {\"color\": \"#2a3f5f\"}, \"geo\": {\"bgcolor\": \"white\", \"lakecolor\": \"white\", \"landcolor\": \"#E5ECF6\", \"showlakes\": true, \"showland\": true, \"subunitcolor\": \"white\"}, \"hoverlabel\": {\"align\": \"left\"}, \"hovermode\": \"closest\", \"mapbox\": {\"style\": \"light\"}, \"paper_bgcolor\": \"white\", \"plot_bgcolor\": \"#E5ECF6\", \"polar\": {\"angularaxis\": {\"gridcolor\": \"white\", \"linecolor\": \"white\", \"ticks\": \"\"}, \"bgcolor\": \"#E5ECF6\", \"radialaxis\": {\"gridcolor\": \"white\", \"linecolor\": \"white\", \"ticks\": \"\"}}, \"scene\": {\"xaxis\": {\"backgroundcolor\": \"#E5ECF6\", \"gridcolor\": \"white\", \"gridwidth\": 2, \"linecolor\": \"white\", \"showbackground\": true, \"ticks\": \"\", \"zerolinecolor\": \"white\"}, \"yaxis\": {\"backgroundcolor\": \"#E5ECF6\", \"gridcolor\": \"white\", \"gridwidth\": 2, \"linecolor\": \"white\", \"showbackground\": true, \"ticks\": \"\", \"zerolinecolor\": \"white\"}, \"zaxis\": {\"backgroundcolor\": \"#E5ECF6\", \"gridcolor\": \"white\", \"gridwidth\": 2, \"linecolor\": \"white\", \"showbackground\": true, \"ticks\": \"\", \"zerolinecolor\": \"white\"}}, \"shapedefaults\": {\"line\": {\"color\": \"#2a3f5f\"}}, \"ternary\": {\"aaxis\": {\"gridcolor\": \"white\", \"linecolor\": \"white\", \"ticks\": \"\"}, \"baxis\": {\"gridcolor\": \"white\", \"linecolor\": \"white\", \"ticks\": \"\"}, \"bgcolor\": \"#E5ECF6\", \"caxis\": {\"gridcolor\": \"white\", \"linecolor\": \"white\", \"ticks\": \"\"}}, \"title\": {\"x\": 0.05}, \"xaxis\": {\"automargin\": true, \"gridcolor\": \"white\", \"linecolor\": \"white\", \"ticks\": \"\", \"title\": {\"standoff\": 15}, \"zerolinecolor\": \"white\", \"zerolinewidth\": 2}, \"yaxis\": {\"automargin\": true, \"gridcolor\": \"white\", \"linecolor\": \"white\", \"ticks\": \"\", \"title\": {\"standoff\": 15}, \"zerolinecolor\": \"white\", \"zerolinewidth\": 2}}}, \"xaxis\": {\"anchor\": \"y\", \"domain\": [0.0, 1.0], \"title\": {\"text\": \"date\"}}, \"yaxis\": {\"anchor\": \"x\", \"domain\": [0.0, 1.0], \"title\": {\"text\": \"value\"}}},                        {\"responsive\": true}                    ).then(function(){\n",
       "                            \n",
       "var gd = document.getElementById('19fc51e6-c36e-4f10-b505-d3aff3956b0a');\n",
       "var x = new MutationObserver(function (mutations, observer) {{\n",
       "        var display = window.getComputedStyle(gd).display;\n",
       "        if (!display || display === 'none') {{\n",
       "            console.log([gd, 'removed!']);\n",
       "            Plotly.purge(gd);\n",
       "            observer.disconnect();\n",
       "        }}\n",
       "}});\n",
       "\n",
       "// Listen for the removal of the full notebook cells\n",
       "var notebookContainer = gd.closest('#notebook-container');\n",
       "if (notebookContainer) {{\n",
       "    x.observe(notebookContainer, {childList: true});\n",
       "}}\n",
       "\n",
       "// Listen for the clearing of the current output cell\n",
       "var outputEl = gd.closest('.output');\n",
       "if (outputEl) {{\n",
       "    x.observe(outputEl, {childList: true});\n",
       "}}\n",
       "\n",
       "                        })                };                });            </script>        </div>"
      ]
     },
     "metadata": {},
     "output_type": "display_data"
    }
   ],
   "source": [
    "fig2 = px.line(df_concat,x='date',y=['Pageviews'],line_dash = 'type')\n",
    "fig2.show()"
   ]
  },
  {
   "cell_type": "code",
   "execution_count": 87,
   "metadata": {
    "scrolled": false
   },
   "outputs": [
    {
     "data": {
      "application/vnd.plotly.v1+json": {
       "config": {
        "plotlyServerURL": "https://plot.ly"
       },
       "data": [
        {
         "hovertemplate": "variable=Clicks<br>type=control<br>date=%{x}<br>value=%{y}<extra></extra>",
         "legendgroup": "Clicks, control",
         "line": {
          "color": "#636efa",
          "dash": "solid"
         },
         "mode": "lines",
         "name": "Clicks, control",
         "orientation": "v",
         "showlegend": true,
         "type": "scatter",
         "x": [
          "2014-10-11T00:00:00",
          "2014-10-12T00:00:00",
          "2014-10-13T00:00:00",
          "2014-10-14T00:00:00",
          "2014-10-15T00:00:00",
          "2014-10-16T00:00:00",
          "2014-10-17T00:00:00",
          "2014-10-18T00:00:00",
          "2014-10-19T00:00:00",
          "2014-10-20T00:00:00",
          "2014-10-21T00:00:00",
          "2014-10-22T00:00:00",
          "2014-10-23T00:00:00",
          "2014-10-24T00:00:00",
          "2014-10-25T00:00:00",
          "2014-10-26T00:00:00",
          "2014-10-27T00:00:00",
          "2014-10-28T00:00:00",
          "2014-10-29T00:00:00",
          "2014-10-30T00:00:00",
          "2014-10-31T00:00:00",
          "2014-11-01T00:00:00",
          "2014-11-02T00:00:00",
          "2014-11-03T00:00:00",
          "2014-11-04T00:00:00",
          "2014-11-05T00:00:00",
          "2014-11-06T00:00:00",
          "2014-11-07T00:00:00",
          "2014-11-08T00:00:00",
          "2014-11-09T00:00:00",
          "2014-11-10T00:00:00",
          "2014-11-11T00:00:00",
          "2014-11-12T00:00:00",
          "2014-11-13T00:00:00",
          "2014-11-14T00:00:00",
          "2014-11-15T00:00:00",
          "2014-11-16T00:00:00"
         ],
         "xaxis": "x",
         "y": [
          687,
          779,
          909,
          836,
          837,
          823,
          748,
          632,
          691,
          861,
          867,
          838,
          665,
          673,
          691,
          708,
          759,
          736,
          739,
          734,
          706,
          681,
          693,
          788,
          781,
          805,
          830,
          781,
          756,
          825,
          874,
          830,
          801,
          814,
          735,
          743,
          722
         ],
         "yaxis": "y"
        },
        {
         "hovertemplate": "variable=Clicks<br>type=experiment<br>date=%{x}<br>value=%{y}<extra></extra>",
         "legendgroup": "Clicks, experiment",
         "line": {
          "color": "#636efa",
          "dash": "dot"
         },
         "mode": "lines",
         "name": "Clicks, experiment",
         "orientation": "v",
         "showlegend": true,
         "type": "scatter",
         "x": [
          "2014-10-11T00:00:00",
          "2014-10-12T00:00:00",
          "2014-10-13T00:00:00",
          "2014-10-14T00:00:00",
          "2014-10-15T00:00:00",
          "2014-10-16T00:00:00",
          "2014-10-17T00:00:00",
          "2014-10-18T00:00:00",
          "2014-10-19T00:00:00",
          "2014-10-20T00:00:00",
          "2014-10-21T00:00:00",
          "2014-10-22T00:00:00",
          "2014-10-23T00:00:00",
          "2014-10-24T00:00:00",
          "2014-10-25T00:00:00",
          "2014-10-26T00:00:00",
          "2014-10-27T00:00:00",
          "2014-10-28T00:00:00",
          "2014-10-29T00:00:00",
          "2014-10-30T00:00:00",
          "2014-10-31T00:00:00",
          "2014-11-01T00:00:00",
          "2014-11-02T00:00:00",
          "2014-11-03T00:00:00",
          "2014-11-04T00:00:00",
          "2014-11-05T00:00:00",
          "2014-11-06T00:00:00",
          "2014-11-07T00:00:00",
          "2014-11-08T00:00:00",
          "2014-11-09T00:00:00",
          "2014-11-10T00:00:00",
          "2014-11-11T00:00:00",
          "2014-11-12T00:00:00",
          "2014-11-13T00:00:00",
          "2014-11-14T00:00:00",
          "2014-11-15T00:00:00",
          "2014-11-16T00:00:00"
         ],
         "xaxis": "x",
         "y": [
          686,
          785,
          884,
          827,
          832,
          788,
          780,
          652,
          697,
          860,
          864,
          801,
          642,
          697,
          669,
          693,
          771,
          736,
          727,
          728,
          722,
          695,
          724,
          789,
          743,
          808,
          831,
          767,
          760,
          850,
          851,
          831,
          802,
          829,
          770,
          724,
          710
         ],
         "yaxis": "y"
        },
        {
         "hovertemplate": "variable=Enrollments<br>type=control<br>date=%{x}<br>value=%{y}<extra></extra>",
         "legendgroup": "Enrollments, control",
         "line": {
          "color": "#EF553B",
          "dash": "solid"
         },
         "mode": "lines",
         "name": "Enrollments, control",
         "orientation": "v",
         "showlegend": true,
         "type": "scatter",
         "x": [
          "2014-10-11T00:00:00",
          "2014-10-12T00:00:00",
          "2014-10-13T00:00:00",
          "2014-10-14T00:00:00",
          "2014-10-15T00:00:00",
          "2014-10-16T00:00:00",
          "2014-10-17T00:00:00",
          "2014-10-18T00:00:00",
          "2014-10-19T00:00:00",
          "2014-10-20T00:00:00",
          "2014-10-21T00:00:00",
          "2014-10-22T00:00:00",
          "2014-10-23T00:00:00",
          "2014-10-24T00:00:00",
          "2014-10-25T00:00:00",
          "2014-10-26T00:00:00",
          "2014-10-27T00:00:00",
          "2014-10-28T00:00:00",
          "2014-10-29T00:00:00",
          "2014-10-30T00:00:00",
          "2014-10-31T00:00:00",
          "2014-11-01T00:00:00",
          "2014-11-02T00:00:00",
          "2014-11-03T00:00:00",
          "2014-11-04T00:00:00",
          "2014-11-05T00:00:00",
          "2014-11-06T00:00:00",
          "2014-11-07T00:00:00",
          "2014-11-08T00:00:00",
          "2014-11-09T00:00:00",
          "2014-11-10T00:00:00",
          "2014-11-11T00:00:00",
          "2014-11-12T00:00:00",
          "2014-11-13T00:00:00",
          "2014-11-14T00:00:00",
          "2014-11-15T00:00:00",
          "2014-11-16T00:00:00"
         ],
         "xaxis": "x",
         "y": [
          134,
          147,
          167,
          156,
          163,
          138,
          146,
          110,
          131,
          165,
          196,
          162,
          127,
          220,
          176,
          161,
          233,
          154,
          196,
          167,
          174,
          156,
          206,
          null,
          null,
          null,
          null,
          null,
          null,
          null,
          null,
          null,
          null,
          null,
          null,
          null,
          null
         ],
         "yaxis": "y"
        },
        {
         "hovertemplate": "variable=Enrollments<br>type=experiment<br>date=%{x}<br>value=%{y}<extra></extra>",
         "legendgroup": "Enrollments, experiment",
         "line": {
          "color": "#EF553B",
          "dash": "dot"
         },
         "mode": "lines",
         "name": "Enrollments, experiment",
         "orientation": "v",
         "showlegend": true,
         "type": "scatter",
         "x": [
          "2014-10-11T00:00:00",
          "2014-10-12T00:00:00",
          "2014-10-13T00:00:00",
          "2014-10-14T00:00:00",
          "2014-10-15T00:00:00",
          "2014-10-16T00:00:00",
          "2014-10-17T00:00:00",
          "2014-10-18T00:00:00",
          "2014-10-19T00:00:00",
          "2014-10-20T00:00:00",
          "2014-10-21T00:00:00",
          "2014-10-22T00:00:00",
          "2014-10-23T00:00:00",
          "2014-10-24T00:00:00",
          "2014-10-25T00:00:00",
          "2014-10-26T00:00:00",
          "2014-10-27T00:00:00",
          "2014-10-28T00:00:00",
          "2014-10-29T00:00:00",
          "2014-10-30T00:00:00",
          "2014-10-31T00:00:00",
          "2014-11-01T00:00:00",
          "2014-11-02T00:00:00",
          "2014-11-03T00:00:00",
          "2014-11-04T00:00:00",
          "2014-11-05T00:00:00",
          "2014-11-06T00:00:00",
          "2014-11-07T00:00:00",
          "2014-11-08T00:00:00",
          "2014-11-09T00:00:00",
          "2014-11-10T00:00:00",
          "2014-11-11T00:00:00",
          "2014-11-12T00:00:00",
          "2014-11-13T00:00:00",
          "2014-11-14T00:00:00",
          "2014-11-15T00:00:00",
          "2014-11-16T00:00:00"
         ],
         "xaxis": "x",
         "y": [
          105,
          116,
          145,
          138,
          140,
          129,
          127,
          94,
          120,
          153,
          143,
          128,
          122,
          194,
          127,
          153,
          213,
          162,
          201,
          207,
          182,
          142,
          182,
          null,
          null,
          null,
          null,
          null,
          null,
          null,
          null,
          null,
          null,
          null,
          null,
          null,
          null
         ],
         "yaxis": "y"
        },
        {
         "hovertemplate": "variable=Payments<br>type=control<br>date=%{x}<br>value=%{y}<extra></extra>",
         "legendgroup": "Payments, control",
         "line": {
          "color": "#00cc96",
          "dash": "solid"
         },
         "mode": "lines",
         "name": "Payments, control",
         "orientation": "v",
         "showlegend": true,
         "type": "scatter",
         "x": [
          "2014-10-11T00:00:00",
          "2014-10-12T00:00:00",
          "2014-10-13T00:00:00",
          "2014-10-14T00:00:00",
          "2014-10-15T00:00:00",
          "2014-10-16T00:00:00",
          "2014-10-17T00:00:00",
          "2014-10-18T00:00:00",
          "2014-10-19T00:00:00",
          "2014-10-20T00:00:00",
          "2014-10-21T00:00:00",
          "2014-10-22T00:00:00",
          "2014-10-23T00:00:00",
          "2014-10-24T00:00:00",
          "2014-10-25T00:00:00",
          "2014-10-26T00:00:00",
          "2014-10-27T00:00:00",
          "2014-10-28T00:00:00",
          "2014-10-29T00:00:00",
          "2014-10-30T00:00:00",
          "2014-10-31T00:00:00",
          "2014-11-01T00:00:00",
          "2014-11-02T00:00:00",
          "2014-11-03T00:00:00",
          "2014-11-04T00:00:00",
          "2014-11-05T00:00:00",
          "2014-11-06T00:00:00",
          "2014-11-07T00:00:00",
          "2014-11-08T00:00:00",
          "2014-11-09T00:00:00",
          "2014-11-10T00:00:00",
          "2014-11-11T00:00:00",
          "2014-11-12T00:00:00",
          "2014-11-13T00:00:00",
          "2014-11-14T00:00:00",
          "2014-11-15T00:00:00",
          "2014-11-16T00:00:00"
         ],
         "xaxis": "x",
         "y": [
          70,
          70,
          95,
          105,
          64,
          82,
          76,
          70,
          60,
          97,
          105,
          92,
          56,
          122,
          128,
          104,
          124,
          91,
          86,
          75,
          101,
          93,
          67,
          null,
          null,
          null,
          null,
          null,
          null,
          null,
          null,
          null,
          null,
          null,
          null,
          null,
          null
         ],
         "yaxis": "y"
        },
        {
         "hovertemplate": "variable=Payments<br>type=experiment<br>date=%{x}<br>value=%{y}<extra></extra>",
         "legendgroup": "Payments, experiment",
         "line": {
          "color": "#00cc96",
          "dash": "dot"
         },
         "mode": "lines",
         "name": "Payments, experiment",
         "orientation": "v",
         "showlegend": true,
         "type": "scatter",
         "x": [
          "2014-10-11T00:00:00",
          "2014-10-12T00:00:00",
          "2014-10-13T00:00:00",
          "2014-10-14T00:00:00",
          "2014-10-15T00:00:00",
          "2014-10-16T00:00:00",
          "2014-10-17T00:00:00",
          "2014-10-18T00:00:00",
          "2014-10-19T00:00:00",
          "2014-10-20T00:00:00",
          "2014-10-21T00:00:00",
          "2014-10-22T00:00:00",
          "2014-10-23T00:00:00",
          "2014-10-24T00:00:00",
          "2014-10-25T00:00:00",
          "2014-10-26T00:00:00",
          "2014-10-27T00:00:00",
          "2014-10-28T00:00:00",
          "2014-10-29T00:00:00",
          "2014-10-30T00:00:00",
          "2014-10-31T00:00:00",
          "2014-11-01T00:00:00",
          "2014-11-02T00:00:00",
          "2014-11-03T00:00:00",
          "2014-11-04T00:00:00",
          "2014-11-05T00:00:00",
          "2014-11-06T00:00:00",
          "2014-11-07T00:00:00",
          "2014-11-08T00:00:00",
          "2014-11-09T00:00:00",
          "2014-11-10T00:00:00",
          "2014-11-11T00:00:00",
          "2014-11-12T00:00:00",
          "2014-11-13T00:00:00",
          "2014-11-14T00:00:00",
          "2014-11-15T00:00:00",
          "2014-11-16T00:00:00"
         ],
         "xaxis": "x",
         "y": [
          34,
          91,
          79,
          92,
          94,
          61,
          44,
          62,
          77,
          98,
          71,
          70,
          68,
          94,
          81,
          101,
          119,
          120,
          96,
          67,
          123,
          100,
          103,
          null,
          null,
          null,
          null,
          null,
          null,
          null,
          null,
          null,
          null,
          null,
          null,
          null,
          null
         ],
         "yaxis": "y"
        }
       ],
       "layout": {
        "legend": {
         "title": {
          "text": "variable, type"
         },
         "tracegroupgap": 0
        },
        "margin": {
         "t": 60
        },
        "template": {
         "data": {
          "bar": [
           {
            "error_x": {
             "color": "#2a3f5f"
            },
            "error_y": {
             "color": "#2a3f5f"
            },
            "marker": {
             "line": {
              "color": "#E5ECF6",
              "width": 0.5
             }
            },
            "type": "bar"
           }
          ],
          "barpolar": [
           {
            "marker": {
             "line": {
              "color": "#E5ECF6",
              "width": 0.5
             }
            },
            "type": "barpolar"
           }
          ],
          "carpet": [
           {
            "aaxis": {
             "endlinecolor": "#2a3f5f",
             "gridcolor": "white",
             "linecolor": "white",
             "minorgridcolor": "white",
             "startlinecolor": "#2a3f5f"
            },
            "baxis": {
             "endlinecolor": "#2a3f5f",
             "gridcolor": "white",
             "linecolor": "white",
             "minorgridcolor": "white",
             "startlinecolor": "#2a3f5f"
            },
            "type": "carpet"
           }
          ],
          "choropleth": [
           {
            "colorbar": {
             "outlinewidth": 0,
             "ticks": ""
            },
            "type": "choropleth"
           }
          ],
          "contour": [
           {
            "colorbar": {
             "outlinewidth": 0,
             "ticks": ""
            },
            "colorscale": [
             [
              0,
              "#0d0887"
             ],
             [
              0.1111111111111111,
              "#46039f"
             ],
             [
              0.2222222222222222,
              "#7201a8"
             ],
             [
              0.3333333333333333,
              "#9c179e"
             ],
             [
              0.4444444444444444,
              "#bd3786"
             ],
             [
              0.5555555555555556,
              "#d8576b"
             ],
             [
              0.6666666666666666,
              "#ed7953"
             ],
             [
              0.7777777777777778,
              "#fb9f3a"
             ],
             [
              0.8888888888888888,
              "#fdca26"
             ],
             [
              1,
              "#f0f921"
             ]
            ],
            "type": "contour"
           }
          ],
          "contourcarpet": [
           {
            "colorbar": {
             "outlinewidth": 0,
             "ticks": ""
            },
            "type": "contourcarpet"
           }
          ],
          "heatmap": [
           {
            "colorbar": {
             "outlinewidth": 0,
             "ticks": ""
            },
            "colorscale": [
             [
              0,
              "#0d0887"
             ],
             [
              0.1111111111111111,
              "#46039f"
             ],
             [
              0.2222222222222222,
              "#7201a8"
             ],
             [
              0.3333333333333333,
              "#9c179e"
             ],
             [
              0.4444444444444444,
              "#bd3786"
             ],
             [
              0.5555555555555556,
              "#d8576b"
             ],
             [
              0.6666666666666666,
              "#ed7953"
             ],
             [
              0.7777777777777778,
              "#fb9f3a"
             ],
             [
              0.8888888888888888,
              "#fdca26"
             ],
             [
              1,
              "#f0f921"
             ]
            ],
            "type": "heatmap"
           }
          ],
          "heatmapgl": [
           {
            "colorbar": {
             "outlinewidth": 0,
             "ticks": ""
            },
            "colorscale": [
             [
              0,
              "#0d0887"
             ],
             [
              0.1111111111111111,
              "#46039f"
             ],
             [
              0.2222222222222222,
              "#7201a8"
             ],
             [
              0.3333333333333333,
              "#9c179e"
             ],
             [
              0.4444444444444444,
              "#bd3786"
             ],
             [
              0.5555555555555556,
              "#d8576b"
             ],
             [
              0.6666666666666666,
              "#ed7953"
             ],
             [
              0.7777777777777778,
              "#fb9f3a"
             ],
             [
              0.8888888888888888,
              "#fdca26"
             ],
             [
              1,
              "#f0f921"
             ]
            ],
            "type": "heatmapgl"
           }
          ],
          "histogram": [
           {
            "marker": {
             "colorbar": {
              "outlinewidth": 0,
              "ticks": ""
             }
            },
            "type": "histogram"
           }
          ],
          "histogram2d": [
           {
            "colorbar": {
             "outlinewidth": 0,
             "ticks": ""
            },
            "colorscale": [
             [
              0,
              "#0d0887"
             ],
             [
              0.1111111111111111,
              "#46039f"
             ],
             [
              0.2222222222222222,
              "#7201a8"
             ],
             [
              0.3333333333333333,
              "#9c179e"
             ],
             [
              0.4444444444444444,
              "#bd3786"
             ],
             [
              0.5555555555555556,
              "#d8576b"
             ],
             [
              0.6666666666666666,
              "#ed7953"
             ],
             [
              0.7777777777777778,
              "#fb9f3a"
             ],
             [
              0.8888888888888888,
              "#fdca26"
             ],
             [
              1,
              "#f0f921"
             ]
            ],
            "type": "histogram2d"
           }
          ],
          "histogram2dcontour": [
           {
            "colorbar": {
             "outlinewidth": 0,
             "ticks": ""
            },
            "colorscale": [
             [
              0,
              "#0d0887"
             ],
             [
              0.1111111111111111,
              "#46039f"
             ],
             [
              0.2222222222222222,
              "#7201a8"
             ],
             [
              0.3333333333333333,
              "#9c179e"
             ],
             [
              0.4444444444444444,
              "#bd3786"
             ],
             [
              0.5555555555555556,
              "#d8576b"
             ],
             [
              0.6666666666666666,
              "#ed7953"
             ],
             [
              0.7777777777777778,
              "#fb9f3a"
             ],
             [
              0.8888888888888888,
              "#fdca26"
             ],
             [
              1,
              "#f0f921"
             ]
            ],
            "type": "histogram2dcontour"
           }
          ],
          "mesh3d": [
           {
            "colorbar": {
             "outlinewidth": 0,
             "ticks": ""
            },
            "type": "mesh3d"
           }
          ],
          "parcoords": [
           {
            "line": {
             "colorbar": {
              "outlinewidth": 0,
              "ticks": ""
             }
            },
            "type": "parcoords"
           }
          ],
          "pie": [
           {
            "automargin": true,
            "type": "pie"
           }
          ],
          "scatter": [
           {
            "marker": {
             "colorbar": {
              "outlinewidth": 0,
              "ticks": ""
             }
            },
            "type": "scatter"
           }
          ],
          "scatter3d": [
           {
            "line": {
             "colorbar": {
              "outlinewidth": 0,
              "ticks": ""
             }
            },
            "marker": {
             "colorbar": {
              "outlinewidth": 0,
              "ticks": ""
             }
            },
            "type": "scatter3d"
           }
          ],
          "scattercarpet": [
           {
            "marker": {
             "colorbar": {
              "outlinewidth": 0,
              "ticks": ""
             }
            },
            "type": "scattercarpet"
           }
          ],
          "scattergeo": [
           {
            "marker": {
             "colorbar": {
              "outlinewidth": 0,
              "ticks": ""
             }
            },
            "type": "scattergeo"
           }
          ],
          "scattergl": [
           {
            "marker": {
             "colorbar": {
              "outlinewidth": 0,
              "ticks": ""
             }
            },
            "type": "scattergl"
           }
          ],
          "scattermapbox": [
           {
            "marker": {
             "colorbar": {
              "outlinewidth": 0,
              "ticks": ""
             }
            },
            "type": "scattermapbox"
           }
          ],
          "scatterpolar": [
           {
            "marker": {
             "colorbar": {
              "outlinewidth": 0,
              "ticks": ""
             }
            },
            "type": "scatterpolar"
           }
          ],
          "scatterpolargl": [
           {
            "marker": {
             "colorbar": {
              "outlinewidth": 0,
              "ticks": ""
             }
            },
            "type": "scatterpolargl"
           }
          ],
          "scatterternary": [
           {
            "marker": {
             "colorbar": {
              "outlinewidth": 0,
              "ticks": ""
             }
            },
            "type": "scatterternary"
           }
          ],
          "surface": [
           {
            "colorbar": {
             "outlinewidth": 0,
             "ticks": ""
            },
            "colorscale": [
             [
              0,
              "#0d0887"
             ],
             [
              0.1111111111111111,
              "#46039f"
             ],
             [
              0.2222222222222222,
              "#7201a8"
             ],
             [
              0.3333333333333333,
              "#9c179e"
             ],
             [
              0.4444444444444444,
              "#bd3786"
             ],
             [
              0.5555555555555556,
              "#d8576b"
             ],
             [
              0.6666666666666666,
              "#ed7953"
             ],
             [
              0.7777777777777778,
              "#fb9f3a"
             ],
             [
              0.8888888888888888,
              "#fdca26"
             ],
             [
              1,
              "#f0f921"
             ]
            ],
            "type": "surface"
           }
          ],
          "table": [
           {
            "cells": {
             "fill": {
              "color": "#EBF0F8"
             },
             "line": {
              "color": "white"
             }
            },
            "header": {
             "fill": {
              "color": "#C8D4E3"
             },
             "line": {
              "color": "white"
             }
            },
            "type": "table"
           }
          ]
         },
         "layout": {
          "annotationdefaults": {
           "arrowcolor": "#2a3f5f",
           "arrowhead": 0,
           "arrowwidth": 1
          },
          "coloraxis": {
           "colorbar": {
            "outlinewidth": 0,
            "ticks": ""
           }
          },
          "colorscale": {
           "diverging": [
            [
             0,
             "#8e0152"
            ],
            [
             0.1,
             "#c51b7d"
            ],
            [
             0.2,
             "#de77ae"
            ],
            [
             0.3,
             "#f1b6da"
            ],
            [
             0.4,
             "#fde0ef"
            ],
            [
             0.5,
             "#f7f7f7"
            ],
            [
             0.6,
             "#e6f5d0"
            ],
            [
             0.7,
             "#b8e186"
            ],
            [
             0.8,
             "#7fbc41"
            ],
            [
             0.9,
             "#4d9221"
            ],
            [
             1,
             "#276419"
            ]
           ],
           "sequential": [
            [
             0,
             "#0d0887"
            ],
            [
             0.1111111111111111,
             "#46039f"
            ],
            [
             0.2222222222222222,
             "#7201a8"
            ],
            [
             0.3333333333333333,
             "#9c179e"
            ],
            [
             0.4444444444444444,
             "#bd3786"
            ],
            [
             0.5555555555555556,
             "#d8576b"
            ],
            [
             0.6666666666666666,
             "#ed7953"
            ],
            [
             0.7777777777777778,
             "#fb9f3a"
            ],
            [
             0.8888888888888888,
             "#fdca26"
            ],
            [
             1,
             "#f0f921"
            ]
           ],
           "sequentialminus": [
            [
             0,
             "#0d0887"
            ],
            [
             0.1111111111111111,
             "#46039f"
            ],
            [
             0.2222222222222222,
             "#7201a8"
            ],
            [
             0.3333333333333333,
             "#9c179e"
            ],
            [
             0.4444444444444444,
             "#bd3786"
            ],
            [
             0.5555555555555556,
             "#d8576b"
            ],
            [
             0.6666666666666666,
             "#ed7953"
            ],
            [
             0.7777777777777778,
             "#fb9f3a"
            ],
            [
             0.8888888888888888,
             "#fdca26"
            ],
            [
             1,
             "#f0f921"
            ]
           ]
          },
          "colorway": [
           "#636efa",
           "#EF553B",
           "#00cc96",
           "#ab63fa",
           "#FFA15A",
           "#19d3f3",
           "#FF6692",
           "#B6E880",
           "#FF97FF",
           "#FECB52"
          ],
          "font": {
           "color": "#2a3f5f"
          },
          "geo": {
           "bgcolor": "white",
           "lakecolor": "white",
           "landcolor": "#E5ECF6",
           "showlakes": true,
           "showland": true,
           "subunitcolor": "white"
          },
          "hoverlabel": {
           "align": "left"
          },
          "hovermode": "closest",
          "mapbox": {
           "style": "light"
          },
          "paper_bgcolor": "white",
          "plot_bgcolor": "#E5ECF6",
          "polar": {
           "angularaxis": {
            "gridcolor": "white",
            "linecolor": "white",
            "ticks": ""
           },
           "bgcolor": "#E5ECF6",
           "radialaxis": {
            "gridcolor": "white",
            "linecolor": "white",
            "ticks": ""
           }
          },
          "scene": {
           "xaxis": {
            "backgroundcolor": "#E5ECF6",
            "gridcolor": "white",
            "gridwidth": 2,
            "linecolor": "white",
            "showbackground": true,
            "ticks": "",
            "zerolinecolor": "white"
           },
           "yaxis": {
            "backgroundcolor": "#E5ECF6",
            "gridcolor": "white",
            "gridwidth": 2,
            "linecolor": "white",
            "showbackground": true,
            "ticks": "",
            "zerolinecolor": "white"
           },
           "zaxis": {
            "backgroundcolor": "#E5ECF6",
            "gridcolor": "white",
            "gridwidth": 2,
            "linecolor": "white",
            "showbackground": true,
            "ticks": "",
            "zerolinecolor": "white"
           }
          },
          "shapedefaults": {
           "line": {
            "color": "#2a3f5f"
           }
          },
          "ternary": {
           "aaxis": {
            "gridcolor": "white",
            "linecolor": "white",
            "ticks": ""
           },
           "baxis": {
            "gridcolor": "white",
            "linecolor": "white",
            "ticks": ""
           },
           "bgcolor": "#E5ECF6",
           "caxis": {
            "gridcolor": "white",
            "linecolor": "white",
            "ticks": ""
           }
          },
          "title": {
           "x": 0.05
          },
          "xaxis": {
           "automargin": true,
           "gridcolor": "white",
           "linecolor": "white",
           "ticks": "",
           "title": {
            "standoff": 15
           },
           "zerolinecolor": "white",
           "zerolinewidth": 2
          },
          "yaxis": {
           "automargin": true,
           "gridcolor": "white",
           "linecolor": "white",
           "ticks": "",
           "title": {
            "standoff": 15
           },
           "zerolinecolor": "white",
           "zerolinewidth": 2
          }
         }
        },
        "xaxis": {
         "anchor": "y",
         "domain": [
          0,
          1
         ],
         "title": {
          "text": "date"
         }
        },
        "yaxis": {
         "anchor": "x",
         "domain": [
          0,
          1
         ],
         "title": {
          "text": "value"
         }
        }
       }
      },
      "text/html": [
       "<div>                            <div id=\"c7931a5a-f171-4c7b-8fec-601fc987d657\" class=\"plotly-graph-div\" style=\"height:525px; width:100%;\"></div>            <script type=\"text/javascript\">                require([\"plotly\"], function(Plotly) {                    window.PLOTLYENV=window.PLOTLYENV || {};                                    if (document.getElementById(\"c7931a5a-f171-4c7b-8fec-601fc987d657\")) {                    Plotly.newPlot(                        \"c7931a5a-f171-4c7b-8fec-601fc987d657\",                        [{\"hovertemplate\": \"variable=Clicks<br>type=control<br>date=%{x}<br>value=%{y}<extra></extra>\", \"legendgroup\": \"Clicks, control\", \"line\": {\"color\": \"#636efa\", \"dash\": \"solid\"}, \"mode\": \"lines\", \"name\": \"Clicks, control\", \"orientation\": \"v\", \"showlegend\": true, \"type\": \"scatter\", \"x\": [\"2014-10-11T00:00:00\", \"2014-10-12T00:00:00\", \"2014-10-13T00:00:00\", \"2014-10-14T00:00:00\", \"2014-10-15T00:00:00\", \"2014-10-16T00:00:00\", \"2014-10-17T00:00:00\", \"2014-10-18T00:00:00\", \"2014-10-19T00:00:00\", \"2014-10-20T00:00:00\", \"2014-10-21T00:00:00\", \"2014-10-22T00:00:00\", \"2014-10-23T00:00:00\", \"2014-10-24T00:00:00\", \"2014-10-25T00:00:00\", \"2014-10-26T00:00:00\", \"2014-10-27T00:00:00\", \"2014-10-28T00:00:00\", \"2014-10-29T00:00:00\", \"2014-10-30T00:00:00\", \"2014-10-31T00:00:00\", \"2014-11-01T00:00:00\", \"2014-11-02T00:00:00\", \"2014-11-03T00:00:00\", \"2014-11-04T00:00:00\", \"2014-11-05T00:00:00\", \"2014-11-06T00:00:00\", \"2014-11-07T00:00:00\", \"2014-11-08T00:00:00\", \"2014-11-09T00:00:00\", \"2014-11-10T00:00:00\", \"2014-11-11T00:00:00\", \"2014-11-12T00:00:00\", \"2014-11-13T00:00:00\", \"2014-11-14T00:00:00\", \"2014-11-15T00:00:00\", \"2014-11-16T00:00:00\"], \"xaxis\": \"x\", \"y\": [687.0, 779.0, 909.0, 836.0, 837.0, 823.0, 748.0, 632.0, 691.0, 861.0, 867.0, 838.0, 665.0, 673.0, 691.0, 708.0, 759.0, 736.0, 739.0, 734.0, 706.0, 681.0, 693.0, 788.0, 781.0, 805.0, 830.0, 781.0, 756.0, 825.0, 874.0, 830.0, 801.0, 814.0, 735.0, 743.0, 722.0], \"yaxis\": \"y\"}, {\"hovertemplate\": \"variable=Clicks<br>type=experiment<br>date=%{x}<br>value=%{y}<extra></extra>\", \"legendgroup\": \"Clicks, experiment\", \"line\": {\"color\": \"#636efa\", \"dash\": \"dot\"}, \"mode\": \"lines\", \"name\": \"Clicks, experiment\", \"orientation\": \"v\", \"showlegend\": true, \"type\": \"scatter\", \"x\": [\"2014-10-11T00:00:00\", \"2014-10-12T00:00:00\", \"2014-10-13T00:00:00\", \"2014-10-14T00:00:00\", \"2014-10-15T00:00:00\", \"2014-10-16T00:00:00\", \"2014-10-17T00:00:00\", \"2014-10-18T00:00:00\", \"2014-10-19T00:00:00\", \"2014-10-20T00:00:00\", \"2014-10-21T00:00:00\", \"2014-10-22T00:00:00\", \"2014-10-23T00:00:00\", \"2014-10-24T00:00:00\", \"2014-10-25T00:00:00\", \"2014-10-26T00:00:00\", \"2014-10-27T00:00:00\", \"2014-10-28T00:00:00\", \"2014-10-29T00:00:00\", \"2014-10-30T00:00:00\", \"2014-10-31T00:00:00\", \"2014-11-01T00:00:00\", \"2014-11-02T00:00:00\", \"2014-11-03T00:00:00\", \"2014-11-04T00:00:00\", \"2014-11-05T00:00:00\", \"2014-11-06T00:00:00\", \"2014-11-07T00:00:00\", \"2014-11-08T00:00:00\", \"2014-11-09T00:00:00\", \"2014-11-10T00:00:00\", \"2014-11-11T00:00:00\", \"2014-11-12T00:00:00\", \"2014-11-13T00:00:00\", \"2014-11-14T00:00:00\", \"2014-11-15T00:00:00\", \"2014-11-16T00:00:00\"], \"xaxis\": \"x\", \"y\": [686.0, 785.0, 884.0, 827.0, 832.0, 788.0, 780.0, 652.0, 697.0, 860.0, 864.0, 801.0, 642.0, 697.0, 669.0, 693.0, 771.0, 736.0, 727.0, 728.0, 722.0, 695.0, 724.0, 789.0, 743.0, 808.0, 831.0, 767.0, 760.0, 850.0, 851.0, 831.0, 802.0, 829.0, 770.0, 724.0, 710.0], \"yaxis\": \"y\"}, {\"hovertemplate\": \"variable=Enrollments<br>type=control<br>date=%{x}<br>value=%{y}<extra></extra>\", \"legendgroup\": \"Enrollments, control\", \"line\": {\"color\": \"#EF553B\", \"dash\": \"solid\"}, \"mode\": \"lines\", \"name\": \"Enrollments, control\", \"orientation\": \"v\", \"showlegend\": true, \"type\": \"scatter\", \"x\": [\"2014-10-11T00:00:00\", \"2014-10-12T00:00:00\", \"2014-10-13T00:00:00\", \"2014-10-14T00:00:00\", \"2014-10-15T00:00:00\", \"2014-10-16T00:00:00\", \"2014-10-17T00:00:00\", \"2014-10-18T00:00:00\", \"2014-10-19T00:00:00\", \"2014-10-20T00:00:00\", \"2014-10-21T00:00:00\", \"2014-10-22T00:00:00\", \"2014-10-23T00:00:00\", \"2014-10-24T00:00:00\", \"2014-10-25T00:00:00\", \"2014-10-26T00:00:00\", \"2014-10-27T00:00:00\", \"2014-10-28T00:00:00\", \"2014-10-29T00:00:00\", \"2014-10-30T00:00:00\", \"2014-10-31T00:00:00\", \"2014-11-01T00:00:00\", \"2014-11-02T00:00:00\", \"2014-11-03T00:00:00\", \"2014-11-04T00:00:00\", \"2014-11-05T00:00:00\", \"2014-11-06T00:00:00\", \"2014-11-07T00:00:00\", \"2014-11-08T00:00:00\", \"2014-11-09T00:00:00\", \"2014-11-10T00:00:00\", \"2014-11-11T00:00:00\", \"2014-11-12T00:00:00\", \"2014-11-13T00:00:00\", \"2014-11-14T00:00:00\", \"2014-11-15T00:00:00\", \"2014-11-16T00:00:00\"], \"xaxis\": \"x\", \"y\": [134.0, 147.0, 167.0, 156.0, 163.0, 138.0, 146.0, 110.0, 131.0, 165.0, 196.0, 162.0, 127.0, 220.0, 176.0, 161.0, 233.0, 154.0, 196.0, 167.0, 174.0, 156.0, 206.0, null, null, null, null, null, null, null, null, null, null, null, null, null, null], \"yaxis\": \"y\"}, {\"hovertemplate\": \"variable=Enrollments<br>type=experiment<br>date=%{x}<br>value=%{y}<extra></extra>\", \"legendgroup\": \"Enrollments, experiment\", \"line\": {\"color\": \"#EF553B\", \"dash\": \"dot\"}, \"mode\": \"lines\", \"name\": \"Enrollments, experiment\", \"orientation\": \"v\", \"showlegend\": true, \"type\": \"scatter\", \"x\": [\"2014-10-11T00:00:00\", \"2014-10-12T00:00:00\", \"2014-10-13T00:00:00\", \"2014-10-14T00:00:00\", \"2014-10-15T00:00:00\", \"2014-10-16T00:00:00\", \"2014-10-17T00:00:00\", \"2014-10-18T00:00:00\", \"2014-10-19T00:00:00\", \"2014-10-20T00:00:00\", \"2014-10-21T00:00:00\", \"2014-10-22T00:00:00\", \"2014-10-23T00:00:00\", \"2014-10-24T00:00:00\", \"2014-10-25T00:00:00\", \"2014-10-26T00:00:00\", \"2014-10-27T00:00:00\", \"2014-10-28T00:00:00\", \"2014-10-29T00:00:00\", \"2014-10-30T00:00:00\", \"2014-10-31T00:00:00\", \"2014-11-01T00:00:00\", \"2014-11-02T00:00:00\", \"2014-11-03T00:00:00\", \"2014-11-04T00:00:00\", \"2014-11-05T00:00:00\", \"2014-11-06T00:00:00\", \"2014-11-07T00:00:00\", \"2014-11-08T00:00:00\", \"2014-11-09T00:00:00\", \"2014-11-10T00:00:00\", \"2014-11-11T00:00:00\", \"2014-11-12T00:00:00\", \"2014-11-13T00:00:00\", \"2014-11-14T00:00:00\", \"2014-11-15T00:00:00\", \"2014-11-16T00:00:00\"], \"xaxis\": \"x\", \"y\": [105.0, 116.0, 145.0, 138.0, 140.0, 129.0, 127.0, 94.0, 120.0, 153.0, 143.0, 128.0, 122.0, 194.0, 127.0, 153.0, 213.0, 162.0, 201.0, 207.0, 182.0, 142.0, 182.0, null, null, null, null, null, null, null, null, null, null, null, null, null, null], \"yaxis\": \"y\"}, {\"hovertemplate\": \"variable=Payments<br>type=control<br>date=%{x}<br>value=%{y}<extra></extra>\", \"legendgroup\": \"Payments, control\", \"line\": {\"color\": \"#00cc96\", \"dash\": \"solid\"}, \"mode\": \"lines\", \"name\": \"Payments, control\", \"orientation\": \"v\", \"showlegend\": true, \"type\": \"scatter\", \"x\": [\"2014-10-11T00:00:00\", \"2014-10-12T00:00:00\", \"2014-10-13T00:00:00\", \"2014-10-14T00:00:00\", \"2014-10-15T00:00:00\", \"2014-10-16T00:00:00\", \"2014-10-17T00:00:00\", \"2014-10-18T00:00:00\", \"2014-10-19T00:00:00\", \"2014-10-20T00:00:00\", \"2014-10-21T00:00:00\", \"2014-10-22T00:00:00\", \"2014-10-23T00:00:00\", \"2014-10-24T00:00:00\", \"2014-10-25T00:00:00\", \"2014-10-26T00:00:00\", \"2014-10-27T00:00:00\", \"2014-10-28T00:00:00\", \"2014-10-29T00:00:00\", \"2014-10-30T00:00:00\", \"2014-10-31T00:00:00\", \"2014-11-01T00:00:00\", \"2014-11-02T00:00:00\", \"2014-11-03T00:00:00\", \"2014-11-04T00:00:00\", \"2014-11-05T00:00:00\", \"2014-11-06T00:00:00\", \"2014-11-07T00:00:00\", \"2014-11-08T00:00:00\", \"2014-11-09T00:00:00\", \"2014-11-10T00:00:00\", \"2014-11-11T00:00:00\", \"2014-11-12T00:00:00\", \"2014-11-13T00:00:00\", \"2014-11-14T00:00:00\", \"2014-11-15T00:00:00\", \"2014-11-16T00:00:00\"], \"xaxis\": \"x\", \"y\": [70.0, 70.0, 95.0, 105.0, 64.0, 82.0, 76.0, 70.0, 60.0, 97.0, 105.0, 92.0, 56.0, 122.0, 128.0, 104.0, 124.0, 91.0, 86.0, 75.0, 101.0, 93.0, 67.0, null, null, null, null, null, null, null, null, null, null, null, null, null, null], \"yaxis\": \"y\"}, {\"hovertemplate\": \"variable=Payments<br>type=experiment<br>date=%{x}<br>value=%{y}<extra></extra>\", \"legendgroup\": \"Payments, experiment\", \"line\": {\"color\": \"#00cc96\", \"dash\": \"dot\"}, \"mode\": \"lines\", \"name\": \"Payments, experiment\", \"orientation\": \"v\", \"showlegend\": true, \"type\": \"scatter\", \"x\": [\"2014-10-11T00:00:00\", \"2014-10-12T00:00:00\", \"2014-10-13T00:00:00\", \"2014-10-14T00:00:00\", \"2014-10-15T00:00:00\", \"2014-10-16T00:00:00\", \"2014-10-17T00:00:00\", \"2014-10-18T00:00:00\", \"2014-10-19T00:00:00\", \"2014-10-20T00:00:00\", \"2014-10-21T00:00:00\", \"2014-10-22T00:00:00\", \"2014-10-23T00:00:00\", \"2014-10-24T00:00:00\", \"2014-10-25T00:00:00\", \"2014-10-26T00:00:00\", \"2014-10-27T00:00:00\", \"2014-10-28T00:00:00\", \"2014-10-29T00:00:00\", \"2014-10-30T00:00:00\", \"2014-10-31T00:00:00\", \"2014-11-01T00:00:00\", \"2014-11-02T00:00:00\", \"2014-11-03T00:00:00\", \"2014-11-04T00:00:00\", \"2014-11-05T00:00:00\", \"2014-11-06T00:00:00\", \"2014-11-07T00:00:00\", \"2014-11-08T00:00:00\", \"2014-11-09T00:00:00\", \"2014-11-10T00:00:00\", \"2014-11-11T00:00:00\", \"2014-11-12T00:00:00\", \"2014-11-13T00:00:00\", \"2014-11-14T00:00:00\", \"2014-11-15T00:00:00\", \"2014-11-16T00:00:00\"], \"xaxis\": \"x\", \"y\": [34.0, 91.0, 79.0, 92.0, 94.0, 61.0, 44.0, 62.0, 77.0, 98.0, 71.0, 70.0, 68.0, 94.0, 81.0, 101.0, 119.0, 120.0, 96.0, 67.0, 123.0, 100.0, 103.0, null, null, null, null, null, null, null, null, null, null, null, null, null, null], \"yaxis\": \"y\"}],                        {\"legend\": {\"title\": {\"text\": \"variable, type\"}, \"tracegroupgap\": 0}, \"margin\": {\"t\": 60}, \"template\": {\"data\": {\"bar\": [{\"error_x\": {\"color\": \"#2a3f5f\"}, \"error_y\": {\"color\": \"#2a3f5f\"}, \"marker\": {\"line\": {\"color\": \"#E5ECF6\", \"width\": 0.5}}, \"type\": \"bar\"}], \"barpolar\": [{\"marker\": {\"line\": {\"color\": \"#E5ECF6\", \"width\": 0.5}}, \"type\": \"barpolar\"}], \"carpet\": [{\"aaxis\": {\"endlinecolor\": \"#2a3f5f\", \"gridcolor\": \"white\", \"linecolor\": \"white\", \"minorgridcolor\": \"white\", \"startlinecolor\": \"#2a3f5f\"}, \"baxis\": {\"endlinecolor\": \"#2a3f5f\", \"gridcolor\": \"white\", \"linecolor\": \"white\", \"minorgridcolor\": \"white\", \"startlinecolor\": \"#2a3f5f\"}, \"type\": \"carpet\"}], \"choropleth\": [{\"colorbar\": {\"outlinewidth\": 0, \"ticks\": \"\"}, \"type\": \"choropleth\"}], \"contour\": [{\"colorbar\": {\"outlinewidth\": 0, \"ticks\": \"\"}, \"colorscale\": [[0.0, \"#0d0887\"], [0.1111111111111111, \"#46039f\"], [0.2222222222222222, \"#7201a8\"], [0.3333333333333333, \"#9c179e\"], [0.4444444444444444, \"#bd3786\"], [0.5555555555555556, \"#d8576b\"], [0.6666666666666666, \"#ed7953\"], [0.7777777777777778, \"#fb9f3a\"], [0.8888888888888888, \"#fdca26\"], [1.0, \"#f0f921\"]], \"type\": \"contour\"}], \"contourcarpet\": [{\"colorbar\": {\"outlinewidth\": 0, \"ticks\": \"\"}, \"type\": \"contourcarpet\"}], \"heatmap\": [{\"colorbar\": {\"outlinewidth\": 0, \"ticks\": \"\"}, \"colorscale\": [[0.0, \"#0d0887\"], [0.1111111111111111, \"#46039f\"], [0.2222222222222222, \"#7201a8\"], [0.3333333333333333, \"#9c179e\"], [0.4444444444444444, \"#bd3786\"], [0.5555555555555556, \"#d8576b\"], [0.6666666666666666, \"#ed7953\"], [0.7777777777777778, \"#fb9f3a\"], [0.8888888888888888, \"#fdca26\"], [1.0, \"#f0f921\"]], \"type\": \"heatmap\"}], \"heatmapgl\": [{\"colorbar\": {\"outlinewidth\": 0, \"ticks\": \"\"}, \"colorscale\": [[0.0, \"#0d0887\"], [0.1111111111111111, \"#46039f\"], [0.2222222222222222, \"#7201a8\"], [0.3333333333333333, \"#9c179e\"], [0.4444444444444444, \"#bd3786\"], [0.5555555555555556, \"#d8576b\"], [0.6666666666666666, \"#ed7953\"], [0.7777777777777778, \"#fb9f3a\"], [0.8888888888888888, \"#fdca26\"], [1.0, \"#f0f921\"]], \"type\": \"heatmapgl\"}], \"histogram\": [{\"marker\": {\"colorbar\": {\"outlinewidth\": 0, \"ticks\": \"\"}}, \"type\": \"histogram\"}], \"histogram2d\": [{\"colorbar\": {\"outlinewidth\": 0, \"ticks\": \"\"}, \"colorscale\": [[0.0, \"#0d0887\"], [0.1111111111111111, \"#46039f\"], [0.2222222222222222, \"#7201a8\"], [0.3333333333333333, \"#9c179e\"], [0.4444444444444444, \"#bd3786\"], [0.5555555555555556, \"#d8576b\"], [0.6666666666666666, \"#ed7953\"], [0.7777777777777778, \"#fb9f3a\"], [0.8888888888888888, \"#fdca26\"], [1.0, \"#f0f921\"]], \"type\": \"histogram2d\"}], \"histogram2dcontour\": [{\"colorbar\": {\"outlinewidth\": 0, \"ticks\": \"\"}, \"colorscale\": [[0.0, \"#0d0887\"], [0.1111111111111111, \"#46039f\"], [0.2222222222222222, \"#7201a8\"], [0.3333333333333333, \"#9c179e\"], [0.4444444444444444, \"#bd3786\"], [0.5555555555555556, \"#d8576b\"], [0.6666666666666666, \"#ed7953\"], [0.7777777777777778, \"#fb9f3a\"], [0.8888888888888888, \"#fdca26\"], [1.0, \"#f0f921\"]], \"type\": \"histogram2dcontour\"}], \"mesh3d\": [{\"colorbar\": {\"outlinewidth\": 0, \"ticks\": \"\"}, \"type\": \"mesh3d\"}], \"parcoords\": [{\"line\": {\"colorbar\": {\"outlinewidth\": 0, \"ticks\": \"\"}}, \"type\": \"parcoords\"}], \"pie\": [{\"automargin\": true, \"type\": \"pie\"}], \"scatter\": [{\"marker\": {\"colorbar\": {\"outlinewidth\": 0, \"ticks\": \"\"}}, \"type\": \"scatter\"}], \"scatter3d\": [{\"line\": {\"colorbar\": {\"outlinewidth\": 0, \"ticks\": \"\"}}, \"marker\": {\"colorbar\": {\"outlinewidth\": 0, \"ticks\": \"\"}}, \"type\": \"scatter3d\"}], \"scattercarpet\": [{\"marker\": {\"colorbar\": {\"outlinewidth\": 0, \"ticks\": \"\"}}, \"type\": \"scattercarpet\"}], \"scattergeo\": [{\"marker\": {\"colorbar\": {\"outlinewidth\": 0, \"ticks\": \"\"}}, \"type\": \"scattergeo\"}], \"scattergl\": [{\"marker\": {\"colorbar\": {\"outlinewidth\": 0, \"ticks\": \"\"}}, \"type\": \"scattergl\"}], \"scattermapbox\": [{\"marker\": {\"colorbar\": {\"outlinewidth\": 0, \"ticks\": \"\"}}, \"type\": \"scattermapbox\"}], \"scatterpolar\": [{\"marker\": {\"colorbar\": {\"outlinewidth\": 0, \"ticks\": \"\"}}, \"type\": \"scatterpolar\"}], \"scatterpolargl\": [{\"marker\": {\"colorbar\": {\"outlinewidth\": 0, \"ticks\": \"\"}}, \"type\": \"scatterpolargl\"}], \"scatterternary\": [{\"marker\": {\"colorbar\": {\"outlinewidth\": 0, \"ticks\": \"\"}}, \"type\": \"scatterternary\"}], \"surface\": [{\"colorbar\": {\"outlinewidth\": 0, \"ticks\": \"\"}, \"colorscale\": [[0.0, \"#0d0887\"], [0.1111111111111111, \"#46039f\"], [0.2222222222222222, \"#7201a8\"], [0.3333333333333333, \"#9c179e\"], [0.4444444444444444, \"#bd3786\"], [0.5555555555555556, \"#d8576b\"], [0.6666666666666666, \"#ed7953\"], [0.7777777777777778, \"#fb9f3a\"], [0.8888888888888888, \"#fdca26\"], [1.0, \"#f0f921\"]], \"type\": \"surface\"}], \"table\": [{\"cells\": {\"fill\": {\"color\": \"#EBF0F8\"}, \"line\": {\"color\": \"white\"}}, \"header\": {\"fill\": {\"color\": \"#C8D4E3\"}, \"line\": {\"color\": \"white\"}}, \"type\": \"table\"}]}, \"layout\": {\"annotationdefaults\": {\"arrowcolor\": \"#2a3f5f\", \"arrowhead\": 0, \"arrowwidth\": 1}, \"coloraxis\": {\"colorbar\": {\"outlinewidth\": 0, \"ticks\": \"\"}}, \"colorscale\": {\"diverging\": [[0, \"#8e0152\"], [0.1, \"#c51b7d\"], [0.2, \"#de77ae\"], [0.3, \"#f1b6da\"], [0.4, \"#fde0ef\"], [0.5, \"#f7f7f7\"], [0.6, \"#e6f5d0\"], [0.7, \"#b8e186\"], [0.8, \"#7fbc41\"], [0.9, \"#4d9221\"], [1, \"#276419\"]], \"sequential\": [[0.0, \"#0d0887\"], [0.1111111111111111, \"#46039f\"], [0.2222222222222222, \"#7201a8\"], [0.3333333333333333, \"#9c179e\"], [0.4444444444444444, \"#bd3786\"], [0.5555555555555556, \"#d8576b\"], [0.6666666666666666, \"#ed7953\"], [0.7777777777777778, \"#fb9f3a\"], [0.8888888888888888, \"#fdca26\"], [1.0, \"#f0f921\"]], \"sequentialminus\": [[0.0, \"#0d0887\"], [0.1111111111111111, \"#46039f\"], [0.2222222222222222, \"#7201a8\"], [0.3333333333333333, \"#9c179e\"], [0.4444444444444444, \"#bd3786\"], [0.5555555555555556, \"#d8576b\"], [0.6666666666666666, \"#ed7953\"], [0.7777777777777778, \"#fb9f3a\"], [0.8888888888888888, \"#fdca26\"], [1.0, \"#f0f921\"]]}, \"colorway\": [\"#636efa\", \"#EF553B\", \"#00cc96\", \"#ab63fa\", \"#FFA15A\", \"#19d3f3\", \"#FF6692\", \"#B6E880\", \"#FF97FF\", \"#FECB52\"], \"font\": {\"color\": \"#2a3f5f\"}, \"geo\": {\"bgcolor\": \"white\", \"lakecolor\": \"white\", \"landcolor\": \"#E5ECF6\", \"showlakes\": true, \"showland\": true, \"subunitcolor\": \"white\"}, \"hoverlabel\": {\"align\": \"left\"}, \"hovermode\": \"closest\", \"mapbox\": {\"style\": \"light\"}, \"paper_bgcolor\": \"white\", \"plot_bgcolor\": \"#E5ECF6\", \"polar\": {\"angularaxis\": {\"gridcolor\": \"white\", \"linecolor\": \"white\", \"ticks\": \"\"}, \"bgcolor\": \"#E5ECF6\", \"radialaxis\": {\"gridcolor\": \"white\", \"linecolor\": \"white\", \"ticks\": \"\"}}, \"scene\": {\"xaxis\": {\"backgroundcolor\": \"#E5ECF6\", \"gridcolor\": \"white\", \"gridwidth\": 2, \"linecolor\": \"white\", \"showbackground\": true, \"ticks\": \"\", \"zerolinecolor\": \"white\"}, \"yaxis\": {\"backgroundcolor\": \"#E5ECF6\", \"gridcolor\": \"white\", \"gridwidth\": 2, \"linecolor\": \"white\", \"showbackground\": true, \"ticks\": \"\", \"zerolinecolor\": \"white\"}, \"zaxis\": {\"backgroundcolor\": \"#E5ECF6\", \"gridcolor\": \"white\", \"gridwidth\": 2, \"linecolor\": \"white\", \"showbackground\": true, \"ticks\": \"\", \"zerolinecolor\": \"white\"}}, \"shapedefaults\": {\"line\": {\"color\": \"#2a3f5f\"}}, \"ternary\": {\"aaxis\": {\"gridcolor\": \"white\", \"linecolor\": \"white\", \"ticks\": \"\"}, \"baxis\": {\"gridcolor\": \"white\", \"linecolor\": \"white\", \"ticks\": \"\"}, \"bgcolor\": \"#E5ECF6\", \"caxis\": {\"gridcolor\": \"white\", \"linecolor\": \"white\", \"ticks\": \"\"}}, \"title\": {\"x\": 0.05}, \"xaxis\": {\"automargin\": true, \"gridcolor\": \"white\", \"linecolor\": \"white\", \"ticks\": \"\", \"title\": {\"standoff\": 15}, \"zerolinecolor\": \"white\", \"zerolinewidth\": 2}, \"yaxis\": {\"automargin\": true, \"gridcolor\": \"white\", \"linecolor\": \"white\", \"ticks\": \"\", \"title\": {\"standoff\": 15}, \"zerolinecolor\": \"white\", \"zerolinewidth\": 2}}}, \"xaxis\": {\"anchor\": \"y\", \"domain\": [0.0, 1.0], \"title\": {\"text\": \"date\"}}, \"yaxis\": {\"anchor\": \"x\", \"domain\": [0.0, 1.0], \"title\": {\"text\": \"value\"}}},                        {\"responsive\": true}                    ).then(function(){\n",
       "                            \n",
       "var gd = document.getElementById('c7931a5a-f171-4c7b-8fec-601fc987d657');\n",
       "var x = new MutationObserver(function (mutations, observer) {{\n",
       "        var display = window.getComputedStyle(gd).display;\n",
       "        if (!display || display === 'none') {{\n",
       "            console.log([gd, 'removed!']);\n",
       "            Plotly.purge(gd);\n",
       "            observer.disconnect();\n",
       "        }}\n",
       "}});\n",
       "\n",
       "// Listen for the removal of the full notebook cells\n",
       "var notebookContainer = gd.closest('#notebook-container');\n",
       "if (notebookContainer) {{\n",
       "    x.observe(notebookContainer, {childList: true});\n",
       "}}\n",
       "\n",
       "// Listen for the clearing of the current output cell\n",
       "var outputEl = gd.closest('.output');\n",
       "if (outputEl) {{\n",
       "    x.observe(outputEl, {childList: true});\n",
       "}}\n",
       "\n",
       "                        })                };                });            </script>        </div>"
      ]
     },
     "metadata": {},
     "output_type": "display_data"
    }
   ],
   "source": [
    "fig3 = px.line(df_concat,x='date',y=['Clicks','Enrollments','Payments'],line_dash = 'type')\n",
    "fig3.show()"
   ]
  },
  {
   "cell_type": "markdown",
   "metadata": {},
   "source": [
    "**Analysis**  \n",
    "The count chart seems normal, consistent with the sanity check earlier.\n",
    "\n",
    "---"
   ]
  },
  {
   "cell_type": "markdown",
   "metadata": {},
   "source": [
    "#### Calculate confidence interval of the rates and check if there's outliers\n",
    "- For control group, I'll use the baseline value stated as earlier [here](#cell22).\n",
    "- For experiment group, I'll use the average estimate probability. Because earlier test shows that gross conversion in experiment group is statistically different from the control group, therefore we can't use the baseline value of gross conversion for experiment group. For net conversion, there's no statistical difference so both are fine."
   ]
  },
  {
   "cell_type": "code",
   "execution_count": 118,
   "metadata": {},
   "outputs": [],
   "source": [
    "def get_CI(p,n_unit):\n",
    "    \"\"\"\n",
    "    Get the Confidence Interval(CI) by probability and number of units.\n",
    "    \n",
    "    Input\n",
    "        p: Probability of an event, binomial distribution\n",
    "        n_unit: number of units\n",
    "    Output\n",
    "        CI_left,CI_right\n",
    "    \"\"\"\n",
    "    moe = 1.96*sqrt(p*(1-p)/n_unit)\n",
    "    return p - moe, p + moe"
   ]
  },
  {
   "cell_type": "code",
   "execution_count": 212,
   "metadata": {},
   "outputs": [
    {
     "data": {
      "text/html": [
       "<div>\n",
       "<style scoped>\n",
       "    .dataframe tbody tr th:only-of-type {\n",
       "        vertical-align: middle;\n",
       "    }\n",
       "\n",
       "    .dataframe tbody tr th {\n",
       "        vertical-align: top;\n",
       "    }\n",
       "\n",
       "    .dataframe thead th {\n",
       "        text-align: right;\n",
       "    }\n",
       "</style>\n",
       "<table border=\"1\" class=\"dataframe\">\n",
       "  <thead>\n",
       "    <tr style=\"text-align: right;\">\n",
       "      <th></th>\n",
       "      <th>CI_left_control</th>\n",
       "      <th>CI_right_control</th>\n",
       "      <th>CI_left_experiment</th>\n",
       "      <th>CI_right_experiment</th>\n",
       "    </tr>\n",
       "  </thead>\n",
       "  <tbody>\n",
       "    <tr>\n",
       "      <th>gross_conversion</th>\n",
       "      <td>0.2002</td>\n",
       "      <td>0.2123</td>\n",
       "      <td>0.1924</td>\n",
       "      <td>0.2043</td>\n",
       "    </tr>\n",
       "    <tr>\n",
       "      <th>net_conversion</th>\n",
       "      <td>0.1047</td>\n",
       "      <td>0.114</td>\n",
       "      <td>0.108</td>\n",
       "      <td>0.1174</td>\n",
       "    </tr>\n",
       "    <tr>\n",
       "      <th>retention</th>\n",
       "      <td>0.5141</td>\n",
       "      <td>0.5459</td>\n",
       "      <td>NaN</td>\n",
       "      <td>NaN</td>\n",
       "    </tr>\n",
       "  </tbody>\n",
       "</table>\n",
       "</div>"
      ],
      "text/plain": [
       "                 CI_left_control CI_right_control CI_left_experiment  \\\n",
       "gross_conversion          0.2002           0.2123             0.1924   \n",
       "net_conversion            0.1047            0.114              0.108   \n",
       "retention                 0.5141           0.5459                NaN   \n",
       "\n",
       "                 CI_right_experiment  \n",
       "gross_conversion              0.2043  \n",
       "net_conversion                0.1174  \n",
       "retention                        NaN  "
      ]
     },
     "execution_count": 212,
     "metadata": {},
     "output_type": "execute_result"
    }
   ],
   "source": [
    "# Initiate a dataframe\n",
    "col_names = ['CI_left_control','CI_right_control','CI_left_experiment','CI_right_experiment']\n",
    "evaluation_analytical_CI = pd.DataFrame(columns = col_names,index = select_metric_list)\n",
    "\n",
    "p_gross_conversion_experiment = n_enroll_experiment/n_click_experiment\n",
    "p_net_conversion_experiment = n_payment_experiment/n_click_experiment\n",
    "\n",
    "n_list = (n_click_control,n_enroll_control,n_click_control)\n",
    "p2_list = (p_gross_conversion_experiment,p_net_conversion_experiment)\n",
    "n2_list = (n_click_experiment,n_click_experiment)\n",
    "\n",
    "for m,p,n in zip(metric_list,p_list,n_list):\n",
    "    CI_left,CI_right = get_CI(p,n)\n",
    "    evaluation_analytical_CI.loc[m,['CI_left_control','CI_right_control']] = round(CI_left,4),round(CI_right,4)\n",
    "    df_concat.loc[df_concat['type']=='control',f'not_outlier_{m}'] = df_concat.loc[df_concat['type']=='control',m].apply(lambda x:(CI_left<=x<=CI_right))\n",
    "for m,p,n in zip(select_metric_list,p2_list,n2_list):\n",
    "    CI_left,CI_right = get_CI(p,n)\n",
    "    evaluation_analytical_CI.loc[m,['CI_left_experiment','CI_right_experiment']] = round(CI_left,4),round(CI_right,4)\n",
    "    df_concat.loc[df_concat['type']=='experiment',f'not_outlier_{m}'] = df_concat.loc[df_concat['type']=='control',m].apply(lambda x:(CI_left<=x<=CI_right))\n",
    "\n",
    "evaluation_analytical_CI\n"
   ]
  },
  {
   "cell_type": "code",
   "execution_count": 217,
   "metadata": {},
   "outputs": [
    {
     "data": {
      "text/html": [
       "\n",
       "\n",
       "\n",
       "\n",
       "\n",
       "\n",
       "  <div class=\"bk-root\" id=\"720455f6-d8e2-41c2-bd9b-bf62e86b789d\" data-root-id=\"15262\"></div>\n"
      ]
     },
     "metadata": {},
     "output_type": "display_data"
    },
    {
     "data": {
      "application/javascript": [
       "(function(root) {\n",
       "  function embed_document(root) {\n",
       "    \n",
       "  var docs_json = {\"ef5a266f-da38-4795-8027-22fbbd107954\":{\"roots\":{\"references\":[{\"attributes\":{\"below\":[{\"id\":\"15271\"}],\"center\":[{\"id\":\"15274\"},{\"id\":\"15278\"},{\"id\":\"15309\"}],\"left\":[{\"id\":\"15275\"}],\"plot_height\":400,\"plot_width\":900,\"renderers\":[{\"id\":\"15287\"},{\"id\":\"15316\"},{\"id\":\"15346\"},{\"id\":\"15378\"},{\"id\":\"15412\"},{\"id\":\"15448\"},{\"id\":\"15485\"},{\"id\":\"15491\"},{\"id\":\"15497\"},{\"id\":\"15503\"},{\"id\":\"15509\"}],\"title\":{\"id\":\"15290\"},\"toolbar\":{\"id\":\"15280\"},\"x_range\":{\"id\":\"15263\"},\"x_scale\":{\"id\":\"15267\"},\"y_range\":{\"id\":\"15265\"},\"y_scale\":{\"id\":\"15269\"}},\"id\":\"15262\",\"subtype\":\"Figure\",\"type\":\"Plot\"},{\"attributes\":{},\"id\":\"16186\",\"type\":\"UnionRenderers\"},{\"attributes\":{\"label\":{\"value\":\"gross_conversion,experiment\"},\"renderers\":[{\"id\":\"15316\"}]},\"id\":\"15340\",\"type\":\"LegendItem\"},{\"attributes\":{\"axis\":{\"id\":\"15275\"},\"dimension\":1,\"ticker\":null},\"id\":\"15278\",\"type\":\"Grid\"},{\"attributes\":{\"data_source\":{\"id\":\"15341\"},\"glyph\":{\"id\":\"15343\"},\"hover_glyph\":null,\"muted_glyph\":{\"id\":\"15345\"},\"nonselection_glyph\":{\"id\":\"15344\"},\"selection_glyph\":null,\"view\":{\"id\":\"15347\"}},\"id\":\"15346\",\"type\":\"GlyphRenderer\"},{\"attributes\":{\"data\":{\"CTP\":{\"__ndarray__\":\"u/JDAI7Ctj++EpP98qK1P32vUWEJmLU/xX7+7eF0tT8hYzCF2b+1P/5dqOoJPLU/Gb9d6sn4tT/hBatAWce1P1pT+3QBKLU/+hicj8H5tD/MD7M0nPa0P49OtAY5D7U/oUGDBg0atD+MsE4XZPqyP0PMt3CDwbM/BTP2k+P5sz9JDU2KYHG0P5cavIqDDbQ/fJOMFxoYtD/O0Np9uAW0PytNV6xfNbU/ED744IMPtT8dwlWc2/m0P7rEmGHwlLU/o2PJ2EsttD+lkjLxDHm1P9hZSW54nbU/JMQ4yUcttT/uRElxR7G1P32Zij6fcLY/ckINb4HbtD88kTpg4Wu1PxIBJx8BcrQ/C6dBG93UtT/A65MgxC+1P981iDnvYbU/gdXi//Y4tD8=\",\"dtype\":\"float64\",\"order\":\"little\",\"shape\":[37]},\"Clicks\":[686,785,884,827,832,788,780,652,697,860,864,801,642,697,669,693,771,736,727,728,722,695,724,789,743,808,831,767,760,850,851,831,802,829,770,724,710],\"Enrollments\":{\"__ndarray__\":\"AAAAAABAWkAAAAAAAABdQAAAAAAAIGJAAAAAAABAYUAAAAAAAIBhQAAAAAAAIGBAAAAAAADAX0AAAAAAAIBXQAAAAAAAAF5AAAAAAAAgY0AAAAAAAOBhQAAAAAAAAGBAAAAAAACAXkAAAAAAAEBoQAAAAAAAwF9AAAAAAAAgY0AAAAAAAKBqQAAAAAAAQGRAAAAAAAAgaUAAAAAAAOBpQAAAAAAAwGZAAAAAAADAYUAAAAAAAMBmQAAAAAAAAPh/AAAAAAAA+H8AAAAAAAD4fwAAAAAAAPh/AAAAAAAA+H8AAAAAAAD4fwAAAAAAAPh/AAAAAAAA+H8AAAAAAAD4fwAAAAAAAPh/AAAAAAAA+H8AAAAAAAD4fwAAAAAAAPh/AAAAAAAA+H8=\",\"dtype\":\"float64\",\"order\":\"little\",\"shape\":[37]},\"Pageviews\":[7716,9288,10480,9867,9793,9500,9088,7664,8434,10496,10551,9737,8176,9402,8669,8881,9655,9396,9262,9308,8715,8448,8836,9359,9427,9633,9842,9272,8969,9697,10445,9931,10042,9721,9304,8668,8988],\"Payments\":{\"__ndarray__\":\"AAAAAAAAQUAAAAAAAMBWQAAAAAAAwFNAAAAAAAAAV0AAAAAAAIBXQAAAAAAAgE5AAAAAAAAARkAAAAAAAABPQAAAAAAAQFNAAAAAAACAWEAAAAAAAMBRQAAAAAAAgFFAAAAAAAAAUUAAAAAAAIBXQAAAAAAAQFRAAAAAAABAWUAAAAAAAMBdQAAAAAAAAF5AAAAAAAAAWEAAAAAAAMBQQAAAAAAAwF5AAAAAAAAAWUAAAAAAAMBZQAAAAAAAAPh/AAAAAAAA+H8AAAAAAAD4fwAAAAAAAPh/AAAAAAAA+H8AAAAAAAD4fwAAAAAAAPh/AAAAAAAA+H8AAAAAAAD4fwAAAAAAAPh/AAAAAAAA+H8AAAAAAAD4fwAAAAAAAPh/AAAAAAAA+H8=\",\"dtype\":\"float64\",\"order\":\"little\",\"shape\":[37]},\"date\":{\"__ndarray__\":\"AACAE8iPdEIAAEB5GpB0QgAAAN9skHRCAADARL+QdEIAAICqEZF0QgAAQBBkkXRCAAAAdraRdEIAAMDbCJJ0QgAAgEFbknRCAABAp62SdEIAAAANAJN0QgAAwHJSk3RCAACA2KSTdEIAAEA+95N0QgAAAKRJlHRCAADACZyUdEIAAIBv7pR0QgAAQNVAlXRCAAAAO5OVdEIAAMCg5ZV0QgAAgAY4lnRCAABAbIqWdEIAAADS3JZ0QgAAwDcvl3RCAACAnYGXdEIAAEAD1Jd0QgAAAGkmmHRCAADAzniYdEIAAIA0y5h0QgAAQJodmXRCAAAAAHCZdEIAAMBlwpl0QgAAgMsUmnRCAABAMWeadEIAAACXuZp0QgAAwPwLm3RCAACAYl6bdEI=\",\"dtype\":\"float64\",\"order\":\"little\",\"shape\":[37]},\"day_of_week\":[\"Sat\",\"Sun\",\"Mon\",\"Tue\",\"Wed\",\"Thu\",\"Fri\",\"Sat\",\"Sun\",\"Mon\",\"Tue\",\"Wed\",\"Thu\",\"Fri\",\"Sat\",\"Sun\",\"Mon\",\"Tue\",\"Wed\",\"Thu\",\"Fri\",\"Sat\",\"Sun\",\"Mon\",\"Tue\",\"Wed\",\"Thu\",\"Fri\",\"Sat\",\"Sun\",\"Mon\",\"Tue\",\"Wed\",\"Thu\",\"Fri\",\"Sat\",\"Sun\"],\"gross_conversion\":{\"__ndarray__\":\"5hS8nIKXwz9hdkV7JurCP3XX/nTX/sQ/3lw85+9bxT+e2Imd2InFP836M/hN9MQ/dU3XdE3XxD8WZjWKOHTCPwoW5KuMCcY/flps46fFxj/3EtpLaC/FP/KrJqdVdMQ/8w/s2PBSyD/QkYukQNDRP7oXKjqITMg/+QlxVn5CzD9SrlGuUa7RP0MWspCFLMw/ouygodOx0T8qozIqozLSP6f0j+0JItA/1EAwawsnyj9zU9E8oRbQPwAAAAAAAPh/AAAAAAAA+H8AAAAAAAD4fwAAAAAAAPh/AAAAAAAA+H8AAAAAAAD4fwAAAAAAAPh/AAAAAAAA+H8AAAAAAAD4fwAAAAAAAPh/AAAAAAAA+H8AAAAAAAD4fwAAAAAAAPh/AAAAAAAA+H8=\",\"dtype\":\"float64\",\"order\":\"little\",\"shape\":[37]},\"index\":[0,1,2,3,4,5,6,7,8,9,10,11,12,13,14,15,16,17,18,19,20,21,22,23,24,25,26,27,28,29,30,31,32,33,34,35,36],\"net_conversion\":{\"__ndarray__\":\"D/RvpkdgqT9StZS4Kq29P1e54Fa54LY/0ntQNJV6vD/FTuzETuy8PzXrz+A30bM/Hc7hHM7hrD8YW4Jv81e4P0gcyw/9R7w/5cDSSQ4svT+Y0F5Cewm1PxFM0q49X7Y/D61n/oEduz9DEdm5NkPBP/f32B3a/r4/2J5KHranwj+UwZPBk8HDP05vetOb3sQ/i6zapf/mwD/4eI/3eI+3Pze7ODBczsU/oBvz9NFqwj8wJnHwvjXCPwAAAAAAAPh/AAAAAAAA+H8AAAAAAAD4fwAAAAAAAPh/AAAAAAAA+H8AAAAAAAD4fwAAAAAAAPh/AAAAAAAA+H8AAAAAAAD4fwAAAAAAAPh/AAAAAAAA+H8AAAAAAAD4fwAAAAAAAPh/AAAAAAAA+H8=\",\"dtype\":\"float64\",\"order\":\"little\",\"shape\":[37]},\"not_outlier_gross_conversion\":[true,false,false,false,true,false,true,false,false,false,false,true,false,false,false,false,false,false,false,false,false,false,false,false,false,false,false,false,false,false,false,false,false,false,false,false,false],\"not_outlier_net_conversion\":[false,false,false,false,false,false,false,true,false,true,false,true,false,false,false,false,false,false,true,false,false,false,false,false,false,false,false,false,false,false,false,false,false,false,false,false,false],\"not_outlier_retention\":[\"NaN\",\"NaN\",\"NaN\",\"NaN\",\"NaN\",\"NaN\",\"NaN\",\"NaN\",\"NaN\",\"NaN\",\"NaN\",\"NaN\",\"NaN\",\"NaN\",\"NaN\",\"NaN\",\"NaN\",\"NaN\",\"NaN\",\"NaN\",\"NaN\",\"NaN\",\"NaN\",\"NaN\",\"NaN\",\"NaN\",\"NaN\",\"NaN\",\"NaN\",\"NaN\",\"NaN\",\"NaN\",\"NaN\",\"NaN\",\"NaN\",\"NaN\",\"NaN\"],\"retention\":{\"__ndarray__\":\"lUu5lEu51D+5pxGWexrpP6TzFkM6b+E/VVVVVVVV5T/FV3zFV3zlP5E35A15Q94/i8VisVgs1j/UdzbqOxvlP4mIiIiIiOQ/1Cl/1Cl/5D89QvWZtsbfPwAAAAAAgOE/3qe4ZAjW4T9fXP2gowLfPxqNRqPRaOQ/dcofdcof5T9tketMwODhP0J7Ce0ltOc/Z7fwqzGR3j/2dzGoCLfUPwZaoAVaoOU/INEKmwOJ5j/CIRzCIRziPwAAAAAAAPh/AAAAAAAA+H8AAAAAAAD4fwAAAAAAAPh/AAAAAAAA+H8AAAAAAAD4fwAAAAAAAPh/AAAAAAAA+H8AAAAAAAD4fwAAAAAAAPh/AAAAAAAA+H8AAAAAAAD4fwAAAAAAAPh/AAAAAAAA+H8=\",\"dtype\":\"float64\",\"order\":\"little\",\"shape\":[37]},\"type\":[\"experiment\",\"experiment\",\"experiment\",\"experiment\",\"experiment\",\"experiment\",\"experiment\",\"experiment\",\"experiment\",\"experiment\",\"experiment\",\"experiment\",\"experiment\",\"experiment\",\"experiment\",\"experiment\",\"experiment\",\"experiment\",\"experiment\",\"experiment\",\"experiment\",\"experiment\",\"experiment\",\"experiment\",\"experiment\",\"experiment\",\"experiment\",\"experiment\",\"experiment\",\"experiment\",\"experiment\",\"experiment\",\"experiment\",\"experiment\",\"experiment\",\"experiment\",\"experiment\"]},\"selected\":{\"id\":\"15392\"},\"selection_policy\":{\"id\":\"15393\"}},\"id\":\"15373\",\"type\":\"ColumnDataSource\"},{\"attributes\":{\"data\":{\"CTP\":{\"__ndarray__\":\"4vBXacLFtj+PXhnb7+i1P5Oy5I6bI7Y/qPNj7miutT8RNwXGsWW1PzXKpxWtybU/UGucuO5BtT8As0Wch8O1Pzkm052D6bQ/vBTgldGptD9It6zqLdK0P18RJ9YtkbU/uIWh/6JztD+AsmM/MEOyPxuRfFMBXbQ/kFaTEMVftD/rKPQGw2C0P7624gSSSLQ/r/z4/4AbtD/ikdfVi1S0P4aQ8mRqm7Q/FFAt2e4TtD+j0PkzVGC1PwX1BkCBObU/d/8pn7GItT9euNdYzWq1P1LPL9oyN7U/B80oAup6tT/crLdSVt+1PwHmVUiAebU/GVjt/Y2BtT8CFNx0BTy0P2XRpFD/cbU/Uvt4NVB4tD/APAC0Ugq2PzZ2FegGm7Q/\",\"dtype\":\"float64\",\"order\":\"little\",\"shape\":[36]},\"Clicks\":[687,779,909,836,837,823,748,632,691,861,867,838,665,673,691,708,759,739,734,706,681,693,788,781,805,830,781,756,825,874,830,801,814,735,743,722],\"Enrollments\":{\"__ndarray__\":\"AAAAAADAYEAAAAAAAGBiQAAAAAAA4GRAAAAAAACAY0AAAAAAAGBkQAAAAAAAQGFAAAAAAABAYkAAAAAAAIBbQAAAAAAAYGBAAAAAAACgZEAAAAAAAIBoQAAAAAAAQGRAAAAAAADAX0AAAAAAAIBrQAAAAAAAAGZAAAAAAAAgZEAAAAAAACBtQAAAAAAAgGhAAAAAAADgZEAAAAAAAMBlQAAAAAAAgGNAAAAAAADAaUAAAAAAAAD4fwAAAAAAAPh/AAAAAAAA+H8AAAAAAAD4fwAAAAAAAPh/AAAAAAAA+H8AAAAAAAD4fwAAAAAAAPh/AAAAAAAA+H8AAAAAAAD4fwAAAAAAAPh/AAAAAAAA+H8AAAAAAAD4fwAAAAAAAPh/\",\"dtype\":\"float64\",\"order\":\"little\",\"shape\":[36]},\"Pageviews\":[7723,9102,10511,9871,10014,9670,9008,7434,8459,10667,10660,9947,8324,9434,8687,8896,9535,9327,9345,8890,8460,8836,9437,9420,9570,9921,9424,9010,9656,10419,9880,10134,9717,9192,8630,8970],\"Payments\":{\"__ndarray__\":\"AAAAAACAUUAAAAAAAIBRQAAAAAAAwFdAAAAAAABAWkAAAAAAAABQQAAAAAAAgFRAAAAAAAAAU0AAAAAAAIBRQAAAAAAAAE5AAAAAAABAWEAAAAAAAEBaQAAAAAAAAFdAAAAAAAAATEAAAAAAAIBeQAAAAAAAAGBAAAAAAAAAWkAAAAAAAABfQAAAAAAAgFVAAAAAAADAUkAAAAAAAEBZQAAAAAAAQFdAAAAAAADAUEAAAAAAAAD4fwAAAAAAAPh/AAAAAAAA+H8AAAAAAAD4fwAAAAAAAPh/AAAAAAAA+H8AAAAAAAD4fwAAAAAAAPh/AAAAAAAA+H8AAAAAAAD4fwAAAAAAAPh/AAAAAAAA+H8AAAAAAAD4fwAAAAAAAPh/\",\"dtype\":\"float64\",\"order\":\"little\",\"shape\":[36]},\"date\":{\"__ndarray__\":\"AACAE8iPdEIAAEB5GpB0QgAAAN9skHRCAADARL+QdEIAAICqEZF0QgAAQBBkkXRCAAAAdraRdEIAAMDbCJJ0QgAAgEFbknRCAABAp62SdEIAAAANAJN0QgAAwHJSk3RCAACA2KSTdEIAAEA+95N0QgAAAKRJlHRCAADACZyUdEIAAIBv7pR0QgAAADuTlXRCAADAoOWVdEIAAIAGOJZ0QgAAQGyKlnRCAAAA0tyWdEIAAMA3L5d0QgAAgJ2Bl3RCAABAA9SXdEIAAABpJph0QgAAwM54mHRCAACANMuYdEIAAECaHZl0QgAAAABwmXRCAADAZcKZdEIAAIDLFJp0QgAAQDFnmnRCAAAAl7madEIAAMD8C5t0QgAAgGJem3RC\",\"dtype\":\"float64\",\"order\":\"little\",\"shape\":[36]},\"day_of_week\":[\"Sat\",\"Sun\",\"Mon\",\"Tue\",\"Wed\",\"Thu\",\"Fri\",\"Sat\",\"Sun\",\"Mon\",\"Tue\",\"Wed\",\"Thu\",\"Fri\",\"Sat\",\"Sun\",\"Mon\",\"Wed\",\"Thu\",\"Fri\",\"Sat\",\"Sun\",\"Mon\",\"Tue\",\"Wed\",\"Thu\",\"Fri\",\"Sat\",\"Sun\",\"Mon\",\"Tue\",\"Wed\",\"Thu\",\"Fri\",\"Sat\",\"Sun\"],\"gross_conversion\":{\"__ndarray__\":\"zUZe7W33yD+8b4RnbyfIP3eHW2cVhMc/Qdu9VZrixz+0CrnHV+3IPxAbH0SDdsU//FjNnuT7yD+P7BmISkfGP3+us/kqRMg/0Sow9pSHyD8OO2iVwu/MP9MijROgvsg/H4dJ6fJxyD8VKRTr1uvUP/NViDAPTdA/KCQX8HobzT/dECJ9m6XTP2AkvQpr+dA/YVvTv2MfzT8HtiVM94vPP2CZKHRTUs0/HxlMqkcG0z8AAAAAAAD4fwAAAAAAAPh/AAAAAAAA+H8AAAAAAAD4fwAAAAAAAPh/AAAAAAAA+H8AAAAAAAD4fwAAAAAAAPh/AAAAAAAA+H8AAAAAAAD4fwAAAAAAAPh/AAAAAAAA+H8AAAAAAAD4fwAAAAAAAPh/\",\"dtype\":\"float64\",\"order\":\"little\",\"shape\":[36]},\"index\":[0,1,2,3,4,5,6,7,8,9,10,11,12,13,14,15,16,18,19,20,21,22,23,24,25,26,27,28,29,30,31,32,33,34,35,36],\"net_conversion\":{\"__ndarray__\":\"VEIS4ZwVuj/LgpZi/AC3P/I0VGkywbo/fxgsHJkTwD8h9/iqHZOzP5ia6fe1gbk/Axp367wCuj+1uAnzu1q8P8CjohOJOrY/s9OYFkTXvD9qiKbE4gC/P0ys4g/iGrw/7ViBMNKOtT8X48voHDTHPzM3aYzntcc/+ZRp52DNwj83hEjfZunEP46tufimyr0/d3shMHUouj/bEqb7xU/CP9KCBNTsesE/XwBjpBfAuD8AAAAAAAD4fwAAAAAAAPh/AAAAAAAA+H8AAAAAAAD4fwAAAAAAAPh/AAAAAAAA+H8AAAAAAAD4fwAAAAAAAPh/AAAAAAAA+H8AAAAAAAD4fwAAAAAAAPh/AAAAAAAA+H8AAAAAAAD4fwAAAAAAAPh/\",\"dtype\":\"float64\",\"order\":\"little\",\"shape\":[36]},\"not_outlier_gross_conversion\":[false,false,false,false,false,false,false,false,false,false,false,false,false,false,false,false,false,false,false,false,false,false,false,false,false,false,false,false,false,false,false,false,false,false,false,false],\"not_outlier_net_conversion\":[false,false,false,false,false,false,false,true,false,true,false,true,false,false,false,false,false,false,false,false,false,false,false,false,false,false,false,false,false,false,false,false,false,false,false,false],\"not_outlier_retention\":[true,false,false,false,false,false,true,false,false,false,true,false,false,false,false,false,true,false,false,false,false,false,false,false,false,false,false,false,false,false,false,false,false,false,false,false],\"retention\":{\"__ndarray__\":\"TKQHKme34D+e53me53neP9dsn6geNOI/ntiJndiJ5T8p4tBJ+yDZPzDXDsy1A+M/hQoVKlSo4D9ddNFFF13kP0qeZUQfUN0/0HL+LOfP4j9JkiRJkiThPxl4ujU/LOI/DofD4XA43D+/Ye0b1r7hP0YXXXTRRec/3VWKCbqr5D+HPYjksAfhPwUvp+DlFNw/ljIJdhW+3D8GMileIJPiPzuxEzuxE+M/72C/1cbQ1D8AAAAAAAD4fwAAAAAAAPh/AAAAAAAA+H8AAAAAAAD4fwAAAAAAAPh/AAAAAAAA+H8AAAAAAAD4fwAAAAAAAPh/AAAAAAAA+H8AAAAAAAD4fwAAAAAAAPh/AAAAAAAA+H8AAAAAAAD4fwAAAAAAAPh/\",\"dtype\":\"float64\",\"order\":\"little\",\"shape\":[36]},\"type\":[\"control\",\"control\",\"control\",\"control\",\"control\",\"control\",\"control\",\"control\",\"control\",\"control\",\"control\",\"control\",\"control\",\"control\",\"control\",\"control\",\"control\",\"control\",\"control\",\"control\",\"control\",\"control\",\"control\",\"control\",\"control\",\"control\",\"control\",\"control\",\"control\",\"control\",\"control\",\"control\",\"control\",\"control\",\"control\",\"control\"]},\"selected\":{\"id\":\"16181\"},\"selection_policy\":{\"id\":\"16182\"}},\"id\":\"15481\",\"type\":\"ColumnDataSource\"},{\"attributes\":{},\"id\":\"16187\",\"type\":\"Selection\"},{\"attributes\":{},\"id\":\"16188\",\"type\":\"UnionRenderers\"},{\"attributes\":{\"text\":\"\"},\"id\":\"15290\",\"type\":\"Title\"},{\"attributes\":{\"formatter\":{\"id\":\"15293\"},\"ticker\":{\"id\":\"15276\"}},\"id\":\"15275\",\"type\":\"LinearAxis\"},{\"attributes\":{\"callback\":null},\"id\":\"15279\",\"type\":\"HoverTool\"},{\"attributes\":{\"line_alpha\":0.8,\"line_color\":\"#ff7f0e\",\"line_width\":2,\"x\":{\"field\":\"date\"},\"y\":{\"field\":\"retention\"}},\"id\":\"15343\",\"type\":\"Line\"},{\"attributes\":{},\"id\":\"16189\",\"type\":\"Selection\"},{\"attributes\":{},\"id\":\"16190\",\"type\":\"UnionRenderers\"},{\"attributes\":{},\"id\":\"15263\",\"type\":\"DataRange1d\"},{\"attributes\":{},\"id\":\"15267\",\"type\":\"LinearScale\"},{\"attributes\":{\"data\":{\"CTP\":{\"__ndarray__\":\"4vBXacLFtj+PXhnb7+i1P5Oy5I6bI7Y/qPNj7miutT8RNwXGsWW1PzXKpxWtybU/UGucuO5BtT8As0Wch8O1Pzkm052D6bQ/vBTgldGptD9It6zqLdK0P18RJ9YtkbU/uIWh/6JztD+AsmM/MEOyPxuRfFMBXbQ/kFaTEMVftD/rKPQGw2C0Py0W92GbH7Q/vrbiBJJItD+v/Pj/gBu0P+KR19WLVLQ/hpDyZGqbtD8UUC3Z7hO0P6PQ+TNUYLU/BfUGQIE5tT93/ymfsYi1P16411jNarU/Us8v2jI3tT8HzSgC6nq1P9yst1JW37U/AeZVSIB5tT8ZWO39jYG1PwIU3HQFPLQ/ZdGkUP9xtT9S+3g1UHi0P8A8ALRSCrY/NnYV6AabtD8=\",\"dtype\":\"float64\",\"order\":\"little\",\"shape\":[37]},\"Clicks\":[687,779,909,836,837,823,748,632,691,861,867,838,665,673,691,708,759,736,739,734,706,681,693,788,781,805,830,781,756,825,874,830,801,814,735,743,722],\"Enrollments\":{\"__ndarray__\":\"AAAAAADAYEAAAAAAAGBiQAAAAAAA4GRAAAAAAACAY0AAAAAAAGBkQAAAAAAAQGFAAAAAAABAYkAAAAAAAIBbQAAAAAAAYGBAAAAAAACgZEAAAAAAAIBoQAAAAAAAQGRAAAAAAADAX0AAAAAAAIBrQAAAAAAAAGZAAAAAAAAgZEAAAAAAACBtQAAAAAAAQGNAAAAAAACAaEAAAAAAAOBkQAAAAAAAwGVAAAAAAACAY0AAAAAAAMBpQAAAAAAAAPh/AAAAAAAA+H8AAAAAAAD4fwAAAAAAAPh/AAAAAAAA+H8AAAAAAAD4fwAAAAAAAPh/AAAAAAAA+H8AAAAAAAD4fwAAAAAAAPh/AAAAAAAA+H8AAAAAAAD4fwAAAAAAAPh/AAAAAAAA+H8=\",\"dtype\":\"float64\",\"order\":\"little\",\"shape\":[37]},\"Pageviews\":[7723,9102,10511,9871,10014,9670,9008,7434,8459,10667,10660,9947,8324,9434,8687,8896,9535,9363,9327,9345,8890,8460,8836,9437,9420,9570,9921,9424,9010,9656,10419,9880,10134,9717,9192,8630,8970],\"Payments\":{\"__ndarray__\":\"AAAAAACAUUAAAAAAAIBRQAAAAAAAwFdAAAAAAABAWkAAAAAAAABQQAAAAAAAgFRAAAAAAAAAU0AAAAAAAIBRQAAAAAAAAE5AAAAAAABAWEAAAAAAAEBaQAAAAAAAAFdAAAAAAAAATEAAAAAAAIBeQAAAAAAAAGBAAAAAAAAAWkAAAAAAAABfQAAAAAAAwFZAAAAAAACAVUAAAAAAAMBSQAAAAAAAQFlAAAAAAABAV0AAAAAAAMBQQAAAAAAAAPh/AAAAAAAA+H8AAAAAAAD4fwAAAAAAAPh/AAAAAAAA+H8AAAAAAAD4fwAAAAAAAPh/AAAAAAAA+H8AAAAAAAD4fwAAAAAAAPh/AAAAAAAA+H8AAAAAAAD4fwAAAAAAAPh/AAAAAAAA+H8=\",\"dtype\":\"float64\",\"order\":\"little\",\"shape\":[37]},\"date\":{\"__ndarray__\":\"AACAE8iPdEIAAEB5GpB0QgAAAN9skHRCAADARL+QdEIAAICqEZF0QgAAQBBkkXRCAAAAdraRdEIAAMDbCJJ0QgAAgEFbknRCAABAp62SdEIAAAANAJN0QgAAwHJSk3RCAACA2KSTdEIAAEA+95N0QgAAAKRJlHRCAADACZyUdEIAAIBv7pR0QgAAQNVAlXRCAAAAO5OVdEIAAMCg5ZV0QgAAgAY4lnRCAABAbIqWdEIAAADS3JZ0QgAAwDcvl3RCAACAnYGXdEIAAEAD1Jd0QgAAAGkmmHRCAADAzniYdEIAAIA0y5h0QgAAQJodmXRCAAAAAHCZdEIAAMBlwpl0QgAAgMsUmnRCAABAMWeadEIAAACXuZp0QgAAwPwLm3RCAACAYl6bdEI=\",\"dtype\":\"float64\",\"order\":\"little\",\"shape\":[37]},\"day_of_week\":[\"Sat\",\"Sun\",\"Mon\",\"Tue\",\"Wed\",\"Thu\",\"Fri\",\"Sat\",\"Sun\",\"Mon\",\"Tue\",\"Wed\",\"Thu\",\"Fri\",\"Sat\",\"Sun\",\"Mon\",\"Tue\",\"Wed\",\"Thu\",\"Fri\",\"Sat\",\"Sun\",\"Mon\",\"Tue\",\"Wed\",\"Thu\",\"Fri\",\"Sat\",\"Sun\",\"Mon\",\"Tue\",\"Wed\",\"Thu\",\"Fri\",\"Sat\",\"Sun\"],\"gross_conversion\":{\"__ndarray__\":\"zUZe7W33yD+8b4RnbyfIP3eHW2cVhMc/Qdu9VZrixz+0CrnHV+3IPxAbH0SDdsU//FjNnuT7yD+P7BmISkfGP3+us/kqRMg/0Sow9pSHyD8OO2iVwu/MP9MijROgvsg/H4dJ6fJxyD8VKRTr1uvUP/NViDAPTdA/KCQX8HobzT/dECJ9m6XTPy1kIQtZyMo/YCS9Cmv50D9hW9O/Yx/NPwe2JUz3i88/YJkodFNSzT8fGUyqRwbTPwAAAAAAAPh/AAAAAAAA+H8AAAAAAAD4fwAAAAAAAPh/AAAAAAAA+H8AAAAAAAD4fwAAAAAAAPh/AAAAAAAA+H8AAAAAAAD4fwAAAAAAAPh/AAAAAAAA+H8AAAAAAAD4fwAAAAAAAPh/AAAAAAAA+H8=\",\"dtype\":\"float64\",\"order\":\"little\",\"shape\":[37]},\"index\":[0,1,2,3,4,5,6,7,8,9,10,11,12,13,14,15,16,17,18,19,20,21,22,23,24,25,26,27,28,29,30,31,32,33,34,35,36],\"net_conversion\":{\"__ndarray__\":\"VEIS4ZwVuj/LgpZi/AC3P/I0VGkywbo/fxgsHJkTwD8h9/iqHZOzP5ia6fe1gbk/Axp367wCuj+1uAnzu1q8P8CjohOJOrY/s9OYFkTXvD9qiKbE4gC/P0ys4g/iGrw/7ViBMNKOtT8X48voHDTHPzM3aYzntcc/+ZRp52DNwj83hEjfZunEP3rTm970pr8/jq25+KbKvT93eyEwdSi6P9sSpvvFT8I/0oIE1Ox6wT9fAGOkF8C4PwAAAAAAAPh/AAAAAAAA+H8AAAAAAAD4fwAAAAAAAPh/AAAAAAAA+H8AAAAAAAD4fwAAAAAAAPh/AAAAAAAA+H8AAAAAAAD4fwAAAAAAAPh/AAAAAAAA+H8AAAAAAAD4fwAAAAAAAPh/AAAAAAAA+H8=\",\"dtype\":\"float64\",\"order\":\"little\",\"shape\":[37]},\"not_outlier_gross_conversion\":[false,false,false,false,false,false,false,false,false,false,false,false,false,false,false,false,false,true,false,false,false,false,false,false,false,false,false,false,false,false,false,false,false,false,false,false,false],\"not_outlier_net_conversion\":[false,false,false,false,false,false,false,true,false,true,false,true,false,false,false,false,false,false,false,false,false,false,false,false,false,false,false,false,false,false,false,false,false,false,false,false,false],\"not_outlier_retention\":[true,false,false,false,false,false,true,false,false,false,true,false,false,false,false,false,true,false,false,false,false,false,false,false,false,false,false,false,false,false,false,false,false,false,false,false,false],\"retention\":{\"__ndarray__\":\"TKQHKme34D+e53me53neP9dsn6geNOI/ntiJndiJ5T8p4tBJ+yDZPzDXDsy1A+M/hQoVKlSo4D9ddNFFF13kP0qeZUQfUN0/0HL+LOfP4j9JkiRJkiThPxl4ujU/LOI/DofD4XA43D+/Ye0b1r7hP0YXXXTRRec/3VWKCbqr5D+HPYjksAfhP+miiy666OI/BS+n4OUU3D+WMgl2Fb7cPwYyKV4gk+I/O7ETO7ET4z/vYL/VxtDUPwAAAAAAAPh/AAAAAAAA+H8AAAAAAAD4fwAAAAAAAPh/AAAAAAAA+H8AAAAAAAD4fwAAAAAAAPh/AAAAAAAA+H8AAAAAAAD4fwAAAAAAAPh/AAAAAAAA+H8AAAAAAAD4fwAAAAAAAPh/AAAAAAAA+H8=\",\"dtype\":\"float64\",\"order\":\"little\",\"shape\":[37]},\"type\":[\"control\",\"control\",\"control\",\"control\",\"control\",\"control\",\"control\",\"control\",\"control\",\"control\",\"control\",\"control\",\"control\",\"control\",\"control\",\"control\",\"control\",\"control\",\"control\",\"control\",\"control\",\"control\",\"control\",\"control\",\"control\",\"control\",\"control\",\"control\",\"control\",\"control\",\"control\",\"control\",\"control\",\"control\",\"control\",\"control\",\"control\"]},\"selected\":{\"id\":\"15295\"},\"selection_policy\":{\"id\":\"15296\"}},\"id\":\"15282\",\"type\":\"ColumnDataSource\"},{\"attributes\":{\"formatter\":{\"id\":\"15291\"},\"ticker\":{\"id\":\"15272\"}},\"id\":\"15271\",\"type\":\"DatetimeAxis\"},{\"attributes\":{\"data\":{\"CTP\":{\"__ndarray__\":\"u/JDAI7Ctj++EpP98qK1P32vUWEJmLU/xX7+7eF0tT8hYzCF2b+1P/5dqOoJPLU/Gb9d6sn4tT/hBatAWce1P1pT+3QBKLU/+hicj8H5tD/MD7M0nPa0P49OtAY5D7U/oUGDBg0atD+MsE4XZPqyP0PMt3CDwbM/BTP2k+P5sz9JDU2KYHG0P5cavIqDDbQ/fJOMFxoYtD/O0Np9uAW0PytNV6xfNbU/ED744IMPtT8dwlWc2/m0P7rEmGHwlLU/o2PJ2EsttD+lkjLxDHm1P9hZSW54nbU/JMQ4yUcttT/uRElxR7G1P32Zij6fcLY/ckINb4HbtD88kTpg4Wu1PxIBJx8BcrQ/C6dBG93UtT/A65MgxC+1P981iDnvYbU/gdXi//Y4tD8=\",\"dtype\":\"float64\",\"order\":\"little\",\"shape\":[37]},\"Clicks\":[686,785,884,827,832,788,780,652,697,860,864,801,642,697,669,693,771,736,727,728,722,695,724,789,743,808,831,767,760,850,851,831,802,829,770,724,710],\"Enrollments\":{\"__ndarray__\":\"AAAAAABAWkAAAAAAAABdQAAAAAAAIGJAAAAAAABAYUAAAAAAAIBhQAAAAAAAIGBAAAAAAADAX0AAAAAAAIBXQAAAAAAAAF5AAAAAAAAgY0AAAAAAAOBhQAAAAAAAAGBAAAAAAACAXkAAAAAAAEBoQAAAAAAAwF9AAAAAAAAgY0AAAAAAAKBqQAAAAAAAQGRAAAAAAAAgaUAAAAAAAOBpQAAAAAAAwGZAAAAAAADAYUAAAAAAAMBmQAAAAAAAAPh/AAAAAAAA+H8AAAAAAAD4fwAAAAAAAPh/AAAAAAAA+H8AAAAAAAD4fwAAAAAAAPh/AAAAAAAA+H8AAAAAAAD4fwAAAAAAAPh/AAAAAAAA+H8AAAAAAAD4fwAAAAAAAPh/AAAAAAAA+H8=\",\"dtype\":\"float64\",\"order\":\"little\",\"shape\":[37]},\"Pageviews\":[7716,9288,10480,9867,9793,9500,9088,7664,8434,10496,10551,9737,8176,9402,8669,8881,9655,9396,9262,9308,8715,8448,8836,9359,9427,9633,9842,9272,8969,9697,10445,9931,10042,9721,9304,8668,8988],\"Payments\":{\"__ndarray__\":\"AAAAAAAAQUAAAAAAAMBWQAAAAAAAwFNAAAAAAAAAV0AAAAAAAIBXQAAAAAAAgE5AAAAAAAAARkAAAAAAAABPQAAAAAAAQFNAAAAAAACAWEAAAAAAAMBRQAAAAAAAgFFAAAAAAAAAUUAAAAAAAIBXQAAAAAAAQFRAAAAAAABAWUAAAAAAAMBdQAAAAAAAAF5AAAAAAAAAWEAAAAAAAMBQQAAAAAAAwF5AAAAAAAAAWUAAAAAAAMBZQAAAAAAAAPh/AAAAAAAA+H8AAAAAAAD4fwAAAAAAAPh/AAAAAAAA+H8AAAAAAAD4fwAAAAAAAPh/AAAAAAAA+H8AAAAAAAD4fwAAAAAAAPh/AAAAAAAA+H8AAAAAAAD4fwAAAAAAAPh/AAAAAAAA+H8=\",\"dtype\":\"float64\",\"order\":\"little\",\"shape\":[37]},\"date\":{\"__ndarray__\":\"AACAE8iPdEIAAEB5GpB0QgAAAN9skHRCAADARL+QdEIAAICqEZF0QgAAQBBkkXRCAAAAdraRdEIAAMDbCJJ0QgAAgEFbknRCAABAp62SdEIAAAANAJN0QgAAwHJSk3RCAACA2KSTdEIAAEA+95N0QgAAAKRJlHRCAADACZyUdEIAAIBv7pR0QgAAQNVAlXRCAAAAO5OVdEIAAMCg5ZV0QgAAgAY4lnRCAABAbIqWdEIAAADS3JZ0QgAAwDcvl3RCAACAnYGXdEIAAEAD1Jd0QgAAAGkmmHRCAADAzniYdEIAAIA0y5h0QgAAQJodmXRCAAAAAHCZdEIAAMBlwpl0QgAAgMsUmnRCAABAMWeadEIAAACXuZp0QgAAwPwLm3RCAACAYl6bdEI=\",\"dtype\":\"float64\",\"order\":\"little\",\"shape\":[37]},\"day_of_week\":[\"Sat\",\"Sun\",\"Mon\",\"Tue\",\"Wed\",\"Thu\",\"Fri\",\"Sat\",\"Sun\",\"Mon\",\"Tue\",\"Wed\",\"Thu\",\"Fri\",\"Sat\",\"Sun\",\"Mon\",\"Tue\",\"Wed\",\"Thu\",\"Fri\",\"Sat\",\"Sun\",\"Mon\",\"Tue\",\"Wed\",\"Thu\",\"Fri\",\"Sat\",\"Sun\",\"Mon\",\"Tue\",\"Wed\",\"Thu\",\"Fri\",\"Sat\",\"Sun\"],\"gross_conversion\":{\"__ndarray__\":\"5hS8nIKXwz9hdkV7JurCP3XX/nTX/sQ/3lw85+9bxT+e2Imd2InFP836M/hN9MQ/dU3XdE3XxD8WZjWKOHTCPwoW5KuMCcY/flps46fFxj/3EtpLaC/FP/KrJqdVdMQ/8w/s2PBSyD/QkYukQNDRP7oXKjqITMg/+QlxVn5CzD9SrlGuUa7RP0MWspCFLMw/ouygodOx0T8qozIqozLSP6f0j+0JItA/1EAwawsnyj9zU9E8oRbQPwAAAAAAAPh/AAAAAAAA+H8AAAAAAAD4fwAAAAAAAPh/AAAAAAAA+H8AAAAAAAD4fwAAAAAAAPh/AAAAAAAA+H8AAAAAAAD4fwAAAAAAAPh/AAAAAAAA+H8AAAAAAAD4fwAAAAAAAPh/AAAAAAAA+H8=\",\"dtype\":\"float64\",\"order\":\"little\",\"shape\":[37]},\"index\":[0,1,2,3,4,5,6,7,8,9,10,11,12,13,14,15,16,17,18,19,20,21,22,23,24,25,26,27,28,29,30,31,32,33,34,35,36],\"net_conversion\":{\"__ndarray__\":\"D/RvpkdgqT9StZS4Kq29P1e54Fa54LY/0ntQNJV6vD/FTuzETuy8PzXrz+A30bM/Hc7hHM7hrD8YW4Jv81e4P0gcyw/9R7w/5cDSSQ4svT+Y0F5Cewm1PxFM0q49X7Y/D61n/oEduz9DEdm5NkPBP/f32B3a/r4/2J5KHranwj+UwZPBk8HDP05vetOb3sQ/i6zapf/mwD/4eI/3eI+3Pze7ODBczsU/oBvz9NFqwj8wJnHwvjXCPwAAAAAAAPh/AAAAAAAA+H8AAAAAAAD4fwAAAAAAAPh/AAAAAAAA+H8AAAAAAAD4fwAAAAAAAPh/AAAAAAAA+H8AAAAAAAD4fwAAAAAAAPh/AAAAAAAA+H8AAAAAAAD4fwAAAAAAAPh/AAAAAAAA+H8=\",\"dtype\":\"float64\",\"order\":\"little\",\"shape\":[37]},\"not_outlier_gross_conversion\":[true,false,false,false,true,false,true,false,false,false,false,true,false,false,false,false,false,false,false,false,false,false,false,false,false,false,false,false,false,false,false,false,false,false,false,false,false],\"not_outlier_net_conversion\":[false,false,false,false,false,false,false,true,false,true,false,true,false,false,false,false,false,false,true,false,false,false,false,false,false,false,false,false,false,false,false,false,false,false,false,false,false],\"not_outlier_retention\":[\"NaN\",\"NaN\",\"NaN\",\"NaN\",\"NaN\",\"NaN\",\"NaN\",\"NaN\",\"NaN\",\"NaN\",\"NaN\",\"NaN\",\"NaN\",\"NaN\",\"NaN\",\"NaN\",\"NaN\",\"NaN\",\"NaN\",\"NaN\",\"NaN\",\"NaN\",\"NaN\",\"NaN\",\"NaN\",\"NaN\",\"NaN\",\"NaN\",\"NaN\",\"NaN\",\"NaN\",\"NaN\",\"NaN\",\"NaN\",\"NaN\",\"NaN\",\"NaN\"],\"retention\":{\"__ndarray__\":\"lUu5lEu51D+5pxGWexrpP6TzFkM6b+E/VVVVVVVV5T/FV3zFV3zlP5E35A15Q94/i8VisVgs1j/UdzbqOxvlP4mIiIiIiOQ/1Cl/1Cl/5D89QvWZtsbfPwAAAAAAgOE/3qe4ZAjW4T9fXP2gowLfPxqNRqPRaOQ/dcofdcof5T9tketMwODhP0J7Ce0ltOc/Z7fwqzGR3j/2dzGoCLfUPwZaoAVaoOU/INEKmwOJ5j/CIRzCIRziPwAAAAAAAPh/AAAAAAAA+H8AAAAAAAD4fwAAAAAAAPh/AAAAAAAA+H8AAAAAAAD4fwAAAAAAAPh/AAAAAAAA+H8AAAAAAAD4fwAAAAAAAPh/AAAAAAAA+H8AAAAAAAD4fwAAAAAAAPh/AAAAAAAA+H8=\",\"dtype\":\"float64\",\"order\":\"little\",\"shape\":[37]},\"type\":[\"experiment\",\"experiment\",\"experiment\",\"experiment\",\"experiment\",\"experiment\",\"experiment\",\"experiment\",\"experiment\",\"experiment\",\"experiment\",\"experiment\",\"experiment\",\"experiment\",\"experiment\",\"experiment\",\"experiment\",\"experiment\",\"experiment\",\"experiment\",\"experiment\",\"experiment\",\"experiment\",\"experiment\",\"experiment\",\"experiment\",\"experiment\",\"experiment\",\"experiment\",\"experiment\",\"experiment\",\"experiment\",\"experiment\",\"experiment\",\"experiment\",\"experiment\",\"experiment\"]},\"selected\":{\"id\":\"15466\"},\"selection_policy\":{\"id\":\"15467\"}},\"id\":\"15443\",\"type\":\"ColumnDataSource\"},{\"attributes\":{\"data\":{\"CTP\":{\"__ndarray__\":\"4vBXacLFtj+PXhnb7+i1P5Oy5I6bI7Y/qPNj7miutT8RNwXGsWW1PzXKpxWtybU/UGucuO5BtT8As0Wch8O1Pzkm052D6bQ/vBTgldGptD9It6zqLdK0P18RJ9YtkbU/uIWh/6JztD+AsmM/MEOyPxuRfFMBXbQ/kFaTEMVftD/rKPQGw2C0Py0W92GbH7Q/vrbiBJJItD+v/Pj/gBu0P+KR19WLVLQ/hpDyZGqbtD8UUC3Z7hO0P6PQ+TNUYLU/BfUGQIE5tT93/ymfsYi1P16411jNarU/Us8v2jI3tT8HzSgC6nq1P9yst1JW37U/AeZVSIB5tT8ZWO39jYG1PwIU3HQFPLQ/ZdGkUP9xtT9S+3g1UHi0P8A8ALRSCrY/NnYV6AabtD8=\",\"dtype\":\"float64\",\"order\":\"little\",\"shape\":[37]},\"Clicks\":[687,779,909,836,837,823,748,632,691,861,867,838,665,673,691,708,759,736,739,734,706,681,693,788,781,805,830,781,756,825,874,830,801,814,735,743,722],\"Enrollments\":{\"__ndarray__\":\"AAAAAADAYEAAAAAAAGBiQAAAAAAA4GRAAAAAAACAY0AAAAAAAGBkQAAAAAAAQGFAAAAAAABAYkAAAAAAAIBbQAAAAAAAYGBAAAAAAACgZEAAAAAAAIBoQAAAAAAAQGRAAAAAAADAX0AAAAAAAIBrQAAAAAAAAGZAAAAAAAAgZEAAAAAAACBtQAAAAAAAQGNAAAAAAACAaEAAAAAAAOBkQAAAAAAAwGVAAAAAAACAY0AAAAAAAMBpQAAAAAAAAPh/AAAAAAAA+H8AAAAAAAD4fwAAAAAAAPh/AAAAAAAA+H8AAAAAAAD4fwAAAAAAAPh/AAAAAAAA+H8AAAAAAAD4fwAAAAAAAPh/AAAAAAAA+H8AAAAAAAD4fwAAAAAAAPh/AAAAAAAA+H8=\",\"dtype\":\"float64\",\"order\":\"little\",\"shape\":[37]},\"Pageviews\":[7723,9102,10511,9871,10014,9670,9008,7434,8459,10667,10660,9947,8324,9434,8687,8896,9535,9363,9327,9345,8890,8460,8836,9437,9420,9570,9921,9424,9010,9656,10419,9880,10134,9717,9192,8630,8970],\"Payments\":{\"__ndarray__\":\"AAAAAACAUUAAAAAAAIBRQAAAAAAAwFdAAAAAAABAWkAAAAAAAABQQAAAAAAAgFRAAAAAAAAAU0AAAAAAAIBRQAAAAAAAAE5AAAAAAABAWEAAAAAAAEBaQAAAAAAAAFdAAAAAAAAATEAAAAAAAIBeQAAAAAAAAGBAAAAAAAAAWkAAAAAAAABfQAAAAAAAwFZAAAAAAACAVUAAAAAAAMBSQAAAAAAAQFlAAAAAAABAV0AAAAAAAMBQQAAAAAAAAPh/AAAAAAAA+H8AAAAAAAD4fwAAAAAAAPh/AAAAAAAA+H8AAAAAAAD4fwAAAAAAAPh/AAAAAAAA+H8AAAAAAAD4fwAAAAAAAPh/AAAAAAAA+H8AAAAAAAD4fwAAAAAAAPh/AAAAAAAA+H8=\",\"dtype\":\"float64\",\"order\":\"little\",\"shape\":[37]},\"date\":{\"__ndarray__\":\"AACAE8iPdEIAAEB5GpB0QgAAAN9skHRCAADARL+QdEIAAICqEZF0QgAAQBBkkXRCAAAAdraRdEIAAMDbCJJ0QgAAgEFbknRCAABAp62SdEIAAAANAJN0QgAAwHJSk3RCAACA2KSTdEIAAEA+95N0QgAAAKRJlHRCAADACZyUdEIAAIBv7pR0QgAAQNVAlXRCAAAAO5OVdEIAAMCg5ZV0QgAAgAY4lnRCAABAbIqWdEIAAADS3JZ0QgAAwDcvl3RCAACAnYGXdEIAAEAD1Jd0QgAAAGkmmHRCAADAzniYdEIAAIA0y5h0QgAAQJodmXRCAAAAAHCZdEIAAMBlwpl0QgAAgMsUmnRCAABAMWeadEIAAACXuZp0QgAAwPwLm3RCAACAYl6bdEI=\",\"dtype\":\"float64\",\"order\":\"little\",\"shape\":[37]},\"day_of_week\":[\"Sat\",\"Sun\",\"Mon\",\"Tue\",\"Wed\",\"Thu\",\"Fri\",\"Sat\",\"Sun\",\"Mon\",\"Tue\",\"Wed\",\"Thu\",\"Fri\",\"Sat\",\"Sun\",\"Mon\",\"Tue\",\"Wed\",\"Thu\",\"Fri\",\"Sat\",\"Sun\",\"Mon\",\"Tue\",\"Wed\",\"Thu\",\"Fri\",\"Sat\",\"Sun\",\"Mon\",\"Tue\",\"Wed\",\"Thu\",\"Fri\",\"Sat\",\"Sun\"],\"gross_conversion\":{\"__ndarray__\":\"zUZe7W33yD+8b4RnbyfIP3eHW2cVhMc/Qdu9VZrixz+0CrnHV+3IPxAbH0SDdsU//FjNnuT7yD+P7BmISkfGP3+us/kqRMg/0Sow9pSHyD8OO2iVwu/MP9MijROgvsg/H4dJ6fJxyD8VKRTr1uvUP/NViDAPTdA/KCQX8HobzT/dECJ9m6XTPy1kIQtZyMo/YCS9Cmv50D9hW9O/Yx/NPwe2JUz3i88/YJkodFNSzT8fGUyqRwbTPwAAAAAAAPh/AAAAAAAA+H8AAAAAAAD4fwAAAAAAAPh/AAAAAAAA+H8AAAAAAAD4fwAAAAAAAPh/AAAAAAAA+H8AAAAAAAD4fwAAAAAAAPh/AAAAAAAA+H8AAAAAAAD4fwAAAAAAAPh/AAAAAAAA+H8=\",\"dtype\":\"float64\",\"order\":\"little\",\"shape\":[37]},\"index\":[0,1,2,3,4,5,6,7,8,9,10,11,12,13,14,15,16,17,18,19,20,21,22,23,24,25,26,27,28,29,30,31,32,33,34,35,36],\"net_conversion\":{\"__ndarray__\":\"VEIS4ZwVuj/LgpZi/AC3P/I0VGkywbo/fxgsHJkTwD8h9/iqHZOzP5ia6fe1gbk/Axp367wCuj+1uAnzu1q8P8CjohOJOrY/s9OYFkTXvD9qiKbE4gC/P0ys4g/iGrw/7ViBMNKOtT8X48voHDTHPzM3aYzntcc/+ZRp52DNwj83hEjfZunEP3rTm970pr8/jq25+KbKvT93eyEwdSi6P9sSpvvFT8I/0oIE1Ox6wT9fAGOkF8C4PwAAAAAAAPh/AAAAAAAA+H8AAAAAAAD4fwAAAAAAAPh/AAAAAAAA+H8AAAAAAAD4fwAAAAAAAPh/AAAAAAAA+H8AAAAAAAD4fwAAAAAAAPh/AAAAAAAA+H8AAAAAAAD4fwAAAAAAAPh/AAAAAAAA+H8=\",\"dtype\":\"float64\",\"order\":\"little\",\"shape\":[37]},\"not_outlier_gross_conversion\":[false,false,false,false,false,false,false,false,false,false,false,false,false,false,false,false,false,true,false,false,false,false,false,false,false,false,false,false,false,false,false,false,false,false,false,false,false],\"not_outlier_net_conversion\":[false,false,false,false,false,false,false,true,false,true,false,true,false,false,false,false,false,false,false,false,false,false,false,false,false,false,false,false,false,false,false,false,false,false,false,false,false],\"not_outlier_retention\":[true,false,false,false,false,false,true,false,false,false,true,false,false,false,false,false,true,false,false,false,false,false,false,false,false,false,false,false,false,false,false,false,false,false,false,false,false],\"retention\":{\"__ndarray__\":\"TKQHKme34D+e53me53neP9dsn6geNOI/ntiJndiJ5T8p4tBJ+yDZPzDXDsy1A+M/hQoVKlSo4D9ddNFFF13kP0qeZUQfUN0/0HL+LOfP4j9JkiRJkiThPxl4ujU/LOI/DofD4XA43D+/Ye0b1r7hP0YXXXTRRec/3VWKCbqr5D+HPYjksAfhP+miiy666OI/BS+n4OUU3D+WMgl2Fb7cPwYyKV4gk+I/O7ETO7ET4z/vYL/VxtDUPwAAAAAAAPh/AAAAAAAA+H8AAAAAAAD4fwAAAAAAAPh/AAAAAAAA+H8AAAAAAAD4fwAAAAAAAPh/AAAAAAAA+H8AAAAAAAD4fwAAAAAAAPh/AAAAAAAA+H8AAAAAAAD4fwAAAAAAAPh/AAAAAAAA+H8=\",\"dtype\":\"float64\",\"order\":\"little\",\"shape\":[37]},\"type\":[\"control\",\"control\",\"control\",\"control\",\"control\",\"control\",\"control\",\"control\",\"control\",\"control\",\"control\",\"control\",\"control\",\"control\",\"control\",\"control\",\"control\",\"control\",\"control\",\"control\",\"control\",\"control\",\"control\",\"control\",\"control\",\"control\",\"control\",\"control\",\"control\",\"control\",\"control\",\"control\",\"control\",\"control\",\"control\",\"control\",\"control\"]},\"selected\":{\"id\":\"15358\"},\"selection_policy\":{\"id\":\"15359\"}},\"id\":\"15341\",\"type\":\"ColumnDataSource\"},{\"attributes\":{},\"id\":\"15513\",\"type\":\"PanTool\"},{\"attributes\":{\"data_source\":{\"id\":\"15282\"},\"glyph\":{\"id\":\"15284\"},\"hover_glyph\":null,\"muted_glyph\":{\"id\":\"15286\"},\"nonselection_glyph\":{\"id\":\"15285\"},\"selection_glyph\":null,\"view\":{\"id\":\"15288\"}},\"id\":\"15287\",\"type\":\"GlyphRenderer\"},{\"attributes\":{\"data\":{\"CTP\":{\"__ndarray__\":\"u/JDAI7Ctj++EpP98qK1P32vUWEJmLU/xX7+7eF0tT8hYzCF2b+1P/5dqOoJPLU/Gb9d6sn4tT/hBatAWce1P1pT+3QBKLU/+hicj8H5tD/MD7M0nPa0P49OtAY5D7U/oUGDBg0atD+MsE4XZPqyP0PMt3CDwbM/BTP2k+P5sz9JDU2KYHG0P5cavIqDDbQ/fJOMFxoYtD/O0Np9uAW0PytNV6xfNbU/ED744IMPtT8dwlWc2/m0P7rEmGHwlLU/o2PJ2EsttD+lkjLxDHm1P9hZSW54nbU/JMQ4yUcttT/uRElxR7G1P32Zij6fcLY/ckINb4HbtD88kTpg4Wu1PxIBJx8BcrQ/C6dBG93UtT/A65MgxC+1P981iDnvYbU/gdXi//Y4tD8=\",\"dtype\":\"float64\",\"order\":\"little\",\"shape\":[37]},\"Clicks\":[686,785,884,827,832,788,780,652,697,860,864,801,642,697,669,693,771,736,727,728,722,695,724,789,743,808,831,767,760,850,851,831,802,829,770,724,710],\"Enrollments\":{\"__ndarray__\":\"AAAAAABAWkAAAAAAAABdQAAAAAAAIGJAAAAAAABAYUAAAAAAAIBhQAAAAAAAIGBAAAAAAADAX0AAAAAAAIBXQAAAAAAAAF5AAAAAAAAgY0AAAAAAAOBhQAAAAAAAAGBAAAAAAACAXkAAAAAAAEBoQAAAAAAAwF9AAAAAAAAgY0AAAAAAAKBqQAAAAAAAQGRAAAAAAAAgaUAAAAAAAOBpQAAAAAAAwGZAAAAAAADAYUAAAAAAAMBmQAAAAAAAAPh/AAAAAAAA+H8AAAAAAAD4fwAAAAAAAPh/AAAAAAAA+H8AAAAAAAD4fwAAAAAAAPh/AAAAAAAA+H8AAAAAAAD4fwAAAAAAAPh/AAAAAAAA+H8AAAAAAAD4fwAAAAAAAPh/AAAAAAAA+H8=\",\"dtype\":\"float64\",\"order\":\"little\",\"shape\":[37]},\"Pageviews\":[7716,9288,10480,9867,9793,9500,9088,7664,8434,10496,10551,9737,8176,9402,8669,8881,9655,9396,9262,9308,8715,8448,8836,9359,9427,9633,9842,9272,8969,9697,10445,9931,10042,9721,9304,8668,8988],\"Payments\":{\"__ndarray__\":\"AAAAAAAAQUAAAAAAAMBWQAAAAAAAwFNAAAAAAAAAV0AAAAAAAIBXQAAAAAAAgE5AAAAAAAAARkAAAAAAAABPQAAAAAAAQFNAAAAAAACAWEAAAAAAAMBRQAAAAAAAgFFAAAAAAAAAUUAAAAAAAIBXQAAAAAAAQFRAAAAAAABAWUAAAAAAAMBdQAAAAAAAAF5AAAAAAAAAWEAAAAAAAMBQQAAAAAAAwF5AAAAAAAAAWUAAAAAAAMBZQAAAAAAAAPh/AAAAAAAA+H8AAAAAAAD4fwAAAAAAAPh/AAAAAAAA+H8AAAAAAAD4fwAAAAAAAPh/AAAAAAAA+H8AAAAAAAD4fwAAAAAAAPh/AAAAAAAA+H8AAAAAAAD4fwAAAAAAAPh/AAAAAAAA+H8=\",\"dtype\":\"float64\",\"order\":\"little\",\"shape\":[37]},\"date\":{\"__ndarray__\":\"AACAE8iPdEIAAEB5GpB0QgAAAN9skHRCAADARL+QdEIAAICqEZF0QgAAQBBkkXRCAAAAdraRdEIAAMDbCJJ0QgAAgEFbknRCAABAp62SdEIAAAANAJN0QgAAwHJSk3RCAACA2KSTdEIAAEA+95N0QgAAAKRJlHRCAADACZyUdEIAAIBv7pR0QgAAQNVAlXRCAAAAO5OVdEIAAMCg5ZV0QgAAgAY4lnRCAABAbIqWdEIAAADS3JZ0QgAAwDcvl3RCAACAnYGXdEIAAEAD1Jd0QgAAAGkmmHRCAADAzniYdEIAAIA0y5h0QgAAQJodmXRCAAAAAHCZdEIAAMBlwpl0QgAAgMsUmnRCAABAMWeadEIAAACXuZp0QgAAwPwLm3RCAACAYl6bdEI=\",\"dtype\":\"float64\",\"order\":\"little\",\"shape\":[37]},\"day_of_week\":[\"Sat\",\"Sun\",\"Mon\",\"Tue\",\"Wed\",\"Thu\",\"Fri\",\"Sat\",\"Sun\",\"Mon\",\"Tue\",\"Wed\",\"Thu\",\"Fri\",\"Sat\",\"Sun\",\"Mon\",\"Tue\",\"Wed\",\"Thu\",\"Fri\",\"Sat\",\"Sun\",\"Mon\",\"Tue\",\"Wed\",\"Thu\",\"Fri\",\"Sat\",\"Sun\",\"Mon\",\"Tue\",\"Wed\",\"Thu\",\"Fri\",\"Sat\",\"Sun\"],\"gross_conversion\":{\"__ndarray__\":\"5hS8nIKXwz9hdkV7JurCP3XX/nTX/sQ/3lw85+9bxT+e2Imd2InFP836M/hN9MQ/dU3XdE3XxD8WZjWKOHTCPwoW5KuMCcY/flps46fFxj/3EtpLaC/FP/KrJqdVdMQ/8w/s2PBSyD/QkYukQNDRP7oXKjqITMg/+QlxVn5CzD9SrlGuUa7RP0MWspCFLMw/ouygodOx0T8qozIqozLSP6f0j+0JItA/1EAwawsnyj9zU9E8oRbQPwAAAAAAAPh/AAAAAAAA+H8AAAAAAAD4fwAAAAAAAPh/AAAAAAAA+H8AAAAAAAD4fwAAAAAAAPh/AAAAAAAA+H8AAAAAAAD4fwAAAAAAAPh/AAAAAAAA+H8AAAAAAAD4fwAAAAAAAPh/AAAAAAAA+H8=\",\"dtype\":\"float64\",\"order\":\"little\",\"shape\":[37]},\"index\":[0,1,2,3,4,5,6,7,8,9,10,11,12,13,14,15,16,17,18,19,20,21,22,23,24,25,26,27,28,29,30,31,32,33,34,35,36],\"net_conversion\":{\"__ndarray__\":\"D/RvpkdgqT9StZS4Kq29P1e54Fa54LY/0ntQNJV6vD/FTuzETuy8PzXrz+A30bM/Hc7hHM7hrD8YW4Jv81e4P0gcyw/9R7w/5cDSSQ4svT+Y0F5Cewm1PxFM0q49X7Y/D61n/oEduz9DEdm5NkPBP/f32B3a/r4/2J5KHranwj+UwZPBk8HDP05vetOb3sQ/i6zapf/mwD/4eI/3eI+3Pze7ODBczsU/oBvz9NFqwj8wJnHwvjXCPwAAAAAAAPh/AAAAAAAA+H8AAAAAAAD4fwAAAAAAAPh/AAAAAAAA+H8AAAAAAAD4fwAAAAAAAPh/AAAAAAAA+H8AAAAAAAD4fwAAAAAAAPh/AAAAAAAA+H8AAAAAAAD4fwAAAAAAAPh/AAAAAAAA+H8=\",\"dtype\":\"float64\",\"order\":\"little\",\"shape\":[37]},\"not_outlier_gross_conversion\":[true,false,false,false,true,false,true,false,false,false,false,true,false,false,false,false,false,false,false,false,false,false,false,false,false,false,false,false,false,false,false,false,false,false,false,false,false],\"not_outlier_net_conversion\":[false,false,false,false,false,false,false,true,false,true,false,true,false,false,false,false,false,false,true,false,false,false,false,false,false,false,false,false,false,false,false,false,false,false,false,false,false],\"not_outlier_retention\":[\"NaN\",\"NaN\",\"NaN\",\"NaN\",\"NaN\",\"NaN\",\"NaN\",\"NaN\",\"NaN\",\"NaN\",\"NaN\",\"NaN\",\"NaN\",\"NaN\",\"NaN\",\"NaN\",\"NaN\",\"NaN\",\"NaN\",\"NaN\",\"NaN\",\"NaN\",\"NaN\",\"NaN\",\"NaN\",\"NaN\",\"NaN\",\"NaN\",\"NaN\",\"NaN\",\"NaN\",\"NaN\",\"NaN\",\"NaN\",\"NaN\",\"NaN\",\"NaN\"],\"retention\":{\"__ndarray__\":\"lUu5lEu51D+5pxGWexrpP6TzFkM6b+E/VVVVVVVV5T/FV3zFV3zlP5E35A15Q94/i8VisVgs1j/UdzbqOxvlP4mIiIiIiOQ/1Cl/1Cl/5D89QvWZtsbfPwAAAAAAgOE/3qe4ZAjW4T9fXP2gowLfPxqNRqPRaOQ/dcofdcof5T9tketMwODhP0J7Ce0ltOc/Z7fwqzGR3j/2dzGoCLfUPwZaoAVaoOU/INEKmwOJ5j/CIRzCIRziPwAAAAAAAPh/AAAAAAAA+H8AAAAAAAD4fwAAAAAAAPh/AAAAAAAA+H8AAAAAAAD4fwAAAAAAAPh/AAAAAAAA+H8AAAAAAAD4fwAAAAAAAPh/AAAAAAAA+H8AAAAAAAD4fwAAAAAAAPh/AAAAAAAA+H8=\",\"dtype\":\"float64\",\"order\":\"little\",\"shape\":[37]},\"type\":[\"experiment\",\"experiment\",\"experiment\",\"experiment\",\"experiment\",\"experiment\",\"experiment\",\"experiment\",\"experiment\",\"experiment\",\"experiment\",\"experiment\",\"experiment\",\"experiment\",\"experiment\",\"experiment\",\"experiment\",\"experiment\",\"experiment\",\"experiment\",\"experiment\",\"experiment\",\"experiment\",\"experiment\",\"experiment\",\"experiment\",\"experiment\",\"experiment\",\"experiment\",\"experiment\",\"experiment\",\"experiment\",\"experiment\",\"experiment\",\"experiment\",\"experiment\",\"experiment\"]},\"selected\":{\"id\":\"15326\"},\"selection_policy\":{\"id\":\"15327\"}},\"id\":\"15311\",\"type\":\"ColumnDataSource\"},{\"attributes\":{},\"id\":\"15276\",\"type\":\"BasicTicker\"},{\"attributes\":{},\"id\":\"15512\",\"type\":\"WheelZoomTool\"},{\"attributes\":{},\"id\":\"15511\",\"type\":\"ResetTool\"},{\"attributes\":{\"label\":{\"value\":\"gross_conversion,control\"},\"renderers\":[{\"id\":\"15287\"}]},\"id\":\"15310\",\"type\":\"LegendItem\"},{\"attributes\":{\"active_drag\":\"auto\",\"active_inspect\":\"auto\",\"active_multi\":null,\"active_scroll\":\"auto\",\"active_tap\":\"auto\",\"tools\":[{\"id\":\"15279\"},{\"id\":\"15511\"},{\"id\":\"15512\"},{\"id\":\"15513\"}]},\"id\":\"15280\",\"type\":\"Toolbar\"},{\"attributes\":{\"source\":{\"id\":\"15282\"}},\"id\":\"15288\",\"type\":\"CDSView\"},{\"attributes\":{\"background_fill_alpha\":0.5,\"border_line_color\":\"grey\",\"border_line_width\":1.2,\"click_policy\":\"mute\",\"items\":[{\"id\":\"15310\"},{\"id\":\"15340\"},{\"id\":\"15372\"},{\"id\":\"15406\"},{\"id\":\"15442\"},{\"id\":\"15480\"}]},\"id\":\"15309\",\"type\":\"Legend\"},{\"attributes\":{\"line_alpha\":0.2,\"line_color\":\"#1f77b4\",\"line_width\":2,\"x\":{\"field\":\"date\"},\"y\":{\"field\":\"gross_conversion\"}},\"id\":\"15286\",\"type\":\"Line\"},{\"attributes\":{\"line_alpha\":0.1,\"line_color\":\"#1f77b4\",\"line_width\":2,\"x\":{\"field\":\"date\"},\"y\":{\"field\":\"gross_conversion\"}},\"id\":\"15285\",\"type\":\"Line\"},{\"attributes\":{\"line_alpha\":0.8,\"line_color\":\"#1f77b4\",\"line_width\":2,\"x\":{\"field\":\"date\"},\"y\":{\"field\":\"gross_conversion\"}},\"id\":\"15284\",\"type\":\"Line\"},{\"attributes\":{},\"id\":\"15269\",\"type\":\"LinearScale\"},{\"attributes\":{\"num_minor_ticks\":5,\"tickers\":[{\"id\":\"15297\"},{\"id\":\"15298\"},{\"id\":\"15299\"},{\"id\":\"15300\"},{\"id\":\"15301\"},{\"id\":\"15302\"},{\"id\":\"15303\"},{\"id\":\"15304\"},{\"id\":\"15305\"},{\"id\":\"15306\"},{\"id\":\"15307\"},{\"id\":\"15308\"}]},\"id\":\"15272\",\"type\":\"DatetimeTicker\"},{\"attributes\":{},\"id\":\"15291\",\"type\":\"DatetimeTickFormatter\"},{\"attributes\":{\"label\":{\"value\":\"net_conversion,experiment\"},\"renderers\":[{\"id\":\"15448\"}]},\"id\":\"15480\",\"type\":\"LegendItem\"},{\"attributes\":{},\"id\":\"15293\",\"type\":\"BasicTickFormatter\"},{\"attributes\":{},\"id\":\"15265\",\"type\":\"DataRange1d\"},{\"attributes\":{\"months\":[0,1,2,3,4,5,6,7,8,9,10,11]},\"id\":\"15304\",\"type\":\"MonthsTicker\"},{\"attributes\":{},\"id\":\"15308\",\"type\":\"YearsTicker\"},{\"attributes\":{\"fill_alpha\":{\"value\":0.1},\"fill_color\":{\"value\":\"red\"},\"line_alpha\":{\"value\":0.1},\"line_color\":{\"value\":\"navy\"},\"marker\":{\"value\":\"triangle\"},\"size\":{\"units\":\"screen\",\"value\":11},\"x\":{\"field\":\"date\"},\"y\":{\"field\":\"gross_conversion\"}},\"id\":\"15484\",\"type\":\"Scatter\"},{\"attributes\":{\"days\":[1,15]},\"id\":\"15303\",\"type\":\"DaysTicker\"},{\"attributes\":{},\"id\":\"15467\",\"type\":\"UnionRenderers\"},{\"attributes\":{\"months\":[0,6]},\"id\":\"15307\",\"type\":\"MonthsTicker\"},{\"attributes\":{\"months\":[0,2,4,6,8,10]},\"id\":\"15305\",\"type\":\"MonthsTicker\"},{\"attributes\":{},\"id\":\"15466\",\"type\":\"Selection\"},{\"attributes\":{\"months\":[0,4,8]},\"id\":\"15306\",\"type\":\"MonthsTicker\"},{\"attributes\":{\"axis\":{\"id\":\"15271\"},\"ticker\":null},\"id\":\"15274\",\"type\":\"Grid\"},{\"attributes\":{\"fill_alpha\":{\"value\":0.5},\"fill_color\":{\"value\":\"red\"},\"line_alpha\":{\"value\":0.5},\"line_color\":{\"value\":\"navy\"},\"marker\":{\"value\":\"triangle\"},\"size\":{\"units\":\"screen\",\"value\":11},\"x\":{\"field\":\"date\"},\"y\":{\"field\":\"gross_conversion\"}},\"id\":\"15483\",\"type\":\"Scatter\"},{\"attributes\":{\"line_alpha\":0.8,\"line_color\":\"#ff7f0e\",\"line_dash\":[6],\"line_width\":2,\"x\":{\"field\":\"date\"},\"y\":{\"field\":\"retention\"}},\"id\":\"15375\",\"type\":\"Line\"},{\"attributes\":{},\"id\":\"15392\",\"type\":\"Selection\"},{\"attributes\":{\"fill_alpha\":{\"value\":0.5},\"fill_color\":{\"value\":\"grey\"},\"line_alpha\":{\"value\":0.5},\"line_color\":{\"value\":\"navy\"},\"marker\":{\"value\":\"triangle\"},\"size\":{\"units\":\"screen\",\"value\":11},\"x\":{\"field\":\"date\"},\"y\":{\"field\":\"net_conversion\"}},\"id\":\"15507\",\"type\":\"Scatter\"},{\"attributes\":{},\"id\":\"15393\",\"type\":\"UnionRenderers\"},{\"attributes\":{\"source\":{\"id\":\"15481\"}},\"id\":\"15486\",\"type\":\"CDSView\"},{\"attributes\":{\"fill_alpha\":{\"value\":0.5},\"fill_color\":{\"value\":\"red\"},\"line_alpha\":{\"value\":0.5},\"line_color\":{\"value\":\"navy\"},\"marker\":{\"value\":\"triangle\"},\"size\":{\"units\":\"screen\",\"value\":11},\"x\":{\"field\":\"date\"},\"y\":{\"field\":\"net_conversion\"}},\"id\":\"15495\",\"type\":\"Scatter\"},{\"attributes\":{\"label\":{\"value\":\"retention,experiment\"},\"renderers\":[{\"id\":\"15378\"}]},\"id\":\"15406\",\"type\":\"LegendItem\"},{\"attributes\":{\"source\":{\"id\":\"15373\"}},\"id\":\"15379\",\"type\":\"CDSView\"},{\"attributes\":{\"source\":{\"id\":\"15493\"}},\"id\":\"15498\",\"type\":\"CDSView\"},{\"attributes\":{\"source\":{\"id\":\"15487\"}},\"id\":\"15492\",\"type\":\"CDSView\"},{\"attributes\":{\"data_source\":{\"id\":\"15373\"},\"glyph\":{\"id\":\"15375\"},\"hover_glyph\":null,\"muted_glyph\":{\"id\":\"15377\"},\"nonselection_glyph\":{\"id\":\"15376\"},\"selection_glyph\":null,\"view\":{\"id\":\"15379\"}},\"id\":\"15378\",\"type\":\"GlyphRenderer\"},{\"attributes\":{\"line_alpha\":0.1,\"line_color\":\"#ff7f0e\",\"line_dash\":[6],\"line_width\":2,\"x\":{\"field\":\"date\"},\"y\":{\"field\":\"retention\"}},\"id\":\"15376\",\"type\":\"Line\"},{\"attributes\":{\"line_alpha\":0.2,\"line_color\":\"#ff7f0e\",\"line_dash\":[6],\"line_width\":2,\"x\":{\"field\":\"date\"},\"y\":{\"field\":\"retention\"}},\"id\":\"15377\",\"type\":\"Line\"},{\"attributes\":{\"fill_alpha\":{\"value\":0.5},\"fill_color\":{\"value\":\"red\"},\"line_alpha\":{\"value\":0.5},\"line_color\":{\"value\":\"navy\"},\"marker\":{\"value\":\"triangle\"},\"size\":{\"units\":\"screen\",\"value\":11},\"x\":{\"field\":\"date\"},\"y\":{\"field\":\"retention\"}},\"id\":\"15489\",\"type\":\"Scatter\"},{\"attributes\":{\"fill_alpha\":{\"value\":0.5},\"fill_color\":{\"value\":\"grey\"},\"line_alpha\":{\"value\":0.5},\"line_color\":{\"value\":\"navy\"},\"marker\":{\"value\":\"triangle\"},\"size\":{\"units\":\"screen\",\"value\":11},\"x\":{\"field\":\"date\"},\"y\":{\"field\":\"gross_conversion\"}},\"id\":\"15501\",\"type\":\"Scatter\"},{\"attributes\":{\"source\":{\"id\":\"15505\"}},\"id\":\"15510\",\"type\":\"CDSView\"},{\"attributes\":{\"source\":{\"id\":\"15499\"}},\"id\":\"15504\",\"type\":\"CDSView\"},{\"attributes\":{\"data_source\":{\"id\":\"15481\"},\"glyph\":{\"id\":\"15483\"},\"hover_glyph\":null,\"muted_glyph\":null,\"nonselection_glyph\":{\"id\":\"15484\"},\"selection_glyph\":null,\"view\":{\"id\":\"15486\"}},\"id\":\"15485\",\"type\":\"GlyphRenderer\"},{\"attributes\":{\"data\":{\"CTP\":{\"__ndarray__\":\"4vBXacLFtj+PXhnb7+i1P5Oy5I6bI7Y/qPNj7miutT8RNwXGsWW1PzXKpxWtybU/UGucuO5BtT85JtOdg+m0P0i3rOot0rQ/uIWh/6JztD+AsmM/MEOyPxuRfFMBXbQ/kFaTEMVftD/rKPQGw2C0Py0W92GbH7Q/vrbiBJJItD+v/Pj/gBu0P+KR19WLVLQ/hpDyZGqbtD8UUC3Z7hO0P6PQ+TNUYLU/BfUGQIE5tT93/ymfsYi1P16411jNarU/Us8v2jI3tT8HzSgC6nq1P9yst1JW37U/AeZVSIB5tT8ZWO39jYG1PwIU3HQFPLQ/ZdGkUP9xtT9S+3g1UHi0P8A8ALRSCrY/NnYV6AabtD8=\",\"dtype\":\"float64\",\"order\":\"little\",\"shape\":[34]},\"Clicks\":[687,779,909,836,837,823,748,691,867,665,673,691,708,759,736,739,734,706,681,693,788,781,805,830,781,756,825,874,830,801,814,735,743,722],\"Enrollments\":{\"__ndarray__\":\"AAAAAADAYEAAAAAAAGBiQAAAAAAA4GRAAAAAAACAY0AAAAAAAGBkQAAAAAAAQGFAAAAAAABAYkAAAAAAAGBgQAAAAAAAgGhAAAAAAADAX0AAAAAAAIBrQAAAAAAAAGZAAAAAAAAgZEAAAAAAACBtQAAAAAAAQGNAAAAAAACAaEAAAAAAAOBkQAAAAAAAwGVAAAAAAACAY0AAAAAAAMBpQAAAAAAAAPh/AAAAAAAA+H8AAAAAAAD4fwAAAAAAAPh/AAAAAAAA+H8AAAAAAAD4fwAAAAAAAPh/AAAAAAAA+H8AAAAAAAD4fwAAAAAAAPh/AAAAAAAA+H8AAAAAAAD4fwAAAAAAAPh/AAAAAAAA+H8=\",\"dtype\":\"float64\",\"order\":\"little\",\"shape\":[34]},\"Pageviews\":[7723,9102,10511,9871,10014,9670,9008,8459,10660,8324,9434,8687,8896,9535,9363,9327,9345,8890,8460,8836,9437,9420,9570,9921,9424,9010,9656,10419,9880,10134,9717,9192,8630,8970],\"Payments\":{\"__ndarray__\":\"AAAAAACAUUAAAAAAAIBRQAAAAAAAwFdAAAAAAABAWkAAAAAAAABQQAAAAAAAgFRAAAAAAAAAU0AAAAAAAABOQAAAAAAAQFpAAAAAAAAATEAAAAAAAIBeQAAAAAAAAGBAAAAAAAAAWkAAAAAAAABfQAAAAAAAwFZAAAAAAACAVUAAAAAAAMBSQAAAAAAAQFlAAAAAAABAV0AAAAAAAMBQQAAAAAAAAPh/AAAAAAAA+H8AAAAAAAD4fwAAAAAAAPh/AAAAAAAA+H8AAAAAAAD4fwAAAAAAAPh/AAAAAAAA+H8AAAAAAAD4fwAAAAAAAPh/AAAAAAAA+H8AAAAAAAD4fwAAAAAAAPh/AAAAAAAA+H8=\",\"dtype\":\"float64\",\"order\":\"little\",\"shape\":[34]},\"date\":{\"__ndarray__\":\"AACAE8iPdEIAAEB5GpB0QgAAAN9skHRCAADARL+QdEIAAICqEZF0QgAAQBBkkXRCAAAAdraRdEIAAIBBW5J0QgAAAA0Ak3RCAACA2KSTdEIAAEA+95N0QgAAAKRJlHRCAADACZyUdEIAAIBv7pR0QgAAQNVAlXRCAAAAO5OVdEIAAMCg5ZV0QgAAgAY4lnRCAABAbIqWdEIAAADS3JZ0QgAAwDcvl3RCAACAnYGXdEIAAEAD1Jd0QgAAAGkmmHRCAADAzniYdEIAAIA0y5h0QgAAQJodmXRCAAAAAHCZdEIAAMBlwpl0QgAAgMsUmnRCAABAMWeadEIAAACXuZp0QgAAwPwLm3RCAACAYl6bdEI=\",\"dtype\":\"float64\",\"order\":\"little\",\"shape\":[34]},\"day_of_week\":[\"Sat\",\"Sun\",\"Mon\",\"Tue\",\"Wed\",\"Thu\",\"Fri\",\"Sun\",\"Tue\",\"Thu\",\"Fri\",\"Sat\",\"Sun\",\"Mon\",\"Tue\",\"Wed\",\"Thu\",\"Fri\",\"Sat\",\"Sun\",\"Mon\",\"Tue\",\"Wed\",\"Thu\",\"Fri\",\"Sat\",\"Sun\",\"Mon\",\"Tue\",\"Wed\",\"Thu\",\"Fri\",\"Sat\",\"Sun\"],\"gross_conversion\":{\"__ndarray__\":\"zUZe7W33yD+8b4RnbyfIP3eHW2cVhMc/Qdu9VZrixz+0CrnHV+3IPxAbH0SDdsU//FjNnuT7yD9/rrP5KkTIPw47aJXC78w/H4dJ6fJxyD8VKRTr1uvUP/NViDAPTdA/KCQX8HobzT/dECJ9m6XTPy1kIQtZyMo/YCS9Cmv50D9hW9O/Yx/NPwe2JUz3i88/YJkodFNSzT8fGUyqRwbTPwAAAAAAAPh/AAAAAAAA+H8AAAAAAAD4fwAAAAAAAPh/AAAAAAAA+H8AAAAAAAD4fwAAAAAAAPh/AAAAAAAA+H8AAAAAAAD4fwAAAAAAAPh/AAAAAAAA+H8AAAAAAAD4fwAAAAAAAPh/AAAAAAAA+H8=\",\"dtype\":\"float64\",\"order\":\"little\",\"shape\":[34]},\"index\":[0,1,2,3,4,5,6,8,10,12,13,14,15,16,17,18,19,20,21,22,23,24,25,26,27,28,29,30,31,32,33,34,35,36],\"net_conversion\":{\"__ndarray__\":\"VEIS4ZwVuj/LgpZi/AC3P/I0VGkywbo/fxgsHJkTwD8h9/iqHZOzP5ia6fe1gbk/Axp367wCuj/Ao6ITiTq2P2qIpsTiAL8/7ViBMNKOtT8X48voHDTHPzM3aYzntcc/+ZRp52DNwj83hEjfZunEP3rTm970pr8/jq25+KbKvT93eyEwdSi6P9sSpvvFT8I/0oIE1Ox6wT9fAGOkF8C4PwAAAAAAAPh/AAAAAAAA+H8AAAAAAAD4fwAAAAAAAPh/AAAAAAAA+H8AAAAAAAD4fwAAAAAAAPh/AAAAAAAA+H8AAAAAAAD4fwAAAAAAAPh/AAAAAAAA+H8AAAAAAAD4fwAAAAAAAPh/AAAAAAAA+H8=\",\"dtype\":\"float64\",\"order\":\"little\",\"shape\":[34]},\"not_outlier_gross_conversion\":[false,false,false,false,false,false,false,false,false,false,false,false,false,false,true,false,false,false,false,false,false,false,false,false,false,false,false,false,false,false,false,false,false,false],\"not_outlier_net_conversion\":[false,false,false,false,false,false,false,false,false,false,false,false,false,false,false,false,false,false,false,false,false,false,false,false,false,false,false,false,false,false,false,false,false,false],\"not_outlier_retention\":[true,false,false,false,false,false,true,false,true,false,false,false,false,true,false,false,false,false,false,false,false,false,false,false,false,false,false,false,false,false,false,false,false,false],\"retention\":{\"__ndarray__\":\"TKQHKme34D+e53me53neP9dsn6geNOI/ntiJndiJ5T8p4tBJ+yDZPzDXDsy1A+M/hQoVKlSo4D9KnmVEH1DdP0mSJEmSJOE/DofD4XA43D+/Ye0b1r7hP0YXXXTRRec/3VWKCbqr5D+HPYjksAfhP+miiy666OI/BS+n4OUU3D+WMgl2Fb7cPwYyKV4gk+I/O7ETO7ET4z/vYL/VxtDUPwAAAAAAAPh/AAAAAAAA+H8AAAAAAAD4fwAAAAAAAPh/AAAAAAAA+H8AAAAAAAD4fwAAAAAAAPh/AAAAAAAA+H8AAAAAAAD4fwAAAAAAAPh/AAAAAAAA+H8AAAAAAAD4fwAAAAAAAPh/AAAAAAAA+H8=\",\"dtype\":\"float64\",\"order\":\"little\",\"shape\":[34]},\"type\":[\"control\",\"control\",\"control\",\"control\",\"control\",\"control\",\"control\",\"control\",\"control\",\"control\",\"control\",\"control\",\"control\",\"control\",\"control\",\"control\",\"control\",\"control\",\"control\",\"control\",\"control\",\"control\",\"control\",\"control\",\"control\",\"control\",\"control\",\"control\",\"control\",\"control\",\"control\",\"control\",\"control\",\"control\"]},\"selected\":{\"id\":\"16185\"},\"selection_policy\":{\"id\":\"16186\"}},\"id\":\"15493\",\"type\":\"ColumnDataSource\"},{\"attributes\":{\"data\":{\"CTP\":{\"__ndarray__\":\"vhKT/fKitT99r1FhCZi1P8V+/u3hdLU//l2o6gk8tT/hBatAWce1P1pT+3QBKLU/+hicj8H5tD/MD7M0nPa0P6FBgwYNGrQ/jLBOF2T6sj9DzLdwg8GzPwUz9pPj+bM/SQ1NimBxtD+XGryKgw20P3yTjBcaGLQ/ztDafbgFtD8rTVesXzW1PxA++OCDD7U/HcJVnNv5tD+6xJhh8JS1P6NjydhLLbQ/pZIy8Qx5tT/YWUlueJ21PyTEOMlHLbU/7kRJcUextT99mYo+n3C2P3JCDW+B27Q/PJE6YOFrtT8SAScfAXK0PwunQRvd1LU/wOuTIMQvtT/fNYg572G1P4HV4v/2OLQ/\",\"dtype\":\"float64\",\"order\":\"little\",\"shape\":[33]},\"Clicks\":[785,884,827,788,652,697,860,864,642,697,669,693,771,736,727,728,722,695,724,789,743,808,831,767,760,850,851,831,802,829,770,724,710],\"Enrollments\":{\"__ndarray__\":\"AAAAAAAAXUAAAAAAACBiQAAAAAAAQGFAAAAAAAAgYEAAAAAAAIBXQAAAAAAAAF5AAAAAAAAgY0AAAAAAAOBhQAAAAAAAgF5AAAAAAABAaEAAAAAAAMBfQAAAAAAAIGNAAAAAAACgakAAAAAAAEBkQAAAAAAAIGlAAAAAAADgaUAAAAAAAMBmQAAAAAAAwGFAAAAAAADAZkAAAAAAAAD4fwAAAAAAAPh/AAAAAAAA+H8AAAAAAAD4fwAAAAAAAPh/AAAAAAAA+H8AAAAAAAD4fwAAAAAAAPh/AAAAAAAA+H8AAAAAAAD4fwAAAAAAAPh/AAAAAAAA+H8AAAAAAAD4fwAAAAAAAPh/\",\"dtype\":\"float64\",\"order\":\"little\",\"shape\":[33]},\"Pageviews\":[9288,10480,9867,9500,7664,8434,10496,10551,8176,9402,8669,8881,9655,9396,9262,9308,8715,8448,8836,9359,9427,9633,9842,9272,8969,9697,10445,9931,10042,9721,9304,8668,8988],\"Payments\":{\"__ndarray__\":\"AAAAAADAVkAAAAAAAMBTQAAAAAAAAFdAAAAAAACATkAAAAAAAABPQAAAAAAAQFNAAAAAAACAWEAAAAAAAMBRQAAAAAAAAFFAAAAAAACAV0AAAAAAAEBUQAAAAAAAQFlAAAAAAADAXUAAAAAAAABeQAAAAAAAAFhAAAAAAADAUEAAAAAAAMBeQAAAAAAAAFlAAAAAAADAWUAAAAAAAAD4fwAAAAAAAPh/AAAAAAAA+H8AAAAAAAD4fwAAAAAAAPh/AAAAAAAA+H8AAAAAAAD4fwAAAAAAAPh/AAAAAAAA+H8AAAAAAAD4fwAAAAAAAPh/AAAAAAAA+H8AAAAAAAD4fwAAAAAAAPh/\",\"dtype\":\"float64\",\"order\":\"little\",\"shape\":[33]},\"date\":{\"__ndarray__\":\"AABAeRqQdEIAAADfbJB0QgAAwES/kHRCAABAEGSRdEIAAMDbCJJ0QgAAgEFbknRCAABAp62SdEIAAAANAJN0QgAAgNikk3RCAABAPveTdEIAAACkSZR0QgAAwAmclHRCAACAb+6UdEIAAEDVQJV0QgAAADuTlXRCAADAoOWVdEIAAIAGOJZ0QgAAQGyKlnRCAAAA0tyWdEIAAMA3L5d0QgAAgJ2Bl3RCAABAA9SXdEIAAABpJph0QgAAwM54mHRCAACANMuYdEIAAECaHZl0QgAAAABwmXRCAADAZcKZdEIAAIDLFJp0QgAAQDFnmnRCAAAAl7madEIAAMD8C5t0QgAAgGJem3RC\",\"dtype\":\"float64\",\"order\":\"little\",\"shape\":[33]},\"day_of_week\":[\"Sun\",\"Mon\",\"Tue\",\"Thu\",\"Sat\",\"Sun\",\"Mon\",\"Tue\",\"Thu\",\"Fri\",\"Sat\",\"Sun\",\"Mon\",\"Tue\",\"Wed\",\"Thu\",\"Fri\",\"Sat\",\"Sun\",\"Mon\",\"Tue\",\"Wed\",\"Thu\",\"Fri\",\"Sat\",\"Sun\",\"Mon\",\"Tue\",\"Wed\",\"Thu\",\"Fri\",\"Sat\",\"Sun\"],\"gross_conversion\":{\"__ndarray__\":\"YXZFeybqwj911/501/7EP95cPOfvW8U/zfoz+E30xD8WZjWKOHTCPwoW5KuMCcY/flps46fFxj/3EtpLaC/FP/MP7NjwUsg/0JGLpEDQ0T+6Fyo6iEzIP/kJcVZ+Qsw/Uq5RrlGu0T9DFrKQhSzMP6LsoKHTsdE/KqMyKqMy0j+n9I/tCSLQP9RAMGsLJ8o/c1PRPKEW0D8AAAAAAAD4fwAAAAAAAPh/AAAAAAAA+H8AAAAAAAD4fwAAAAAAAPh/AAAAAAAA+H8AAAAAAAD4fwAAAAAAAPh/AAAAAAAA+H8AAAAAAAD4fwAAAAAAAPh/AAAAAAAA+H8AAAAAAAD4fwAAAAAAAPh/\",\"dtype\":\"float64\",\"order\":\"little\",\"shape\":[33]},\"index\":[1,2,3,5,7,8,9,10,12,13,14,15,16,17,18,19,20,21,22,23,24,25,26,27,28,29,30,31,32,33,34,35,36],\"net_conversion\":{\"__ndarray__\":\"UrWUuCqtvT9XueBWueC2P9J7UDSVerw/NevP4DfRsz8YW4Jv81e4P0gcyw/9R7w/5cDSSQ4svT+Y0F5Cewm1Pw+tZ/6BHbs/QxHZuTZDwT/399gd2v6+P9ieSh62p8I/lMGTwZPBwz9Ob3rTm97EP4us2qX/5sA/+HiP93iPtz83uzgwXM7FP6Ab8/TRasI/MCZx8L41wj8AAAAAAAD4fwAAAAAAAPh/AAAAAAAA+H8AAAAAAAD4fwAAAAAAAPh/AAAAAAAA+H8AAAAAAAD4fwAAAAAAAPh/AAAAAAAA+H8AAAAAAAD4fwAAAAAAAPh/AAAAAAAA+H8AAAAAAAD4fwAAAAAAAPh/\",\"dtype\":\"float64\",\"order\":\"little\",\"shape\":[33]},\"not_outlier_gross_conversion\":[false,false,false,false,false,false,false,false,false,false,false,false,false,false,false,false,false,false,false,false,false,false,false,false,false,false,false,false,false,false,false,false,false],\"not_outlier_net_conversion\":[false,false,false,false,true,false,true,false,false,false,false,false,false,false,true,false,false,false,false,false,false,false,false,false,false,false,false,false,false,false,false,false,false],\"not_outlier_retention\":[\"NaN\",\"NaN\",\"NaN\",\"NaN\",\"NaN\",\"NaN\",\"NaN\",\"NaN\",\"NaN\",\"NaN\",\"NaN\",\"NaN\",\"NaN\",\"NaN\",\"NaN\",\"NaN\",\"NaN\",\"NaN\",\"NaN\",\"NaN\",\"NaN\",\"NaN\",\"NaN\",\"NaN\",\"NaN\",\"NaN\",\"NaN\",\"NaN\",\"NaN\",\"NaN\",\"NaN\",\"NaN\",\"NaN\"],\"retention\":{\"__ndarray__\":\"uacRlnsa6T+k8xZDOm/hP1VVVVVVVeU/kTfkDXlD3j/UdzbqOxvlP4mIiIiIiOQ/1Cl/1Cl/5D89QvWZtsbfP96nuGQI1uE/X1z9oKMC3z8ajUaj0WjkP3XKH3XKH+U/bZHrTMDg4T9CewntJbTnP2e38Ksxkd4/9ncxqAi31D8GWqAFWqDlPyDRCpsDieY/wiEcwiEc4j8AAAAAAAD4fwAAAAAAAPh/AAAAAAAA+H8AAAAAAAD4fwAAAAAAAPh/AAAAAAAA+H8AAAAAAAD4fwAAAAAAAPh/AAAAAAAA+H8AAAAAAAD4fwAAAAAAAPh/AAAAAAAA+H8AAAAAAAD4fwAAAAAAAPh/\",\"dtype\":\"float64\",\"order\":\"little\",\"shape\":[33]},\"type\":[\"experiment\",\"experiment\",\"experiment\",\"experiment\",\"experiment\",\"experiment\",\"experiment\",\"experiment\",\"experiment\",\"experiment\",\"experiment\",\"experiment\",\"experiment\",\"experiment\",\"experiment\",\"experiment\",\"experiment\",\"experiment\",\"experiment\",\"experiment\",\"experiment\",\"experiment\",\"experiment\",\"experiment\",\"experiment\",\"experiment\",\"experiment\",\"experiment\",\"experiment\",\"experiment\",\"experiment\",\"experiment\",\"experiment\"]},\"selected\":{\"id\":\"16187\"},\"selection_policy\":{\"id\":\"16188\"}},\"id\":\"15499\",\"type\":\"ColumnDataSource\"},{\"attributes\":{\"data_source\":{\"id\":\"15487\"},\"glyph\":{\"id\":\"15489\"},\"hover_glyph\":null,\"muted_glyph\":null,\"nonselection_glyph\":{\"id\":\"15490\"},\"selection_glyph\":null,\"view\":{\"id\":\"15492\"}},\"id\":\"15491\",\"type\":\"GlyphRenderer\"},{\"attributes\":{\"fill_alpha\":{\"value\":0.1},\"fill_color\":{\"value\":\"red\"},\"line_alpha\":{\"value\":0.1},\"line_color\":{\"value\":\"navy\"},\"marker\":{\"value\":\"triangle\"},\"size\":{\"units\":\"screen\",\"value\":11},\"x\":{\"field\":\"date\"},\"y\":{\"field\":\"retention\"}},\"id\":\"15490\",\"type\":\"Scatter\"},{\"attributes\":{\"data_source\":{\"id\":\"15407\"},\"glyph\":{\"id\":\"15409\"},\"hover_glyph\":null,\"muted_glyph\":{\"id\":\"15411\"},\"nonselection_glyph\":{\"id\":\"15410\"},\"selection_glyph\":null,\"view\":{\"id\":\"15413\"}},\"id\":\"15412\",\"type\":\"GlyphRenderer\"},{\"attributes\":{},\"id\":\"15327\",\"type\":\"UnionRenderers\"},{\"attributes\":{},\"id\":\"15428\",\"type\":\"Selection\"},{\"attributes\":{\"days\":[1,2,3,4,5,6,7,8,9,10,11,12,13,14,15,16,17,18,19,20,21,22,23,24,25,26,27,28,29,30,31]},\"id\":\"15300\",\"type\":\"DaysTicker\"},{\"attributes\":{},\"id\":\"16182\",\"type\":\"UnionRenderers\"},{\"attributes\":{\"data_source\":{\"id\":\"15493\"},\"glyph\":{\"id\":\"15495\"},\"hover_glyph\":null,\"muted_glyph\":null,\"nonselection_glyph\":{\"id\":\"15496\"},\"selection_glyph\":null,\"view\":{\"id\":\"15498\"}},\"id\":\"15497\",\"type\":\"GlyphRenderer\"},{\"attributes\":{\"line_alpha\":0.8,\"line_color\":\"#1f77b4\",\"line_dash\":[6],\"line_width\":2,\"x\":{\"field\":\"date\"},\"y\":{\"field\":\"gross_conversion\"}},\"id\":\"15313\",\"type\":\"Line\"},{\"attributes\":{\"fill_alpha\":{\"value\":0.1},\"fill_color\":{\"value\":\"red\"},\"line_alpha\":{\"value\":0.1},\"line_color\":{\"value\":\"navy\"},\"marker\":{\"value\":\"triangle\"},\"size\":{\"units\":\"screen\",\"value\":11},\"x\":{\"field\":\"date\"},\"y\":{\"field\":\"net_conversion\"}},\"id\":\"15496\",\"type\":\"Scatter\"},{\"attributes\":{\"data\":{\"CTP\":{\"__ndarray__\":\"u/JDAI7Ctj++EpP98qK1P32vUWEJmLU/xX7+7eF0tT8hYzCF2b+1P/5dqOoJPLU/Gb9d6sn4tT9aU/t0ASi1P8wPszSc9rQ/oUGDBg0atD+MsE4XZPqyP0PMt3CDwbM/BTP2k+P5sz9JDU2KYHG0P5cavIqDDbQ/ztDafbgFtD8rTVesXzW1PxA++OCDD7U/HcJVnNv5tD+6xJhh8JS1P6NjydhLLbQ/pZIy8Qx5tT/YWUlueJ21PyTEOMlHLbU/7kRJcUextT99mYo+n3C2P3JCDW+B27Q/PJE6YOFrtT8SAScfAXK0PwunQRvd1LU/wOuTIMQvtT/fNYg572G1P4HV4v/2OLQ/\",\"dtype\":\"float64\",\"order\":\"little\",\"shape\":[33]},\"Clicks\":[686,785,884,827,832,788,780,697,864,642,697,669,693,771,736,728,722,695,724,789,743,808,831,767,760,850,851,831,802,829,770,724,710],\"Enrollments\":{\"__ndarray__\":\"AAAAAABAWkAAAAAAAABdQAAAAAAAIGJAAAAAAABAYUAAAAAAAIBhQAAAAAAAIGBAAAAAAADAX0AAAAAAAABeQAAAAAAA4GFAAAAAAACAXkAAAAAAAEBoQAAAAAAAwF9AAAAAAAAgY0AAAAAAAKBqQAAAAAAAQGRAAAAAAADgaUAAAAAAAMBmQAAAAAAAwGFAAAAAAADAZkAAAAAAAAD4fwAAAAAAAPh/AAAAAAAA+H8AAAAAAAD4fwAAAAAAAPh/AAAAAAAA+H8AAAAAAAD4fwAAAAAAAPh/AAAAAAAA+H8AAAAAAAD4fwAAAAAAAPh/AAAAAAAA+H8AAAAAAAD4fwAAAAAAAPh/\",\"dtype\":\"float64\",\"order\":\"little\",\"shape\":[33]},\"Pageviews\":[7716,9288,10480,9867,9793,9500,9088,8434,10551,8176,9402,8669,8881,9655,9396,9308,8715,8448,8836,9359,9427,9633,9842,9272,8969,9697,10445,9931,10042,9721,9304,8668,8988],\"Payments\":{\"__ndarray__\":\"AAAAAAAAQUAAAAAAAMBWQAAAAAAAwFNAAAAAAAAAV0AAAAAAAIBXQAAAAAAAgE5AAAAAAAAARkAAAAAAAEBTQAAAAAAAwFFAAAAAAAAAUUAAAAAAAIBXQAAAAAAAQFRAAAAAAABAWUAAAAAAAMBdQAAAAAAAAF5AAAAAAADAUEAAAAAAAMBeQAAAAAAAAFlAAAAAAADAWUAAAAAAAAD4fwAAAAAAAPh/AAAAAAAA+H8AAAAAAAD4fwAAAAAAAPh/AAAAAAAA+H8AAAAAAAD4fwAAAAAAAPh/AAAAAAAA+H8AAAAAAAD4fwAAAAAAAPh/AAAAAAAA+H8AAAAAAAD4fwAAAAAAAPh/\",\"dtype\":\"float64\",\"order\":\"little\",\"shape\":[33]},\"date\":{\"__ndarray__\":\"AACAE8iPdEIAAEB5GpB0QgAAAN9skHRCAADARL+QdEIAAICqEZF0QgAAQBBkkXRCAAAAdraRdEIAAIBBW5J0QgAAAA0Ak3RCAACA2KSTdEIAAEA+95N0QgAAAKRJlHRCAADACZyUdEIAAIBv7pR0QgAAQNVAlXRCAADAoOWVdEIAAIAGOJZ0QgAAQGyKlnRCAAAA0tyWdEIAAMA3L5d0QgAAgJ2Bl3RCAABAA9SXdEIAAABpJph0QgAAwM54mHRCAACANMuYdEIAAECaHZl0QgAAAABwmXRCAADAZcKZdEIAAIDLFJp0QgAAQDFnmnRCAAAAl7madEIAAMD8C5t0QgAAgGJem3RC\",\"dtype\":\"float64\",\"order\":\"little\",\"shape\":[33]},\"day_of_week\":[\"Sat\",\"Sun\",\"Mon\",\"Tue\",\"Wed\",\"Thu\",\"Fri\",\"Sun\",\"Tue\",\"Thu\",\"Fri\",\"Sat\",\"Sun\",\"Mon\",\"Tue\",\"Thu\",\"Fri\",\"Sat\",\"Sun\",\"Mon\",\"Tue\",\"Wed\",\"Thu\",\"Fri\",\"Sat\",\"Sun\",\"Mon\",\"Tue\",\"Wed\",\"Thu\",\"Fri\",\"Sat\",\"Sun\"],\"gross_conversion\":{\"__ndarray__\":\"5hS8nIKXwz9hdkV7JurCP3XX/nTX/sQ/3lw85+9bxT+e2Imd2InFP836M/hN9MQ/dU3XdE3XxD8KFuSrjAnGP/cS2ktoL8U/8w/s2PBSyD/QkYukQNDRP7oXKjqITMg/+QlxVn5CzD9SrlGuUa7RP0MWspCFLMw/KqMyKqMy0j+n9I/tCSLQP9RAMGsLJ8o/c1PRPKEW0D8AAAAAAAD4fwAAAAAAAPh/AAAAAAAA+H8AAAAAAAD4fwAAAAAAAPh/AAAAAAAA+H8AAAAAAAD4fwAAAAAAAPh/AAAAAAAA+H8AAAAAAAD4fwAAAAAAAPh/AAAAAAAA+H8AAAAAAAD4fwAAAAAAAPh/\",\"dtype\":\"float64\",\"order\":\"little\",\"shape\":[33]},\"index\":[0,1,2,3,4,5,6,8,10,12,13,14,15,16,17,19,20,21,22,23,24,25,26,27,28,29,30,31,32,33,34,35,36],\"net_conversion\":{\"__ndarray__\":\"D/RvpkdgqT9StZS4Kq29P1e54Fa54LY/0ntQNJV6vD/FTuzETuy8PzXrz+A30bM/Hc7hHM7hrD9IHMsP/Ue8P5jQXkJ7CbU/D61n/oEduz9DEdm5NkPBP/f32B3a/r4/2J5KHranwj+UwZPBk8HDP05vetOb3sQ/+HiP93iPtz83uzgwXM7FP6Ab8/TRasI/MCZx8L41wj8AAAAAAAD4fwAAAAAAAPh/AAAAAAAA+H8AAAAAAAD4fwAAAAAAAPh/AAAAAAAA+H8AAAAAAAD4fwAAAAAAAPh/AAAAAAAA+H8AAAAAAAD4fwAAAAAAAPh/AAAAAAAA+H8AAAAAAAD4fwAAAAAAAPh/\",\"dtype\":\"float64\",\"order\":\"little\",\"shape\":[33]},\"not_outlier_gross_conversion\":[true,false,false,false,true,false,true,false,false,false,false,false,false,false,false,false,false,false,false,false,false,false,false,false,false,false,false,false,false,false,false,false,false],\"not_outlier_net_conversion\":[false,false,false,false,false,false,false,false,false,false,false,false,false,false,false,false,false,false,false,false,false,false,false,false,false,false,false,false,false,false,false,false,false],\"not_outlier_retention\":[\"NaN\",\"NaN\",\"NaN\",\"NaN\",\"NaN\",\"NaN\",\"NaN\",\"NaN\",\"NaN\",\"NaN\",\"NaN\",\"NaN\",\"NaN\",\"NaN\",\"NaN\",\"NaN\",\"NaN\",\"NaN\",\"NaN\",\"NaN\",\"NaN\",\"NaN\",\"NaN\",\"NaN\",\"NaN\",\"NaN\",\"NaN\",\"NaN\",\"NaN\",\"NaN\",\"NaN\",\"NaN\",\"NaN\"],\"retention\":{\"__ndarray__\":\"lUu5lEu51D+5pxGWexrpP6TzFkM6b+E/VVVVVVVV5T/FV3zFV3zlP5E35A15Q94/i8VisVgs1j+JiIiIiIjkPz1C9Zm2xt8/3qe4ZAjW4T9fXP2gowLfPxqNRqPRaOQ/dcofdcof5T9tketMwODhP0J7Ce0ltOc/9ncxqAi31D8GWqAFWqDlPyDRCpsDieY/wiEcwiEc4j8AAAAAAAD4fwAAAAAAAPh/AAAAAAAA+H8AAAAAAAD4fwAAAAAAAPh/AAAAAAAA+H8AAAAAAAD4fwAAAAAAAPh/AAAAAAAA+H8AAAAAAAD4fwAAAAAAAPh/AAAAAAAA+H8AAAAAAAD4fwAAAAAAAPh/\",\"dtype\":\"float64\",\"order\":\"little\",\"shape\":[33]},\"type\":[\"experiment\",\"experiment\",\"experiment\",\"experiment\",\"experiment\",\"experiment\",\"experiment\",\"experiment\",\"experiment\",\"experiment\",\"experiment\",\"experiment\",\"experiment\",\"experiment\",\"experiment\",\"experiment\",\"experiment\",\"experiment\",\"experiment\",\"experiment\",\"experiment\",\"experiment\",\"experiment\",\"experiment\",\"experiment\",\"experiment\",\"experiment\",\"experiment\",\"experiment\",\"experiment\",\"experiment\",\"experiment\",\"experiment\"]},\"selected\":{\"id\":\"16189\"},\"selection_policy\":{\"id\":\"16190\"}},\"id\":\"15505\",\"type\":\"ColumnDataSource\"},{\"attributes\":{\"label\":{\"value\":\"net_conversion,control\"},\"renderers\":[{\"id\":\"15412\"}]},\"id\":\"15442\",\"type\":\"LegendItem\"},{\"attributes\":{},\"id\":\"15296\",\"type\":\"UnionRenderers\"},{\"attributes\":{\"days\":[1,4,7,10,13,16,19,22,25,28]},\"id\":\"15301\",\"type\":\"DaysTicker\"},{\"attributes\":{\"line_alpha\":0.1,\"line_color\":\"#ff7f0e\",\"line_width\":2,\"x\":{\"field\":\"date\"},\"y\":{\"field\":\"retention\"}},\"id\":\"15344\",\"type\":\"Line\"},{\"attributes\":{\"source\":{\"id\":\"15407\"}},\"id\":\"15413\",\"type\":\"CDSView\"},{\"attributes\":{},\"id\":\"15295\",\"type\":\"Selection\"},{\"attributes\":{\"data_source\":{\"id\":\"15499\"},\"glyph\":{\"id\":\"15501\"},\"hover_glyph\":null,\"muted_glyph\":null,\"nonselection_glyph\":{\"id\":\"15502\"},\"selection_glyph\":null,\"view\":{\"id\":\"15504\"}},\"id\":\"15503\",\"type\":\"GlyphRenderer\"},{\"attributes\":{},\"id\":\"15429\",\"type\":\"UnionRenderers\"},{\"attributes\":{\"line_alpha\":0.2,\"line_color\":\"#2ca02c\",\"line_width\":2,\"x\":{\"field\":\"date\"},\"y\":{\"field\":\"net_conversion\"}},\"id\":\"15411\",\"type\":\"Line\"},{\"attributes\":{\"line_alpha\":0.8,\"line_color\":\"#2ca02c\",\"line_width\":2,\"x\":{\"field\":\"date\"},\"y\":{\"field\":\"net_conversion\"}},\"id\":\"15409\",\"type\":\"Line\"},{\"attributes\":{\"fill_alpha\":{\"value\":0.1},\"fill_color\":{\"value\":\"grey\"},\"line_alpha\":{\"value\":0.1},\"line_color\":{\"value\":\"navy\"},\"marker\":{\"value\":\"triangle\"},\"size\":{\"units\":\"screen\",\"value\":11},\"x\":{\"field\":\"date\"},\"y\":{\"field\":\"gross_conversion\"}},\"id\":\"15502\",\"type\":\"Scatter\"},{\"attributes\":{},\"id\":\"15326\",\"type\":\"Selection\"},{\"attributes\":{\"source\":{\"id\":\"15311\"}},\"id\":\"15317\",\"type\":\"CDSView\"},{\"attributes\":{\"line_alpha\":0.1,\"line_color\":\"#2ca02c\",\"line_width\":2,\"x\":{\"field\":\"date\"},\"y\":{\"field\":\"net_conversion\"}},\"id\":\"15410\",\"type\":\"Line\"},{\"attributes\":{\"data_source\":{\"id\":\"15311\"},\"glyph\":{\"id\":\"15313\"},\"hover_glyph\":null,\"muted_glyph\":{\"id\":\"15315\"},\"nonselection_glyph\":{\"id\":\"15314\"},\"selection_glyph\":null,\"view\":{\"id\":\"15317\"}},\"id\":\"15316\",\"type\":\"GlyphRenderer\"},{\"attributes\":{\"line_alpha\":0.1,\"line_color\":\"#1f77b4\",\"line_dash\":[6],\"line_width\":2,\"x\":{\"field\":\"date\"},\"y\":{\"field\":\"gross_conversion\"}},\"id\":\"15314\",\"type\":\"Line\"},{\"attributes\":{\"line_alpha\":0.2,\"line_color\":\"#1f77b4\",\"line_dash\":[6],\"line_width\":2,\"x\":{\"field\":\"date\"},\"y\":{\"field\":\"gross_conversion\"}},\"id\":\"15315\",\"type\":\"Line\"},{\"attributes\":{\"data_source\":{\"id\":\"15505\"},\"glyph\":{\"id\":\"15507\"},\"hover_glyph\":null,\"muted_glyph\":null,\"nonselection_glyph\":{\"id\":\"15508\"},\"selection_glyph\":null,\"view\":{\"id\":\"15510\"}},\"id\":\"15509\",\"type\":\"GlyphRenderer\"},{\"attributes\":{},\"id\":\"16181\",\"type\":\"Selection\"},{\"attributes\":{\"fill_alpha\":{\"value\":0.1},\"fill_color\":{\"value\":\"grey\"},\"line_alpha\":{\"value\":0.1},\"line_color\":{\"value\":\"navy\"},\"marker\":{\"value\":\"triangle\"},\"size\":{\"units\":\"screen\",\"value\":11},\"x\":{\"field\":\"date\"},\"y\":{\"field\":\"net_conversion\"}},\"id\":\"15508\",\"type\":\"Scatter\"},{\"attributes\":{\"base\":60,\"mantissas\":[1,2,5,10,15,20,30],\"max_interval\":1800000.0,\"min_interval\":1000.0,\"num_minor_ticks\":0},\"id\":\"15298\",\"type\":\"AdaptiveTicker\"},{\"attributes\":{\"days\":[1,8,15,22]},\"id\":\"15302\",\"type\":\"DaysTicker\"},{\"attributes\":{\"line_alpha\":0.2,\"line_color\":\"#2ca02c\",\"line_dash\":[6],\"line_width\":2,\"x\":{\"field\":\"date\"},\"y\":{\"field\":\"net_conversion\"}},\"id\":\"15447\",\"type\":\"Line\"},{\"attributes\":{},\"id\":\"15358\",\"type\":\"Selection\"},{\"attributes\":{},\"id\":\"16183\",\"type\":\"Selection\"},{\"attributes\":{},\"id\":\"16184\",\"type\":\"UnionRenderers\"},{\"attributes\":{\"base\":24,\"mantissas\":[1,2,4,6,8,12],\"max_interval\":43200000.0,\"min_interval\":3600000.0,\"num_minor_ticks\":0},\"id\":\"15299\",\"type\":\"AdaptiveTicker\"},{\"attributes\":{\"label\":{\"value\":\"retention,control\"},\"renderers\":[{\"id\":\"15346\"}]},\"id\":\"15372\",\"type\":\"LegendItem\"},{\"attributes\":{\"data\":{\"CTP\":{\"__ndarray__\":\"j14Z2+/otT+TsuSOmyO2P6jzY+5orrU/ETcFxrFltT81yqcVrcm1PwCzRZyHw7U/OSbTnYPptD+8FOCV0am0P18RJ9YtkbU/uIWh/6JztD+AsmM/MEOyPxuRfFMBXbQ/kFaTEMVftD8tFvdhmx+0P7624gSSSLQ/r/z4/4AbtD/ikdfVi1S0P4aQ8mRqm7Q/FFAt2e4TtD+j0PkzVGC1PwX1BkCBObU/d/8pn7GItT9euNdYzWq1P1LPL9oyN7U/B80oAup6tT/crLdSVt+1PwHmVUiAebU/GVjt/Y2BtT8CFNx0BTy0P2XRpFD/cbU/Uvt4NVB4tD/APAC0Ugq2PzZ2FegGm7Q/\",\"dtype\":\"float64\",\"order\":\"little\",\"shape\":[33]},\"Clicks\":[779,909,836,837,823,632,691,861,838,665,673,691,708,736,739,734,706,681,693,788,781,805,830,781,756,825,874,830,801,814,735,743,722],\"Enrollments\":{\"__ndarray__\":\"AAAAAABgYkAAAAAAAOBkQAAAAAAAgGNAAAAAAABgZEAAAAAAAEBhQAAAAAAAgFtAAAAAAABgYEAAAAAAAKBkQAAAAAAAQGRAAAAAAADAX0AAAAAAAIBrQAAAAAAAAGZAAAAAAAAgZEAAAAAAAEBjQAAAAAAAgGhAAAAAAADgZEAAAAAAAMBlQAAAAAAAgGNAAAAAAADAaUAAAAAAAAD4fwAAAAAAAPh/AAAAAAAA+H8AAAAAAAD4fwAAAAAAAPh/AAAAAAAA+H8AAAAAAAD4fwAAAAAAAPh/AAAAAAAA+H8AAAAAAAD4fwAAAAAAAPh/AAAAAAAA+H8AAAAAAAD4fwAAAAAAAPh/\",\"dtype\":\"float64\",\"order\":\"little\",\"shape\":[33]},\"Pageviews\":[9102,10511,9871,10014,9670,7434,8459,10667,9947,8324,9434,8687,8896,9363,9327,9345,8890,8460,8836,9437,9420,9570,9921,9424,9010,9656,10419,9880,10134,9717,9192,8630,8970],\"Payments\":{\"__ndarray__\":\"AAAAAACAUUAAAAAAAMBXQAAAAAAAQFpAAAAAAAAAUEAAAAAAAIBUQAAAAAAAgFFAAAAAAAAATkAAAAAAAEBYQAAAAAAAAFdAAAAAAAAATEAAAAAAAIBeQAAAAAAAAGBAAAAAAAAAWkAAAAAAAMBWQAAAAAAAgFVAAAAAAADAUkAAAAAAAEBZQAAAAAAAQFdAAAAAAADAUEAAAAAAAAD4fwAAAAAAAPh/AAAAAAAA+H8AAAAAAAD4fwAAAAAAAPh/AAAAAAAA+H8AAAAAAAD4fwAAAAAAAPh/AAAAAAAA+H8AAAAAAAD4fwAAAAAAAPh/AAAAAAAA+H8AAAAAAAD4fwAAAAAAAPh/\",\"dtype\":\"float64\",\"order\":\"little\",\"shape\":[33]},\"date\":{\"__ndarray__\":\"AABAeRqQdEIAAADfbJB0QgAAwES/kHRCAACAqhGRdEIAAEAQZJF0QgAAwNsIknRCAACAQVuSdEIAAECnrZJ0QgAAwHJSk3RCAACA2KSTdEIAAEA+95N0QgAAAKRJlHRCAADACZyUdEIAAEDVQJV0QgAAADuTlXRCAADAoOWVdEIAAIAGOJZ0QgAAQGyKlnRCAAAA0tyWdEIAAMA3L5d0QgAAgJ2Bl3RCAABAA9SXdEIAAABpJph0QgAAwM54mHRCAACANMuYdEIAAECaHZl0QgAAAABwmXRCAADAZcKZdEIAAIDLFJp0QgAAQDFnmnRCAAAAl7madEIAAMD8C5t0QgAAgGJem3RC\",\"dtype\":\"float64\",\"order\":\"little\",\"shape\":[33]},\"day_of_week\":[\"Sun\",\"Mon\",\"Tue\",\"Wed\",\"Thu\",\"Sat\",\"Sun\",\"Mon\",\"Wed\",\"Thu\",\"Fri\",\"Sat\",\"Sun\",\"Tue\",\"Wed\",\"Thu\",\"Fri\",\"Sat\",\"Sun\",\"Mon\",\"Tue\",\"Wed\",\"Thu\",\"Fri\",\"Sat\",\"Sun\",\"Mon\",\"Tue\",\"Wed\",\"Thu\",\"Fri\",\"Sat\",\"Sun\"],\"gross_conversion\":{\"__ndarray__\":\"vG+EZ28nyD93h1tnFYTHP0HbvVWa4sc/tAq5x1ftyD8QGx9Eg3bFP4/sGYhKR8Y/f66z+SpEyD/RKjD2lIfIP9MijROgvsg/H4dJ6fJxyD8VKRTr1uvUP/NViDAPTdA/KCQX8HobzT8tZCELWcjKP2AkvQpr+dA/YVvTv2MfzT8HtiVM94vPP2CZKHRTUs0/HxlMqkcG0z8AAAAAAAD4fwAAAAAAAPh/AAAAAAAA+H8AAAAAAAD4fwAAAAAAAPh/AAAAAAAA+H8AAAAAAAD4fwAAAAAAAPh/AAAAAAAA+H8AAAAAAAD4fwAAAAAAAPh/AAAAAAAA+H8AAAAAAAD4fwAAAAAAAPh/\",\"dtype\":\"float64\",\"order\":\"little\",\"shape\":[33]},\"index\":[1,2,3,4,5,7,8,9,11,12,13,14,15,17,18,19,20,21,22,23,24,25,26,27,28,29,30,31,32,33,34,35,36],\"net_conversion\":{\"__ndarray__\":\"y4KWYvwAtz/yNFRpMsG6P38YLByZE8A/Iff4qh2Tsz+Ymun3tYG5P7W4CfO7Wrw/wKOiE4k6tj+z05gWRNe8P0ys4g/iGrw/7ViBMNKOtT8X48voHDTHPzM3aYzntcc/+ZRp52DNwj9605ve9Ka/P46tufimyr0/d3shMHUouj/bEqb7xU/CP9KCBNTsesE/XwBjpBfAuD8AAAAAAAD4fwAAAAAAAPh/AAAAAAAA+H8AAAAAAAD4fwAAAAAAAPh/AAAAAAAA+H8AAAAAAAD4fwAAAAAAAPh/AAAAAAAA+H8AAAAAAAD4fwAAAAAAAPh/AAAAAAAA+H8AAAAAAAD4fwAAAAAAAPh/\",\"dtype\":\"float64\",\"order\":\"little\",\"shape\":[33]},\"not_outlier_gross_conversion\":[false,false,false,false,false,false,false,false,false,false,false,false,false,true,false,false,false,false,false,false,false,false,false,false,false,false,false,false,false,false,false,false,false],\"not_outlier_net_conversion\":[false,false,false,false,false,true,false,true,true,false,false,false,false,false,false,false,false,false,false,false,false,false,false,false,false,false,false,false,false,false,false,false,false],\"not_outlier_retention\":[false,false,false,false,false,false,false,false,false,false,false,false,false,false,false,false,false,false,false,false,false,false,false,false,false,false,false,false,false,false,false,false,false],\"retention\":{\"__ndarray__\":\"nud5nud53j/XbJ+oHjTiP57YiZ3YieU/KeLQSfsg2T8w1w7MtQPjP1100UUXXeQ/Sp5lRB9Q3T/Qcv4s58/iPxl4ujU/LOI/DofD4XA43D+/Ye0b1r7hP0YXXXTRRec/3VWKCbqr5D/poosuuujiPwUvp+DlFNw/ljIJdhW+3D8GMileIJPiPzuxEzuxE+M/72C/1cbQ1D8AAAAAAAD4fwAAAAAAAPh/AAAAAAAA+H8AAAAAAAD4fwAAAAAAAPh/AAAAAAAA+H8AAAAAAAD4fwAAAAAAAPh/AAAAAAAA+H8AAAAAAAD4fwAAAAAAAPh/AAAAAAAA+H8AAAAAAAD4fwAAAAAAAPh/\",\"dtype\":\"float64\",\"order\":\"little\",\"shape\":[33]},\"type\":[\"control\",\"control\",\"control\",\"control\",\"control\",\"control\",\"control\",\"control\",\"control\",\"control\",\"control\",\"control\",\"control\",\"control\",\"control\",\"control\",\"control\",\"control\",\"control\",\"control\",\"control\",\"control\",\"control\",\"control\",\"control\",\"control\",\"control\",\"control\",\"control\",\"control\",\"control\",\"control\",\"control\"]},\"selected\":{\"id\":\"16183\"},\"selection_policy\":{\"id\":\"16184\"}},\"id\":\"15487\",\"type\":\"ColumnDataSource\"},{\"attributes\":{\"data_source\":{\"id\":\"15443\"},\"glyph\":{\"id\":\"15445\"},\"hover_glyph\":null,\"muted_glyph\":{\"id\":\"15447\"},\"nonselection_glyph\":{\"id\":\"15446\"},\"selection_glyph\":null,\"view\":{\"id\":\"15449\"}},\"id\":\"15448\",\"type\":\"GlyphRenderer\"},{\"attributes\":{\"source\":{\"id\":\"15341\"}},\"id\":\"15347\",\"type\":\"CDSView\"},{\"attributes\":{\"line_alpha\":0.1,\"line_color\":\"#2ca02c\",\"line_dash\":[6],\"line_width\":2,\"x\":{\"field\":\"date\"},\"y\":{\"field\":\"net_conversion\"}},\"id\":\"15446\",\"type\":\"Line\"},{\"attributes\":{},\"id\":\"15359\",\"type\":\"UnionRenderers\"},{\"attributes\":{\"line_alpha\":0.2,\"line_color\":\"#ff7f0e\",\"line_width\":2,\"x\":{\"field\":\"date\"},\"y\":{\"field\":\"retention\"}},\"id\":\"15345\",\"type\":\"Line\"},{\"attributes\":{\"line_alpha\":0.8,\"line_color\":\"#2ca02c\",\"line_dash\":[6],\"line_width\":2,\"x\":{\"field\":\"date\"},\"y\":{\"field\":\"net_conversion\"}},\"id\":\"15445\",\"type\":\"Line\"},{\"attributes\":{\"mantissas\":[1,2,5],\"max_interval\":500.0,\"num_minor_ticks\":0},\"id\":\"15297\",\"type\":\"AdaptiveTicker\"},{\"attributes\":{\"source\":{\"id\":\"15443\"}},\"id\":\"15449\",\"type\":\"CDSView\"},{\"attributes\":{\"data\":{\"CTP\":{\"__ndarray__\":\"4vBXacLFtj+PXhnb7+i1P5Oy5I6bI7Y/qPNj7miutT8RNwXGsWW1PzXKpxWtybU/UGucuO5BtT8As0Wch8O1Pzkm052D6bQ/vBTgldGptD9It6zqLdK0P18RJ9YtkbU/uIWh/6JztD+AsmM/MEOyPxuRfFMBXbQ/kFaTEMVftD/rKPQGw2C0Py0W92GbH7Q/vrbiBJJItD+v/Pj/gBu0P+KR19WLVLQ/hpDyZGqbtD8UUC3Z7hO0P6PQ+TNUYLU/BfUGQIE5tT93/ymfsYi1P16411jNarU/Us8v2jI3tT8HzSgC6nq1P9yst1JW37U/AeZVSIB5tT8ZWO39jYG1PwIU3HQFPLQ/ZdGkUP9xtT9S+3g1UHi0P8A8ALRSCrY/NnYV6AabtD8=\",\"dtype\":\"float64\",\"order\":\"little\",\"shape\":[37]},\"Clicks\":[687,779,909,836,837,823,748,632,691,861,867,838,665,673,691,708,759,736,739,734,706,681,693,788,781,805,830,781,756,825,874,830,801,814,735,743,722],\"Enrollments\":{\"__ndarray__\":\"AAAAAADAYEAAAAAAAGBiQAAAAAAA4GRAAAAAAACAY0AAAAAAAGBkQAAAAAAAQGFAAAAAAABAYkAAAAAAAIBbQAAAAAAAYGBAAAAAAACgZEAAAAAAAIBoQAAAAAAAQGRAAAAAAADAX0AAAAAAAIBrQAAAAAAAAGZAAAAAAAAgZEAAAAAAACBtQAAAAAAAQGNAAAAAAACAaEAAAAAAAOBkQAAAAAAAwGVAAAAAAACAY0AAAAAAAMBpQAAAAAAAAPh/AAAAAAAA+H8AAAAAAAD4fwAAAAAAAPh/AAAAAAAA+H8AAAAAAAD4fwAAAAAAAPh/AAAAAAAA+H8AAAAAAAD4fwAAAAAAAPh/AAAAAAAA+H8AAAAAAAD4fwAAAAAAAPh/AAAAAAAA+H8=\",\"dtype\":\"float64\",\"order\":\"little\",\"shape\":[37]},\"Pageviews\":[7723,9102,10511,9871,10014,9670,9008,7434,8459,10667,10660,9947,8324,9434,8687,8896,9535,9363,9327,9345,8890,8460,8836,9437,9420,9570,9921,9424,9010,9656,10419,9880,10134,9717,9192,8630,8970],\"Payments\":{\"__ndarray__\":\"AAAAAACAUUAAAAAAAIBRQAAAAAAAwFdAAAAAAABAWkAAAAAAAABQQAAAAAAAgFRAAAAAAAAAU0AAAAAAAIBRQAAAAAAAAE5AAAAAAABAWEAAAAAAAEBaQAAAAAAAAFdAAAAAAAAATEAAAAAAAIBeQAAAAAAAAGBAAAAAAAAAWkAAAAAAAABfQAAAAAAAwFZAAAAAAACAVUAAAAAAAMBSQAAAAAAAQFlAAAAAAABAV0AAAAAAAMBQQAAAAAAAAPh/AAAAAAAA+H8AAAAAAAD4fwAAAAAAAPh/AAAAAAAA+H8AAAAAAAD4fwAAAAAAAPh/AAAAAAAA+H8AAAAAAAD4fwAAAAAAAPh/AAAAAAAA+H8AAAAAAAD4fwAAAAAAAPh/AAAAAAAA+H8=\",\"dtype\":\"float64\",\"order\":\"little\",\"shape\":[37]},\"date\":{\"__ndarray__\":\"AACAE8iPdEIAAEB5GpB0QgAAAN9skHRCAADARL+QdEIAAICqEZF0QgAAQBBkkXRCAAAAdraRdEIAAMDbCJJ0QgAAgEFbknRCAABAp62SdEIAAAANAJN0QgAAwHJSk3RCAACA2KSTdEIAAEA+95N0QgAAAKRJlHRCAADACZyUdEIAAIBv7pR0QgAAQNVAlXRCAAAAO5OVdEIAAMCg5ZV0QgAAgAY4lnRCAABAbIqWdEIAAADS3JZ0QgAAwDcvl3RCAACAnYGXdEIAAEAD1Jd0QgAAAGkmmHRCAADAzniYdEIAAIA0y5h0QgAAQJodmXRCAAAAAHCZdEIAAMBlwpl0QgAAgMsUmnRCAABAMWeadEIAAACXuZp0QgAAwPwLm3RCAACAYl6bdEI=\",\"dtype\":\"float64\",\"order\":\"little\",\"shape\":[37]},\"day_of_week\":[\"Sat\",\"Sun\",\"Mon\",\"Tue\",\"Wed\",\"Thu\",\"Fri\",\"Sat\",\"Sun\",\"Mon\",\"Tue\",\"Wed\",\"Thu\",\"Fri\",\"Sat\",\"Sun\",\"Mon\",\"Tue\",\"Wed\",\"Thu\",\"Fri\",\"Sat\",\"Sun\",\"Mon\",\"Tue\",\"Wed\",\"Thu\",\"Fri\",\"Sat\",\"Sun\",\"Mon\",\"Tue\",\"Wed\",\"Thu\",\"Fri\",\"Sat\",\"Sun\"],\"gross_conversion\":{\"__ndarray__\":\"zUZe7W33yD+8b4RnbyfIP3eHW2cVhMc/Qdu9VZrixz+0CrnHV+3IPxAbH0SDdsU//FjNnuT7yD+P7BmISkfGP3+us/kqRMg/0Sow9pSHyD8OO2iVwu/MP9MijROgvsg/H4dJ6fJxyD8VKRTr1uvUP/NViDAPTdA/KCQX8HobzT/dECJ9m6XTPy1kIQtZyMo/YCS9Cmv50D9hW9O/Yx/NPwe2JUz3i88/YJkodFNSzT8fGUyqRwbTPwAAAAAAAPh/AAAAAAAA+H8AAAAAAAD4fwAAAAAAAPh/AAAAAAAA+H8AAAAAAAD4fwAAAAAAAPh/AAAAAAAA+H8AAAAAAAD4fwAAAAAAAPh/AAAAAAAA+H8AAAAAAAD4fwAAAAAAAPh/AAAAAAAA+H8=\",\"dtype\":\"float64\",\"order\":\"little\",\"shape\":[37]},\"index\":[0,1,2,3,4,5,6,7,8,9,10,11,12,13,14,15,16,17,18,19,20,21,22,23,24,25,26,27,28,29,30,31,32,33,34,35,36],\"net_conversion\":{\"__ndarray__\":\"VEIS4ZwVuj/LgpZi/AC3P/I0VGkywbo/fxgsHJkTwD8h9/iqHZOzP5ia6fe1gbk/Axp367wCuj+1uAnzu1q8P8CjohOJOrY/s9OYFkTXvD9qiKbE4gC/P0ys4g/iGrw/7ViBMNKOtT8X48voHDTHPzM3aYzntcc/+ZRp52DNwj83hEjfZunEP3rTm970pr8/jq25+KbKvT93eyEwdSi6P9sSpvvFT8I/0oIE1Ox6wT9fAGOkF8C4PwAAAAAAAPh/AAAAAAAA+H8AAAAAAAD4fwAAAAAAAPh/AAAAAAAA+H8AAAAAAAD4fwAAAAAAAPh/AAAAAAAA+H8AAAAAAAD4fwAAAAAAAPh/AAAAAAAA+H8AAAAAAAD4fwAAAAAAAPh/AAAAAAAA+H8=\",\"dtype\":\"float64\",\"order\":\"little\",\"shape\":[37]},\"not_outlier_gross_conversion\":[false,false,false,false,false,false,false,false,false,false,false,false,false,false,false,false,false,true,false,false,false,false,false,false,false,false,false,false,false,false,false,false,false,false,false,false,false],\"not_outlier_net_conversion\":[false,false,false,false,false,false,false,true,false,true,false,true,false,false,false,false,false,false,false,false,false,false,false,false,false,false,false,false,false,false,false,false,false,false,false,false,false],\"not_outlier_retention\":[true,false,false,false,false,false,true,false,false,false,true,false,false,false,false,false,true,false,false,false,false,false,false,false,false,false,false,false,false,false,false,false,false,false,false,false,false],\"retention\":{\"__ndarray__\":\"TKQHKme34D+e53me53neP9dsn6geNOI/ntiJndiJ5T8p4tBJ+yDZPzDXDsy1A+M/hQoVKlSo4D9ddNFFF13kP0qeZUQfUN0/0HL+LOfP4j9JkiRJkiThPxl4ujU/LOI/DofD4XA43D+/Ye0b1r7hP0YXXXTRRec/3VWKCbqr5D+HPYjksAfhP+miiy666OI/BS+n4OUU3D+WMgl2Fb7cPwYyKV4gk+I/O7ETO7ET4z/vYL/VxtDUPwAAAAAAAPh/AAAAAAAA+H8AAAAAAAD4fwAAAAAAAPh/AAAAAAAA+H8AAAAAAAD4fwAAAAAAAPh/AAAAAAAA+H8AAAAAAAD4fwAAAAAAAPh/AAAAAAAA+H8AAAAAAAD4fwAAAAAAAPh/AAAAAAAA+H8=\",\"dtype\":\"float64\",\"order\":\"little\",\"shape\":[37]},\"type\":[\"control\",\"control\",\"control\",\"control\",\"control\",\"control\",\"control\",\"control\",\"control\",\"control\",\"control\",\"control\",\"control\",\"control\",\"control\",\"control\",\"control\",\"control\",\"control\",\"control\",\"control\",\"control\",\"control\",\"control\",\"control\",\"control\",\"control\",\"control\",\"control\",\"control\",\"control\",\"control\",\"control\",\"control\",\"control\",\"control\",\"control\"]},\"selected\":{\"id\":\"15428\"},\"selection_policy\":{\"id\":\"15429\"}},\"id\":\"15407\",\"type\":\"ColumnDataSource\"},{\"attributes\":{},\"id\":\"16185\",\"type\":\"Selection\"}],\"root_ids\":[\"15262\"]},\"title\":\"Bokeh Application\",\"version\":\"2.2.1\"}};\n",
       "  var render_items = [{\"docid\":\"ef5a266f-da38-4795-8027-22fbbd107954\",\"root_ids\":[\"15262\"],\"roots\":{\"15262\":\"720455f6-d8e2-41c2-bd9b-bf62e86b789d\"}}];\n",
       "  root.Bokeh.embed.embed_items_notebook(docs_json, render_items);\n",
       "\n",
       "  }\n",
       "  if (root.Bokeh !== undefined) {\n",
       "    embed_document(root);\n",
       "  } else {\n",
       "    var attempts = 0;\n",
       "    var timer = setInterval(function(root) {\n",
       "      if (root.Bokeh !== undefined) {\n",
       "        clearInterval(timer);\n",
       "        embed_document(root);\n",
       "      } else {\n",
       "        attempts++;\n",
       "        if (attempts > 100) {\n",
       "          clearInterval(timer);\n",
       "          console.log(\"Bokeh: ERROR: Unable to run BokehJS code because BokehJS library is missing\");\n",
       "        }\n",
       "      }\n",
       "    }, 10, root)\n",
       "  }\n",
       "})(window);"
      ],
      "application/vnd.bokehjs_exec.v0+json": ""
     },
     "metadata": {
      "application/vnd.bokehjs_exec.v0+json": {
       "id": "15262"
      }
     },
     "output_type": "display_data"
    }
   ],
   "source": [
    "# Bokeh is easier to stack the plots compared to plotly\n",
    "## Red triangle markers means outliers in control group and grey triangle markers means outliers in experiment group\n",
    "cl = Category10[len(metric_list)]\n",
    "col_x = 'date'\n",
    "\n",
    "p = figure(plot_width=900, plot_height=400,x_axis_type='datetime',tools='hover')\n",
    "for name, color in zip( metric_list,  cl[:len(metric_list)]):\n",
    "    pt=p.line(col_x,name, line_width=2, color = color, alpha=0.8,\n",
    "                muted_color=color, source=df_concat[df_concat['type']=='control']\n",
    "              , muted_alpha=0.2,legend_label=name+',control')\n",
    "    pt=p.line(col_x,name, line_width=2, color = color, alpha=0.8,\n",
    "                muted_color=color, source=df_concat[df_concat['type']=='experiment']\n",
    "              , muted_alpha=0.2,legend_label=name+',experiment',line_dash='dashed')\n",
    "\n",
    "\n",
    "for t,color in zip(('control','experiment'),('red','grey')):\n",
    "    for m in metric_list:\n",
    "        if not(t=='experiment' and m == 'retention'):\n",
    "            ps = p.scatter(x='date', y=m, source=df_concat[(df_concat['type']==t)&(df_concat[f'not_outlier_{m}']==False)]\n",
    "                      , marker='triangle', size=11, line_color=\"navy\", fill_color=color, alpha=0.5)\n",
    "\n",
    "p.legend.border_line_width = 1.2\n",
    "p.legend.border_line_color = \"grey\"\n",
    "p.legend.background_fill_alpha = 0.5\n",
    "\n",
    "p.legend.click_policy=\"mute\"\n",
    "p.add_tools(ResetTool(),WheelZoomTool(),PanTool())\n",
    "\n",
    "show(p)"
   ]
  },
  {
   "cell_type": "markdown",
   "metadata": {},
   "source": [
    "**Analysis**  \n",
    "With red triangle markers showing outliers in the control group and grey markers show outliers in experiment group, we can see that\n",
    "- Apparently there're a lot of 'outliers', in both control group and experiment group, meaning the value of evaluation metrics in the control group are different from the baseline value, and the values in experiment group are more volatile than its analytical variance.  \n",
    "- One reason could be that the real/empiracal variance is actually higher than the analytical variance of these evaluation metrics.  \n",
    "  - To find out whether it's the case stated above, we can do a retrospective analysis on historical data to see if the actual variance is higher.\n",
    "  - If historical data is not available, then we can consider run pre/post period AA experiment.(Specifically in this case we can't run pre period AA experiment to check the variance but just mentioned here for future experiments.)\n",
    "- If the historical data is not like this, we can consider\n",
    "  - Talk with the engineering team, see if there's anything related that can possibly cause the difference. \n",
    "  - Any other events happening that might possibly influence this, e,g., anything happens after Oct 23 so that gross conversion rate is looks higher and more volatile.\n",
    "  "
   ]
  },
  {
   "cell_type": "markdown",
   "metadata": {},
   "source": [
    "<a id='cell342'></a>\n",
    "#### 3.4.2 Break the data by weekday/weekends\n",
    "Assume above problems solved, we can also check if there's any weekday/weekend pattern to help us understand more about the data."
   ]
  },
  {
   "cell_type": "code",
   "execution_count": 50,
   "metadata": {},
   "outputs": [
    {
     "name": "stdout",
     "output_type": "stream",
     "text": [
      "['Sat' 'Sun' 'Mon' 'Tue' 'Wed' 'Thu' 'Fri']\n"
     ]
    }
   ],
   "source": [
    "df_control['day_of_week'] = df_control['Date'].apply(lambda x: x.split(',')[0])\n",
    "print(df_control['day_of_week'].unique())"
   ]
  },
  {
   "cell_type": "code",
   "execution_count": 51,
   "metadata": {},
   "outputs": [
    {
     "name": "stdout",
     "output_type": "stream",
     "text": [
      "['Sat' 'Sun' 'Mon' 'Tue' 'Wed' 'Thu' 'Fri']\n"
     ]
    }
   ],
   "source": [
    "df_experiment['day_of_week'] = df_experiment['Date'].apply(lambda x: x.split(',')[0])\n",
    "print(df_experiment['day_of_week'].unique())"
   ]
  },
  {
   "cell_type": "code",
   "execution_count": 65,
   "metadata": {},
   "outputs": [
    {
     "name": "stdout",
     "output_type": "stream",
     "text": [
      "Weekday: 15 choose 6, p-value is 0.6072\n",
      "Weekend: 8 choose 4, p-value is 1\n"
     ]
    }
   ],
   "source": [
    "# Run the sign test for weekday/weekends\n",
    "weekday_list = ['Mon' ,'Tue', 'Wed', 'Thu', 'Fri']\n",
    "k = (df_experiment.loc[df_experiment['day_of_week'].isin(weekday_list),'net_conversion']>df_control.loc[df_control['day_of_week'].isin(weekday_list),'net_conversion']).sum()\n",
    "n = df_control[(df_control['day_of_week'].isin(weekday_list) & (~df_control['net_conversion'].isnull()))].shape[0]\n",
    "print(f\"Weekday: {n} choose {k}, p-value is {round(sign_test(n,k),4)}\")\n",
    "\n",
    "weekend_list = ['Sat','Sun']\n",
    "k = (df_experiment.loc[df_experiment['day_of_week'].isin(weekend_list),'net_conversion']>df_control.loc[df_control['day_of_week'].isin(weekend_list),'net_conversion']).sum()\n",
    "n = df_control[(df_control['day_of_week'].isin(weekend_list) & (~df_control['net_conversion'].isnull()))].shape[0]\n",
    "print(f\"Weekend: {n} choose {k}, p-value is {round(sign_test(n,k),4)}\")"
   ]
  },
  {
   "cell_type": "markdown",
   "metadata": {},
   "source": [
    "**Analysis**  \n",
    "Both p-values are not significant, so there's no weekday/weekend pattern in this experiment."
   ]
  },
  {
   "cell_type": "markdown",
   "metadata": {},
   "source": [
    "<a id='cell343'></a>\n",
    "#### 3.4.3 Additional ways to understand the experiment results\n",
    "\n",
    "- Break the data by other slices\n",
    "  - Assume Udacity have additional data such as the demographics of the users participating in the experiment, or country, language, platform etc., we can do some analysis by slicing the experiment results to those different slices and check if there's any reason highly correlated to the results.  \n",
    "  - If there're some slices that contribute highly positive to the evaluation metric, then we can talk with the decision maker based on the specified population group size that might be positively impacted, see if we want to perform further experiments.\n",
    "\n",
    "- Conduct surveys on user experience for the experiment change  \n",
    "Another thing we could do, again, depending on how much engineering cost or customer service cost, that is to run the experiment for a few more days and send surveys to those who quit enrolling in the control/experiment group, to gather information about their experience in the process.\n",
    "  - E.g., maybe it's because there're more pages in the process and people thought there'll be even more questions, so they lost patience. In this case, for future experiment design, we should be carefully about adding process and clearly convey the message that it's just one question.\n",
    "  - E.g., maybe it's because people don't like how the question is asked. In this case we could collect information on what would the users like better.\n",
    "  - E.g., maybe it's because some people thought they have less than 5 hours per week but actually would be studying for more than 5 hours. In this case, by asking the question and directing the user to access the materials based on user's answer, Udacity loses those students.\n",
    "  - E.g., maybe the button of continuing to enroll is not as obvious as the access to course material button etc...\n",
    "\n",
    "---"
   ]
  },
  {
   "cell_type": "markdown",
   "metadata": {},
   "source": [
    "<a id='cell35'></a>\n",
    "### 3.5 Conclusion"
   ]
  },
  {
   "cell_type": "markdown",
   "metadata": {},
   "source": [
    "- Per the analysis of significance level and practical significance level in [3.2](#cell32) and the sign test in [3.3](#cell33), I recommend not launching the change, at least not yet.\n",
    "- The next step is to do more in-depth analysis and talk with engineering team, based on approaches in [3.4](#cell34) recommendation(summary items listed below)\n",
    "  - Find out why the results have 'outliers', by retrospective analysis, pre/post period AA test, talk with engineering team, find out other possible events that may cause this. See if there're problems instead of the experiment change being non effective.\n",
    "  - Slicing the data by different groups, e.g., platform/country/language/age groups etc. and see if any group show interesting pattern to explain the results.\n",
    "  - (Optional) Send surveys to the cookies that quit enrolling in the experiment group to understand what aspect influence their decisions.\n",
    "- After the steps above, we should be able to rule out the problems and understand the results better. We then can decide whether to do further experiments or just to completely abandon this experiment."
   ]
  },
  {
   "cell_type": "code",
   "execution_count": null,
   "metadata": {},
   "outputs": [],
   "source": []
  }
 ],
 "metadata": {
  "kernelspec": {
   "display_name": "Python 3",
   "language": "python",
   "name": "python3"
  },
  "language_info": {
   "codemirror_mode": {
    "name": "ipython",
    "version": 3
   },
   "file_extension": ".py",
   "mimetype": "text/x-python",
   "name": "python",
   "nbconvert_exporter": "python",
   "pygments_lexer": "ipython3",
   "version": "3.8.5"
  }
 },
 "nbformat": 4,
 "nbformat_minor": 2
}
